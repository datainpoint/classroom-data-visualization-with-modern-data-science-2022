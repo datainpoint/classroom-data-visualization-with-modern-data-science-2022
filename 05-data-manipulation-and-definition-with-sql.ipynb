{
 "cells": [
  {
   "cell_type": "markdown",
   "metadata": {
    "slideshow": {
     "slide_type": "slide"
    }
   },
   "source": [
    "# Data Visualization with Modern Data Science\n",
    "\n",
    "> Data Manipulation and Definition with SQL\n",
    "\n",
    "Yao-Jen Kuo <yaojenkuo@ntu.edu.tw> from [DATAINPOINT](https://www.datainpoint.com)"
   ]
  },
  {
   "cell_type": "code",
   "execution_count": 1,
   "metadata": {
    "slideshow": {
     "slide_type": "subslide"
    }
   },
   "outputs": [],
   "source": [
    "%LOAD sqlite3 db=data/covid19.db timeout=2 shared_cache=true"
   ]
  },
  {
   "cell_type": "markdown",
   "metadata": {
    "slideshow": {
     "slide_type": "subslide"
    }
   },
   "source": [
    "## (Recap)Subcategories of SQL\n",
    "\n",
    "- DQL, short for **Data Query Language**.\n",
    "- DML, short for **Data Manipulation Language**.\n",
    "- DDL, short for **Data Definition Language**.\n",
    "- DCL, short for **Data Control Language**.\n",
    "- TCL, short for **Transaction Control Language**."
   ]
  },
  {
   "cell_type": "markdown",
   "metadata": {
    "slideshow": {
     "slide_type": "subslide"
    }
   },
   "source": [
    "## (Recap)Subcategories of SQL(Cont'd)\n",
    "\n",
    "- DQL: statements begin with `SELECT`.\n",
    "- DML: statements begin with `INSERT`, `UPDATE`, `DELETE`...etc.\n",
    "- DDL: statements begin with `CREATE`, `DROP`, `ALTER`...etc.\n",
    "- DCL: statements begin with `GRANT`, `REVOKE`...etc.\n",
    "- TCL: statements begin with `COMMIT`, `ROLLBACK`...etc."
   ]
  },
  {
   "cell_type": "markdown",
   "metadata": {
    "slideshow": {
     "slide_type": "subslide"
    }
   },
   "source": [
    "## (Recap)What will be covered in this course\n",
    "\n",
    "- DQL.\n",
    "- A bit of DML.\n",
    "- A bit of DDL.\n",
    "- ~~DCL.~~\n",
    "- A little bit of TCL."
   ]
  },
  {
   "cell_type": "markdown",
   "metadata": {
    "slideshow": {
     "slide_type": "slide"
    }
   },
   "source": [
    "## Data Manipulation with SQL"
   ]
  },
  {
   "cell_type": "markdown",
   "metadata": {
    "slideshow": {
     "slide_type": "subslide"
    }
   },
   "source": [
    "## DML(Data Manipulation Language)\n",
    "\n",
    "- `INSERT`\n",
    "- `DELETE`\n",
    "- `UPDATE`"
   ]
  },
  {
   "cell_type": "markdown",
   "metadata": {
    "slideshow": {
     "slide_type": "subslide"
    }
   },
   "source": [
    "## `INSERT` statement\n",
    "\n",
    "```sql\n",
    "INSERT INTO table_name (column_names, ...)\n",
    "VALUES (values, ...);\n",
    "```"
   ]
  },
  {
   "cell_type": "markdown",
   "metadata": {
    "slideshow": {
     "slide_type": "subslide"
    }
   },
   "source": [
    "## Before `INSERT` statement"
   ]
  },
  {
   "cell_type": "code",
   "execution_count": 2,
   "metadata": {
    "slideshow": {
     "slide_type": "-"
    }
   },
   "outputs": [
    {
     "data": {
      "text/html": [
       "<table>\n",
       "<tr>\n",
       "<th>COUNT(*)</th>\n",
       "</tr>\n",
       "<tr>\n",
       "<td>4010</td>\n",
       "</tr>\n",
       "</table>\n",
       "1 row in set (0.00 sec)"
      ],
      "text/plain": [
       "+----------+\n",
       "| COUNT(*) |\n",
       "+----------+\n",
       "| 4010     |\n",
       "+----------+\n",
       "1 row in set (0.00 sec)"
      ]
     },
     "execution_count": 2,
     "metadata": {},
     "output_type": "execute_result"
    }
   ],
   "source": [
    "SELECT COUNT(*)\n",
    "  FROM daily_report;"
   ]
  },
  {
   "cell_type": "code",
   "execution_count": 3,
   "metadata": {
    "slideshow": {
     "slide_type": "subslide"
    }
   },
   "outputs": [],
   "source": [
    "PRAGMA foreign_keys=off;"
   ]
  },
  {
   "cell_type": "code",
   "execution_count": 4,
   "metadata": {
    "slideshow": {
     "slide_type": "-"
    }
   },
   "outputs": [],
   "source": [
    "INSERT INTO daily_report (Combined_Key, Last_Update, Confirmed, Deaths)\n",
    "VALUES ('The Artificial Place', '2022-03-01 00:00:00', 7788, 5566);"
   ]
  },
  {
   "cell_type": "code",
   "execution_count": 5,
   "metadata": {
    "slideshow": {
     "slide_type": "-"
    }
   },
   "outputs": [],
   "source": [
    "PRAGMA foreign_keys=on;"
   ]
  },
  {
   "cell_type": "markdown",
   "metadata": {
    "slideshow": {
     "slide_type": "subslide"
    }
   },
   "source": [
    "## After `INSERT` statement"
   ]
  },
  {
   "cell_type": "code",
   "execution_count": 6,
   "metadata": {},
   "outputs": [
    {
     "data": {
      "text/html": [
       "<table>\n",
       "<tr>\n",
       "<th>COUNT(*)</th>\n",
       "</tr>\n",
       "<tr>\n",
       "<td>4011</td>\n",
       "</tr>\n",
       "</table>\n",
       "1 row in set (0.00 sec)"
      ],
      "text/plain": [
       "+----------+\n",
       "| COUNT(*) |\n",
       "+----------+\n",
       "| 4011     |\n",
       "+----------+\n",
       "1 row in set (0.00 sec)"
      ]
     },
     "execution_count": 6,
     "metadata": {},
     "output_type": "execute_result"
    }
   ],
   "source": [
    "SELECT COUNT(*)\n",
    "  FROM daily_report;"
   ]
  },
  {
   "cell_type": "code",
   "execution_count": 7,
   "metadata": {
    "slideshow": {
     "slide_type": "-"
    }
   },
   "outputs": [
    {
     "data": {
      "text/html": [
       "<table>\n",
       "<tr>\n",
       "<th>Combined_Key</th>\n",
       "<th>Last_Update</th>\n",
       "<th>Confirmed</th>\n",
       "<th>Deaths</th>\n",
       "</tr>\n",
       "<tr>\n",
       "<td>The Artificial Place</td>\n",
       "<td>2022-03-01 00:00:00</td>\n",
       "<td>7788</td>\n",
       "<td>5566</td>\n",
       "</tr>\n",
       "</table>\n",
       "1 row in set (0.00 sec)"
      ],
      "text/plain": [
       "+----------------------+---------------------+-----------+--------+\n",
       "| Combined_Key         | Last_Update         | Confirmed | Deaths |\n",
       "+----------------------+---------------------+-----------+--------+\n",
       "| The Artificial Place | 2022-03-01 00:00:00 | 7788      | 5566   |\n",
       "+----------------------+---------------------+-----------+--------+\n",
       "1 row in set (0.00 sec)"
      ]
     },
     "execution_count": 7,
     "metadata": {},
     "output_type": "execute_result"
    }
   ],
   "source": [
    "SELECT *\n",
    "  FROM daily_report\n",
    " WHERE Combined_Key = 'The Artificial Place';"
   ]
  },
  {
   "cell_type": "markdown",
   "metadata": {
    "slideshow": {
     "slide_type": "subslide"
    }
   },
   "source": [
    "## Multiple `INSERT`s\n",
    "\n",
    "```sql\n",
    "INSERT INTO table_name (column_names, ...)\n",
    "VALUES\n",
    "(values, ...),\n",
    "(values, ...);\n",
    "```"
   ]
  },
  {
   "cell_type": "markdown",
   "metadata": {
    "slideshow": {
     "slide_type": "subslide"
    }
   },
   "source": [
    "## Before multiple `INSERT` statements"
   ]
  },
  {
   "cell_type": "code",
   "execution_count": 8,
   "metadata": {},
   "outputs": [
    {
     "data": {
      "text/html": [
       "<table>\n",
       "<tr>\n",
       "<th>COUNT(*)</th>\n",
       "</tr>\n",
       "<tr>\n",
       "<td>4011</td>\n",
       "</tr>\n",
       "</table>\n",
       "1 row in set (0.00 sec)"
      ],
      "text/plain": [
       "+----------+\n",
       "| COUNT(*) |\n",
       "+----------+\n",
       "| 4011     |\n",
       "+----------+\n",
       "1 row in set (0.00 sec)"
      ]
     },
     "execution_count": 8,
     "metadata": {},
     "output_type": "execute_result"
    }
   ],
   "source": [
    "SELECT COUNT(*)\n",
    "  FROM daily_report;"
   ]
  },
  {
   "cell_type": "code",
   "execution_count": 9,
   "metadata": {},
   "outputs": [],
   "source": [
    "PRAGMA foreign_keys=off;"
   ]
  },
  {
   "cell_type": "code",
   "execution_count": 10,
   "metadata": {},
   "outputs": [],
   "source": [
    "INSERT INTO daily_report (Combined_Key, Last_Update, Confirmed, Deaths)\n",
    "VALUES\n",
    "('The Good Place', '2022-03-01 00:00:00', 0, 0),\n",
    "('The Bad Place', '2022-03-01 00:00:00', 7788, 5566);"
   ]
  },
  {
   "cell_type": "code",
   "execution_count": 11,
   "metadata": {},
   "outputs": [],
   "source": [
    "PRAGMA foreign_keys=on;"
   ]
  },
  {
   "cell_type": "markdown",
   "metadata": {
    "slideshow": {
     "slide_type": "subslide"
    }
   },
   "source": [
    "## After multiple `INSERT` statements"
   ]
  },
  {
   "cell_type": "code",
   "execution_count": 12,
   "metadata": {},
   "outputs": [
    {
     "data": {
      "text/html": [
       "<table>\n",
       "<tr>\n",
       "<th>COUNT(*)</th>\n",
       "</tr>\n",
       "<tr>\n",
       "<td>4013</td>\n",
       "</tr>\n",
       "</table>\n",
       "1 row in set (0.00 sec)"
      ],
      "text/plain": [
       "+----------+\n",
       "| COUNT(*) |\n",
       "+----------+\n",
       "| 4013     |\n",
       "+----------+\n",
       "1 row in set (0.00 sec)"
      ]
     },
     "execution_count": 12,
     "metadata": {},
     "output_type": "execute_result"
    }
   ],
   "source": [
    "SELECT COUNT(*)\n",
    "  FROM daily_report;"
   ]
  },
  {
   "cell_type": "code",
   "execution_count": 13,
   "metadata": {},
   "outputs": [
    {
     "data": {
      "text/html": [
       "<table>\n",
       "<tr>\n",
       "<th>Combined_Key</th>\n",
       "<th>Last_Update</th>\n",
       "<th>Confirmed</th>\n",
       "<th>Deaths</th>\n",
       "</tr>\n",
       "<tr>\n",
       "<td>The Artificial Place</td>\n",
       "<td>2022-03-01 00:00:00</td>\n",
       "<td>7788</td>\n",
       "<td>5566</td>\n",
       "</tr>\n",
       "<tr>\n",
       "<td>The Good Place</td>\n",
       "<td>2022-03-01 00:00:00</td>\n",
       "<td>0</td>\n",
       "<td>0</td>\n",
       "</tr>\n",
       "<tr>\n",
       "<td>The Bad Place</td>\n",
       "<td>2022-03-01 00:00:00</td>\n",
       "<td>7788</td>\n",
       "<td>5566</td>\n",
       "</tr>\n",
       "</table>\n",
       "3 rows in set (0.00 sec)"
      ],
      "text/plain": [
       "+----------------------+---------------------+-----------+--------+\n",
       "| Combined_Key         | Last_Update         | Confirmed | Deaths |\n",
       "+----------------------+---------------------+-----------+--------+\n",
       "| The Artificial Place | 2022-03-01 00:00:00 | 7788      | 5566   |\n",
       "+----------------------+---------------------+-----------+--------+\n",
       "| The Good Place       | 2022-03-01 00:00:00 | 0         | 0      |\n",
       "+----------------------+---------------------+-----------+--------+\n",
       "| The Bad Place        | 2022-03-01 00:00:00 | 7788      | 5566   |\n",
       "+----------------------+---------------------+-----------+--------+\n",
       "3 rows in set (0.00 sec)"
      ]
     },
     "execution_count": 13,
     "metadata": {},
     "output_type": "execute_result"
    }
   ],
   "source": [
    "SELECT *\n",
    "  FROM daily_report\n",
    " WHERE Combined_Key Like 'The%Place';"
   ]
  },
  {
   "cell_type": "markdown",
   "metadata": {
    "slideshow": {
     "slide_type": "subslide"
    }
   },
   "source": [
    "## `DELETE` statement\n",
    "\n",
    "```sql\n",
    "-- delete all records in a table\n",
    "DELETE FROM table_name;\n",
    "-- delete specific records in a table\n",
    "DELETE FROM table_name\n",
    " WHERE conditions;\n",
    "```"
   ]
  },
  {
   "cell_type": "markdown",
   "metadata": {
    "slideshow": {
     "slide_type": "subslide"
    }
   },
   "source": [
    "## Before `DELETE` statement"
   ]
  },
  {
   "cell_type": "code",
   "execution_count": 14,
   "metadata": {},
   "outputs": [
    {
     "data": {
      "text/html": [
       "<table>\n",
       "<tr>\n",
       "<th>COUNT(*)</th>\n",
       "</tr>\n",
       "<tr>\n",
       "<td>4013</td>\n",
       "</tr>\n",
       "</table>\n",
       "1 row in set (0.00 sec)"
      ],
      "text/plain": [
       "+----------+\n",
       "| COUNT(*) |\n",
       "+----------+\n",
       "| 4013     |\n",
       "+----------+\n",
       "1 row in set (0.00 sec)"
      ]
     },
     "execution_count": 14,
     "metadata": {},
     "output_type": "execute_result"
    }
   ],
   "source": [
    "SELECT COUNT(*)\n",
    "  FROM daily_report;"
   ]
  },
  {
   "cell_type": "code",
   "execution_count": 15,
   "metadata": {},
   "outputs": [],
   "source": [
    "PRAGMA foreign_keys=off;"
   ]
  },
  {
   "cell_type": "code",
   "execution_count": 16,
   "metadata": {},
   "outputs": [],
   "source": [
    "DELETE FROM daily_report\n",
    " WHERE Combined_Key LIKE '%Place';"
   ]
  },
  {
   "cell_type": "code",
   "execution_count": 17,
   "metadata": {},
   "outputs": [],
   "source": [
    "PRAGMA foreign_keys=on;"
   ]
  },
  {
   "cell_type": "markdown",
   "metadata": {
    "slideshow": {
     "slide_type": "subslide"
    }
   },
   "source": [
    "## After `DELETE` statement"
   ]
  },
  {
   "cell_type": "code",
   "execution_count": 18,
   "metadata": {
    "slideshow": {
     "slide_type": "-"
    }
   },
   "outputs": [
    {
     "data": {
      "text/html": [
       "<table>\n",
       "<tr>\n",
       "<th>COUNT(*)</th>\n",
       "</tr>\n",
       "<tr>\n",
       "<td>4010</td>\n",
       "</tr>\n",
       "</table>\n",
       "1 row in set (0.00 sec)"
      ],
      "text/plain": [
       "+----------+\n",
       "| COUNT(*) |\n",
       "+----------+\n",
       "| 4010     |\n",
       "+----------+\n",
       "1 row in set (0.00 sec)"
      ]
     },
     "execution_count": 18,
     "metadata": {},
     "output_type": "execute_result"
    }
   ],
   "source": [
    "SELECT COUNT(*)\n",
    "  FROM daily_report;"
   ]
  },
  {
   "cell_type": "markdown",
   "metadata": {
    "slideshow": {
     "slide_type": "subslide"
    }
   },
   "source": [
    "## `UPDATE` statement\n",
    "\n",
    "```sql\n",
    "UPDATE table_name\n",
    "   SET column_names = values,\n",
    "       column_names = values\n",
    " WHERE conditions;\n",
    "```"
   ]
  },
  {
   "cell_type": "markdown",
   "metadata": {
    "slideshow": {
     "slide_type": "subslide"
    }
   },
   "source": [
    "## Before `UPDATE` statement"
   ]
  },
  {
   "cell_type": "code",
   "execution_count": 19,
   "metadata": {},
   "outputs": [
    {
     "data": {
      "text/html": [
       "<table>\n",
       "<tr>\n",
       "<th>UID</th>\n",
       "<th>Combined_Key</th>\n",
       "<th>iso2</th>\n",
       "<th>iso3</th>\n",
       "<th>Country_Region</th>\n",
       "<th>Province_State</th>\n",
       "<th>Admin2</th>\n",
       "<th>Lat</th>\n",
       "<th>Long_</th>\n",
       "<th>Population</th>\n",
       "</tr>\n",
       "<tr>\n",
       "<td>158</td>\n",
       "<td>Taiwan</td>\n",
       "<td>TW</td>\n",
       "<td>TWN</td>\n",
       "<td>Taiwan</td>\n",
       "<td>NULL</td>\n",
       "<td>NULL</td>\n",
       "<td>23.7</td>\n",
       "<td>121</td>\n",
       "<td>23816775</td>\n",
       "</tr>\n",
       "</table>\n",
       "1 row in set (0.00 sec)"
      ],
      "text/plain": [
       "+-----+--------------+------+------+----------------+----------------+--------+------+-------+------------+\n",
       "| UID | Combined_Key | iso2 | iso3 | Country_Region | Province_State | Admin2 | Lat  | Long_ | Population |\n",
       "+-----+--------------+------+------+----------------+----------------+--------+------+-------+------------+\n",
       "| 158 | Taiwan       | TW   | TWN  | Taiwan         | NULL           | NULL   | 23.7 | 121   | 23816775   |\n",
       "+-----+--------------+------+------+----------------+----------------+--------+------+-------+------------+\n",
       "1 row in set (0.00 sec)"
      ]
     },
     "execution_count": 19,
     "metadata": {},
     "output_type": "execute_result"
    }
   ],
   "source": [
    "SELECT *\n",
    "  FROM lookup_table\n",
    " WHERE Country_Region = 'Taiwan';"
   ]
  },
  {
   "cell_type": "code",
   "execution_count": 20,
   "metadata": {
    "slideshow": {
     "slide_type": "subslide"
    }
   },
   "outputs": [],
   "source": [
    "UPDATE lookup_table\n",
    "   SET Lat = 23.69,\n",
    "       Long_ = 120.96\n",
    " WHERE Country_Region = 'Taiwan';"
   ]
  },
  {
   "cell_type": "markdown",
   "metadata": {
    "slideshow": {
     "slide_type": "subslide"
    }
   },
   "source": [
    "## After `UPDATE` statement"
   ]
  },
  {
   "cell_type": "code",
   "execution_count": 21,
   "metadata": {},
   "outputs": [
    {
     "data": {
      "text/html": [
       "<table>\n",
       "<tr>\n",
       "<th>UID</th>\n",
       "<th>Combined_Key</th>\n",
       "<th>iso2</th>\n",
       "<th>iso3</th>\n",
       "<th>Country_Region</th>\n",
       "<th>Province_State</th>\n",
       "<th>Admin2</th>\n",
       "<th>Lat</th>\n",
       "<th>Long_</th>\n",
       "<th>Population</th>\n",
       "</tr>\n",
       "<tr>\n",
       "<td>158</td>\n",
       "<td>Taiwan</td>\n",
       "<td>TW</td>\n",
       "<td>TWN</td>\n",
       "<td>Taiwan</td>\n",
       "<td>NULL</td>\n",
       "<td>NULL</td>\n",
       "<td>23.69</td>\n",
       "<td>120.96</td>\n",
       "<td>23816775</td>\n",
       "</tr>\n",
       "</table>\n",
       "1 row in set (0.00 sec)"
      ],
      "text/plain": [
       "+-----+--------------+------+------+----------------+----------------+--------+-------+--------+------------+\n",
       "| UID | Combined_Key | iso2 | iso3 | Country_Region | Province_State | Admin2 | Lat   | Long_  | Population |\n",
       "+-----+--------------+------+------+----------------+----------------+--------+-------+--------+------------+\n",
       "| 158 | Taiwan       | TW   | TWN  | Taiwan         | NULL           | NULL   | 23.69 | 120.96 | 23816775   |\n",
       "+-----+--------------+------+------+----------------+----------------+--------+-------+--------+------------+\n",
       "1 row in set (0.00 sec)"
      ]
     },
     "execution_count": 21,
     "metadata": {},
     "output_type": "execute_result"
    }
   ],
   "source": [
    "SELECT *\n",
    "  FROM lookup_table\n",
    " WHERE Country_Region = 'Taiwan';"
   ]
  },
  {
   "cell_type": "markdown",
   "metadata": {
    "slideshow": {
     "slide_type": "subslide"
    }
   },
   "source": [
    "## Another `UPDATE` to undo the previous `UPDATE`"
   ]
  },
  {
   "cell_type": "code",
   "execution_count": 22,
   "metadata": {},
   "outputs": [],
   "source": [
    "UPDATE lookup_table\n",
    "   SET Lat = 23.7,\n",
    "       Long_ = 121.0\n",
    " WHERE Country_Region = 'Taiwan';"
   ]
  },
  {
   "cell_type": "code",
   "execution_count": 23,
   "metadata": {},
   "outputs": [
    {
     "data": {
      "text/html": [
       "<table>\n",
       "<tr>\n",
       "<th>UID</th>\n",
       "<th>Combined_Key</th>\n",
       "<th>iso2</th>\n",
       "<th>iso3</th>\n",
       "<th>Country_Region</th>\n",
       "<th>Province_State</th>\n",
       "<th>Admin2</th>\n",
       "<th>Lat</th>\n",
       "<th>Long_</th>\n",
       "<th>Population</th>\n",
       "</tr>\n",
       "<tr>\n",
       "<td>158</td>\n",
       "<td>Taiwan</td>\n",
       "<td>TW</td>\n",
       "<td>TWN</td>\n",
       "<td>Taiwan</td>\n",
       "<td>NULL</td>\n",
       "<td>NULL</td>\n",
       "<td>23.7</td>\n",
       "<td>121</td>\n",
       "<td>23816775</td>\n",
       "</tr>\n",
       "</table>\n",
       "1 row in set (0.00 sec)"
      ],
      "text/plain": [
       "+-----+--------------+------+------+----------------+----------------+--------+------+-------+------------+\n",
       "| UID | Combined_Key | iso2 | iso3 | Country_Region | Province_State | Admin2 | Lat  | Long_ | Population |\n",
       "+-----+--------------+------+------+----------------+----------------+--------+------+-------+------------+\n",
       "| 158 | Taiwan       | TW   | TWN  | Taiwan         | NULL           | NULL   | 23.7 | 121   | 23816775   |\n",
       "+-----+--------------+------+------+----------------+----------------+--------+------+-------+------------+\n",
       "1 row in set (0.00 sec)"
      ]
     },
     "execution_count": 23,
     "metadata": {},
     "output_type": "execute_result"
    }
   ],
   "source": [
    "SELECT *\n",
    "  FROM lookup_table\n",
    " WHERE Country_Region = 'Taiwan';"
   ]
  },
  {
   "cell_type": "markdown",
   "metadata": {
    "slideshow": {
     "slide_type": "slide"
    }
   },
   "source": [
    "## Data Definition with SQL"
   ]
  },
  {
   "cell_type": "markdown",
   "metadata": {
    "slideshow": {
     "slide_type": "subslide"
    }
   },
   "source": [
    "## DDL(Data Definition Language)\n",
    "\n",
    "- `CREATE` tables.\n",
    "- `CREATE` views."
   ]
  },
  {
   "cell_type": "markdown",
   "metadata": {
    "slideshow": {
     "slide_type": "subslide"
    }
   },
   "source": [
    "## What are tables?\n",
    "\n",
    "> A table is a collection of related data held in a table format within a database. It consists of columns and rows.In relational databases, and flat file databases, a table is a set of data elements (values) using a model of vertical columns (identifiable by name) and horizontal rows, the cell being the unit where a row and column intersect. A table has a specified number of columns, but can have any number of rows.\n",
    "\n",
    "Source: <https://en.wikipedia.org/wiki/Table_(database)>"
   ]
  },
  {
   "cell_type": "markdown",
   "metadata": {
    "slideshow": {
     "slide_type": "subslide"
    }
   },
   "source": [
    "## Planning a database\n",
    "\n",
    "1. Design questions.\n",
    "2. Data questions.\n",
    "3. Security questions."
   ]
  },
  {
   "cell_type": "markdown",
   "metadata": {
    "slideshow": {
     "slide_type": "subslide"
    }
   },
   "source": [
    "## Design questions\n",
    "\n",
    "- What are the business requirements?\n",
    "- What tables will I need to fulfill those requirements?\n",
    "- What columns will each table contain?\n",
    "- ...etc."
   ]
  },
  {
   "cell_type": "markdown",
   "metadata": {
    "slideshow": {
     "slide_type": "subslide"
    }
   },
   "source": [
    "## Data questions\n",
    "\n",
    "- How much data will be populated into these tables?\n",
    "- Where will the data come from?\n",
    "- Do we need processes to automatically populate the tables?\n",
    "- ...etc."
   ]
  },
  {
   "cell_type": "markdown",
   "metadata": {
    "slideshow": {
     "slide_type": "subslide"
    }
   },
   "source": [
    "## Security questions\n",
    "\n",
    "- Who should have access to this database?\n",
    "- Who should have access to which tables? Read-only access? Write access?\n",
    "- Is this database critical to business operations?\n",
    "- ...etc."
   ]
  },
  {
   "cell_type": "markdown",
   "metadata": {
    "slideshow": {
     "slide_type": "subslide"
    }
   },
   "source": [
    "## Create a new database using SQLiteStudio\n",
    "\n",
    "Database > Add a Database.\n",
    "\n",
    "![](https://i.imgur.com/ioRzyif.png)"
   ]
  },
  {
   "cell_type": "markdown",
   "metadata": {
    "slideshow": {
     "slide_type": "subslide"
    }
   },
   "source": [
    "## `CREATE` statement\n",
    "\n",
    "```sql\n",
    "CREATE TABLE table_name (\n",
    "    column_name DATA_TYPE CONSTRAINTS,\n",
    "    column_name DATA_TYPE\n",
    ");\n",
    "```"
   ]
  },
  {
   "cell_type": "code",
   "execution_count": 24,
   "metadata": {
    "slideshow": {
     "slide_type": "subslide"
    }
   },
   "outputs": [],
   "source": [
    "DROP TABLE IF EXISTS movies;"
   ]
  },
  {
   "cell_type": "code",
   "execution_count": 25,
   "metadata": {
    "slideshow": {
     "slide_type": "-"
    }
   },
   "outputs": [],
   "source": [
    "CREATE TABLE movies (\n",
    "    id INTEGER PRIMARY KEY AUTOINCREMENT,\n",
    "    title TEXT,\n",
    "    year INTEGER,\n",
    "    rating REAL\n",
    ");"
   ]
  },
  {
   "cell_type": "markdown",
   "metadata": {
    "slideshow": {
     "slide_type": "subslide"
    }
   },
   "source": [
    "## After `CREATE` statement"
   ]
  },
  {
   "cell_type": "code",
   "execution_count": 26,
   "metadata": {},
   "outputs": [
    {
     "data": {
      "text/html": [
       "</table>\n",
       "Empty set (0.00 sec)"
      ],
      "text/plain": [
       "\n",
       "Empty set (0.00 sec)"
      ]
     },
     "execution_count": 26,
     "metadata": {},
     "output_type": "execute_result"
    }
   ],
   "source": [
    "SELECT *\n",
    "  FROM movies;"
   ]
  },
  {
   "cell_type": "code",
   "execution_count": 27,
   "metadata": {},
   "outputs": [
    {
     "data": {
      "text/html": [
       "<table>\n",
       "<tr>\n",
       "<th>COUNT(*)</th>\n",
       "</tr>\n",
       "<tr>\n",
       "<td>0</td>\n",
       "</tr>\n",
       "</table>\n",
       "1 row in set (0.00 sec)"
      ],
      "text/plain": [
       "+----------+\n",
       "| COUNT(*) |\n",
       "+----------+\n",
       "| 0        |\n",
       "+----------+\n",
       "1 row in set (0.00 sec)"
      ]
     },
     "execution_count": 27,
     "metadata": {},
     "output_type": "execute_result"
    }
   ],
   "source": [
    "SELECT COUNT(*)\n",
    "  FROM movies;"
   ]
  },
  {
   "cell_type": "code",
   "execution_count": 28,
   "metadata": {
    "slideshow": {
     "slide_type": "subslide"
    }
   },
   "outputs": [],
   "source": [
    "INSERT INTO movies (title, year, rating)\n",
    "VALUES \n",
    "    ('The Shawshank Redemption', 1994, 9.2),\n",
    "    ('The Godfather', 1972, 9.1),\n",
    "    ('The Dark Knight', 2008, 9.0),\n",
    "    ('Forrest Gump', 1994, 8.8);"
   ]
  },
  {
   "cell_type": "markdown",
   "metadata": {
    "slideshow": {
     "slide_type": "subslide"
    }
   },
   "source": [
    "## After multiple `INSERT`s"
   ]
  },
  {
   "cell_type": "code",
   "execution_count": 29,
   "metadata": {
    "slideshow": {
     "slide_type": "-"
    }
   },
   "outputs": [
    {
     "data": {
      "text/html": [
       "<table>\n",
       "<tr>\n",
       "<th>id</th>\n",
       "<th>title</th>\n",
       "<th>year</th>\n",
       "<th>rating</th>\n",
       "</tr>\n",
       "<tr>\n",
       "<td>1</td>\n",
       "<td>The Shawshank Redemption</td>\n",
       "<td>1994</td>\n",
       "<td>9.2</td>\n",
       "</tr>\n",
       "<tr>\n",
       "<td>2</td>\n",
       "<td>The Godfather</td>\n",
       "<td>1972</td>\n",
       "<td>9.1</td>\n",
       "</tr>\n",
       "<tr>\n",
       "<td>3</td>\n",
       "<td>The Dark Knight</td>\n",
       "<td>2008</td>\n",
       "<td>9</td>\n",
       "</tr>\n",
       "<tr>\n",
       "<td>4</td>\n",
       "<td>Forrest Gump</td>\n",
       "<td>1994</td>\n",
       "<td>8.8</td>\n",
       "</tr>\n",
       "</table>\n",
       "4 rows in set (0.00 sec)"
      ],
      "text/plain": [
       "+----+--------------------------+------+--------+\n",
       "| id | title                    | year | rating |\n",
       "+----+--------------------------+------+--------+\n",
       "| 1  | The Shawshank Redemption | 1994 | 9.2    |\n",
       "+----+--------------------------+------+--------+\n",
       "| 2  | The Godfather            | 1972 | 9.1    |\n",
       "+----+--------------------------+------+--------+\n",
       "| 3  | The Dark Knight          | 2008 | 9      |\n",
       "+----+--------------------------+------+--------+\n",
       "| 4  | Forrest Gump             | 1994 | 8.8    |\n",
       "+----+--------------------------+------+--------+\n",
       "4 rows in set (0.00 sec)"
      ]
     },
     "execution_count": 29,
     "metadata": {},
     "output_type": "execute_result"
    }
   ],
   "source": [
    "SELECT *\n",
    "  FROM movies;"
   ]
  },
  {
   "cell_type": "code",
   "execution_count": 30,
   "metadata": {},
   "outputs": [
    {
     "data": {
      "text/html": [
       "<table>\n",
       "<tr>\n",
       "<th>COUNT(*)</th>\n",
       "</tr>\n",
       "<tr>\n",
       "<td>4</td>\n",
       "</tr>\n",
       "</table>\n",
       "1 row in set (0.00 sec)"
      ],
      "text/plain": [
       "+----------+\n",
       "| COUNT(*) |\n",
       "+----------+\n",
       "| 4        |\n",
       "+----------+\n",
       "1 row in set (0.00 sec)"
      ]
     },
     "execution_count": 30,
     "metadata": {},
     "output_type": "execute_result"
    }
   ],
   "source": [
    "SELECT COUNT(*)\n",
    "  FROM movies;"
   ]
  },
  {
   "cell_type": "code",
   "execution_count": 31,
   "metadata": {
    "slideshow": {
     "slide_type": "subslide"
    }
   },
   "outputs": [],
   "source": [
    "CREATE TABLE actors (\n",
    "    id INTEGER PRIMARY KEY AUTOINCREMENT,\n",
    "    name TEXT,\n",
    "    movie_id INTEGER,\n",
    "    FOREIGN KEY (movie_id) REFERENCES movies (id)\n",
    ");"
   ]
  },
  {
   "cell_type": "code",
   "execution_count": 32,
   "metadata": {},
   "outputs": [],
   "source": [
    "INSERT INTO actors (name, movie_id)\n",
    "VALUES \n",
    "    ('Tim Robbins', 1),\n",
    "    ('Morgan Freeman', 1),\n",
    "    ('Marlon Brando', 2),\n",
    "    ('Al Pacino', 2),\n",
    "    ('Christian Bale', 3),\n",
    "    ('Heath Ledger', 3),\n",
    "    ('Tom Hanks', 4),\n",
    "    ('Robin Wright', 4);"
   ]
  },
  {
   "cell_type": "code",
   "execution_count": 33,
   "metadata": {},
   "outputs": [
    {
     "data": {
      "text/html": [
       "<table>\n",
       "<tr>\n",
       "<th>id</th>\n",
       "<th>name</th>\n",
       "<th>movie_id</th>\n",
       "</tr>\n",
       "<tr>\n",
       "<td>1</td>\n",
       "<td>Tim Robbins</td>\n",
       "<td>1</td>\n",
       "</tr>\n",
       "<tr>\n",
       "<td>2</td>\n",
       "<td>Morgan Freeman</td>\n",
       "<td>1</td>\n",
       "</tr>\n",
       "<tr>\n",
       "<td>3</td>\n",
       "<td>Marlon Brando</td>\n",
       "<td>2</td>\n",
       "</tr>\n",
       "<tr>\n",
       "<td>4</td>\n",
       "<td>Al Pacino</td>\n",
       "<td>2</td>\n",
       "</tr>\n",
       "<tr>\n",
       "<td>5</td>\n",
       "<td>Christian Bale</td>\n",
       "<td>3</td>\n",
       "</tr>\n",
       "<tr>\n",
       "<td>6</td>\n",
       "<td>Heath Ledger</td>\n",
       "<td>3</td>\n",
       "</tr>\n",
       "<tr>\n",
       "<td>7</td>\n",
       "<td>Tom Hanks</td>\n",
       "<td>4</td>\n",
       "</tr>\n",
       "<tr>\n",
       "<td>8</td>\n",
       "<td>Robin Wright</td>\n",
       "<td>4</td>\n",
       "</tr>\n",
       "</table>\n",
       "8 rows in set (0.00 sec)"
      ],
      "text/plain": [
       "+----+----------------+----------+\n",
       "| id | name           | movie_id |\n",
       "+----+----------------+----------+\n",
       "| 1  | Tim Robbins    | 1        |\n",
       "+----+----------------+----------+\n",
       "| 2  | Morgan Freeman | 1        |\n",
       "+----+----------------+----------+\n",
       "| 3  | Marlon Brando  | 2        |\n",
       "+----+----------------+----------+\n",
       "| 4  | Al Pacino      | 2        |\n",
       "+----+----------------+----------+\n",
       "| 5  | Christian Bale | 3        |\n",
       "+----+----------------+----------+\n",
       "| 6  | Heath Ledger   | 3        |\n",
       "+----+----------------+----------+\n",
       "| 7  | Tom Hanks      | 4        |\n",
       "+----+----------------+----------+\n",
       "| 8  | Robin Wright   | 4        |\n",
       "+----+----------------+----------+\n",
       "8 rows in set (0.00 sec)"
      ]
     },
     "execution_count": 33,
     "metadata": {},
     "output_type": "execute_result"
    }
   ],
   "source": [
    "SELECT *\n",
    "  FROM actors;"
   ]
  },
  {
   "cell_type": "code",
   "execution_count": 34,
   "metadata": {
    "slideshow": {
     "slide_type": "subslide"
    }
   },
   "outputs": [
    {
     "data": {
      "text/html": [
       "<table>\n",
       "<tr>\n",
       "<th>id</th>\n",
       "<th>title</th>\n",
       "<th>year</th>\n",
       "<th>rating</th>\n",
       "<th>id</th>\n",
       "<th>name</th>\n",
       "<th>movie_id</th>\n",
       "</tr>\n",
       "<tr>\n",
       "<td>1</td>\n",
       "<td>The Shawshank Redemption</td>\n",
       "<td>1994</td>\n",
       "<td>9.2</td>\n",
       "<td>1</td>\n",
       "<td>Tim Robbins</td>\n",
       "<td>1</td>\n",
       "</tr>\n",
       "<tr>\n",
       "<td>1</td>\n",
       "<td>The Shawshank Redemption</td>\n",
       "<td>1994</td>\n",
       "<td>9.2</td>\n",
       "<td>2</td>\n",
       "<td>Morgan Freeman</td>\n",
       "<td>1</td>\n",
       "</tr>\n",
       "<tr>\n",
       "<td>2</td>\n",
       "<td>The Godfather</td>\n",
       "<td>1972</td>\n",
       "<td>9.1</td>\n",
       "<td>3</td>\n",
       "<td>Marlon Brando</td>\n",
       "<td>2</td>\n",
       "</tr>\n",
       "<tr>\n",
       "<td>2</td>\n",
       "<td>The Godfather</td>\n",
       "<td>1972</td>\n",
       "<td>9.1</td>\n",
       "<td>4</td>\n",
       "<td>Al Pacino</td>\n",
       "<td>2</td>\n",
       "</tr>\n",
       "<tr>\n",
       "<td>3</td>\n",
       "<td>The Dark Knight</td>\n",
       "<td>2008</td>\n",
       "<td>9</td>\n",
       "<td>5</td>\n",
       "<td>Christian Bale</td>\n",
       "<td>3</td>\n",
       "</tr>\n",
       "<tr>\n",
       "<td>3</td>\n",
       "<td>The Dark Knight</td>\n",
       "<td>2008</td>\n",
       "<td>9</td>\n",
       "<td>6</td>\n",
       "<td>Heath Ledger</td>\n",
       "<td>3</td>\n",
       "</tr>\n",
       "<tr>\n",
       "<td>4</td>\n",
       "<td>Forrest Gump</td>\n",
       "<td>1994</td>\n",
       "<td>8.8</td>\n",
       "<td>7</td>\n",
       "<td>Tom Hanks</td>\n",
       "<td>4</td>\n",
       "</tr>\n",
       "<tr>\n",
       "<td>4</td>\n",
       "<td>Forrest Gump</td>\n",
       "<td>1994</td>\n",
       "<td>8.8</td>\n",
       "<td>8</td>\n",
       "<td>Robin Wright</td>\n",
       "<td>4</td>\n",
       "</tr>\n",
       "</table>\n",
       "8 rows in set (0.00 sec)"
      ],
      "text/plain": [
       "+----+--------------------------+------+--------+----+----------------+----------+\n",
       "| id | title                    | year | rating | id | name           | movie_id |\n",
       "+----+--------------------------+------+--------+----+----------------+----------+\n",
       "| 1  | The Shawshank Redemption | 1994 | 9.2    | 1  | Tim Robbins    | 1        |\n",
       "+----+--------------------------+------+--------+----+----------------+----------+\n",
       "| 1  | The Shawshank Redemption | 1994 | 9.2    | 2  | Morgan Freeman | 1        |\n",
       "+----+--------------------------+------+--------+----+----------------+----------+\n",
       "| 2  | The Godfather            | 1972 | 9.1    | 3  | Marlon Brando  | 2        |\n",
       "+----+--------------------------+------+--------+----+----------------+----------+\n",
       "| 2  | The Godfather            | 1972 | 9.1    | 4  | Al Pacino      | 2        |\n",
       "+----+--------------------------+------+--------+----+----------------+----------+\n",
       "| 3  | The Dark Knight          | 2008 | 9      | 5  | Christian Bale | 3        |\n",
       "+----+--------------------------+------+--------+----+----------------+----------+\n",
       "| 3  | The Dark Knight          | 2008 | 9      | 6  | Heath Ledger   | 3        |\n",
       "+----+--------------------------+------+--------+----+----------------+----------+\n",
       "| 4  | Forrest Gump             | 1994 | 8.8    | 7  | Tom Hanks      | 4        |\n",
       "+----+--------------------------+------+--------+----+----------------+----------+\n",
       "| 4  | Forrest Gump             | 1994 | 8.8    | 8  | Robin Wright   | 4        |\n",
       "+----+--------------------------+------+--------+----+----------------+----------+\n",
       "8 rows in set (0.00 sec)"
      ]
     },
     "execution_count": 34,
     "metadata": {},
     "output_type": "execute_result"
    }
   ],
   "source": [
    "SELECT *\n",
    "  FROM movies\n",
    "  JOIN actors\n",
    "    ON movies.id = actors.movie_id;"
   ]
  },
  {
   "cell_type": "code",
   "execution_count": 35,
   "metadata": {
    "slideshow": {
     "slide_type": "subslide"
    }
   },
   "outputs": [],
   "source": [
    "PRAGMA foreign_keys=off;"
   ]
  },
  {
   "cell_type": "code",
   "execution_count": 36,
   "metadata": {
    "slideshow": {
     "slide_type": "-"
    }
   },
   "outputs": [],
   "source": [
    "DELETE FROM movies;"
   ]
  },
  {
   "cell_type": "code",
   "execution_count": 37,
   "metadata": {},
   "outputs": [],
   "source": [
    "DELETE FROM actors;"
   ]
  },
  {
   "cell_type": "code",
   "execution_count": 38,
   "metadata": {},
   "outputs": [],
   "source": [
    "PRAGMA foreign_keys=on;"
   ]
  },
  {
   "cell_type": "markdown",
   "metadata": {
    "slideshow": {
     "slide_type": "subslide"
    }
   },
   "source": [
    "## After `DELETE` statement"
   ]
  },
  {
   "cell_type": "code",
   "execution_count": 39,
   "metadata": {},
   "outputs": [
    {
     "data": {
      "text/html": [
       "</table>\n",
       "Empty set (0.00 sec)"
      ],
      "text/plain": [
       "\n",
       "Empty set (0.00 sec)"
      ]
     },
     "execution_count": 39,
     "metadata": {},
     "output_type": "execute_result"
    }
   ],
   "source": [
    "SELECT *\n",
    "  FROM movies;"
   ]
  },
  {
   "cell_type": "code",
   "execution_count": 40,
   "metadata": {},
   "outputs": [
    {
     "data": {
      "text/html": [
       "</table>\n",
       "Empty set (0.00 sec)"
      ],
      "text/plain": [
       "\n",
       "Empty set (0.00 sec)"
      ]
     },
     "execution_count": 40,
     "metadata": {},
     "output_type": "execute_result"
    }
   ],
   "source": [
    "SELECT *\n",
    "  FROM actors;"
   ]
  },
  {
   "cell_type": "markdown",
   "metadata": {
    "slideshow": {
     "slide_type": "subslide"
    }
   },
   "source": [
    "## `DROP` statement\n",
    "\n",
    "```sql\n",
    "DROP TABLE IF EXISTS table_name;\n",
    "```"
   ]
  },
  {
   "cell_type": "code",
   "execution_count": 41,
   "metadata": {},
   "outputs": [],
   "source": [
    "DROP TABLE IF EXISTS movies;"
   ]
  },
  {
   "cell_type": "code",
   "execution_count": 42,
   "metadata": {},
   "outputs": [],
   "source": [
    "DROP TABLE IF EXISTS actors;"
   ]
  },
  {
   "cell_type": "markdown",
   "metadata": {
    "slideshow": {
     "slide_type": "subslide"
    }
   },
   "source": [
    "## After `DROP` statement"
   ]
  },
  {
   "cell_type": "code",
   "execution_count": 43,
   "metadata": {},
   "outputs": [
    {
     "ename": "Error",
     "evalue": "sqlite3_statement_backend::prepare: no such table: movies while preparing \"SELECT *\n  FROM movies;\".",
     "output_type": "error",
     "traceback": [
      "Error: sqlite3_statement_backend::prepare: no such table: movies while preparing \"SELECT *\n  FROM movies;\"."
     ]
    }
   ],
   "source": [
    "SELECT *\n",
    "  FROM movies;"
   ]
  },
  {
   "cell_type": "code",
   "execution_count": 44,
   "metadata": {},
   "outputs": [
    {
     "ename": "Error",
     "evalue": "sqlite3_statement_backend::prepare: no such table: actors while preparing \"SELECT *\n  FROM actors;\".",
     "output_type": "error",
     "traceback": [
      "Error: sqlite3_statement_backend::prepare: no such table: actors while preparing \"SELECT *\n  FROM actors;\"."
     ]
    }
   ],
   "source": [
    "SELECT *\n",
    "  FROM actors;"
   ]
  },
  {
   "cell_type": "markdown",
   "metadata": {
    "slideshow": {
     "slide_type": "subslide"
    }
   },
   "source": [
    "## We can also use SQLiteStudio to import CSV file as a table\n",
    "\n",
    "![](https://i.imgur.com/qhMFMRP.png)"
   ]
  },
  {
   "cell_type": "markdown",
   "metadata": {
    "slideshow": {
     "slide_type": "subslide"
    }
   },
   "source": [
    "## Try to `DROP DATABASE covid19.db` and create from scratch\n",
    "\n",
    "- [daily_report.csv](https://ntu-viz.s3.ap-northeast-1.amazonaws.com/covid19/daily_report.csv)\n",
    "- [lookup_table.csv](https://ntu-viz.s3.ap-northeast-1.amazonaws.com/covid19/lookup_table.csv)\n",
    "- [time_series.csv](https://ntu-viz.s3.ap-northeast-1.amazonaws.com/covid19/time_series.csv)"
   ]
  },
  {
   "cell_type": "markdown",
   "metadata": {
    "slideshow": {
     "slide_type": "subslide"
    }
   },
   "source": [
    "## What are views?\n",
    "\n",
    "> In a database, a view is the result set of a stored query on the data, which the database users can query just as they would in a persistent database collection object. This pre-established query command is kept in the database dictionary.\n",
    "\n",
    "Source: <https://en.wikipedia.org/wiki/View_(SQL)>"
   ]
  },
  {
   "cell_type": "markdown",
   "metadata": {
    "slideshow": {
     "slide_type": "subslide"
    }
   },
   "source": [
    "## Views are like\n",
    "\n",
    "- A persistent sub-query.\n",
    "- A stored `SELECT` statement that feels like a table for users.\n",
    "- A feature lies between sub-queries and creating a table."
   ]
  },
  {
   "cell_type": "markdown",
   "metadata": {
    "slideshow": {
     "slide_type": "subslide"
    }
   },
   "source": [
    "## `CREATE VIEW` statement\n",
    "\n",
    "```sql\n",
    "CREATE VIEW view_name (column_names)\n",
    "    AS\n",
    "SELECT ...;\n",
    "```"
   ]
  },
  {
   "cell_type": "markdown",
   "metadata": {
    "slideshow": {
     "slide_type": "subslide"
    }
   },
   "source": [
    "## The incidence rate summary"
   ]
  },
  {
   "cell_type": "code",
   "execution_count": 45,
   "metadata": {},
   "outputs": [
    {
     "data": {
      "text/html": [
       "<table>\n",
       "<tr>\n",
       "<th>Country_Region</th>\n",
       "<th>Incidence_Rate</th>\n",
       "</tr>\n",
       "<tr>\n",
       "<td>Andorra</td>\n",
       "<td>49180</td>\n",
       "</tr>\n",
       "<tr>\n",
       "<td>Denmark</td>\n",
       "<td>47297</td>\n",
       "</tr>\n",
       "<tr>\n",
       "<td>Slovenia</td>\n",
       "<td>42936</td>\n",
       "</tr>\n",
       "<tr>\n",
       "<td>San Marino</td>\n",
       "<td>42338</td>\n",
       "</tr>\n",
       "<tr>\n",
       "<td>Israel</td>\n",
       "<td>41990</td>\n",
       "</tr>\n",
       "<tr>\n",
       "<td>Georgia</td>\n",
       "<td>40245</td>\n",
       "</tr>\n",
       "<tr>\n",
       "<td>Seychelles</td>\n",
       "<td>40000</td>\n",
       "</tr>\n",
       "<tr>\n",
       "<td>Slovakia</td>\n",
       "<td>38818</td>\n",
       "</tr>\n",
       "<tr>\n",
       "<td>Iceland</td>\n",
       "<td>38049</td>\n",
       "</tr>\n",
       "<tr>\n",
       "<td>Estonia</td>\n",
       "<td>37272</td>\n",
       "</tr>\n",
       "<tr>\n",
       "<td>Netherlands</td>\n",
       "<td>36824</td>\n",
       "</tr>\n",
       "<tr>\n",
       "<td>Montenegro</td>\n",
       "<td>36653</td>\n",
       "</tr>\n",
       "<tr>\n",
       "<td>Latvia</td>\n",
       "<td>34626</td>\n",
       "</tr>\n",
       "<tr>\n",
       "<td>France</td>\n",
       "<td>33580</td>\n",
       "</tr>\n",
       "<tr>\n",
       "<td>Czechia</td>\n",
       "<td>33376</td>\n",
       "</tr>\n",
       "<tr>\n",
       "<td>Lithuania</td>\n",
       "<td>33154</td>\n",
       "</tr>\n",
       "<tr>\n",
       "<td>Switzerland</td>\n",
       "<td>32375</td>\n",
       "</tr>\n",
       "<tr>\n",
       "<td>Portugal</td>\n",
       "<td>31996</td>\n",
       "</tr>\n",
       "<tr>\n",
       "<td>Maldives</td>\n",
       "<td>31485</td>\n",
       "</tr>\n",
       "<tr>\n",
       "<td>Liechtenstein</td>\n",
       "<td>31468</td>\n",
       "</tr>\n",
       "<tr>\n",
       "<td>Belgium</td>\n",
       "<td>30952</td>\n",
       "</tr>\n",
       "<tr>\n",
       "<td>Bahrain</td>\n",
       "<td>30259</td>\n",
       "</tr>\n",
       "<tr>\n",
       "<td>Austria</td>\n",
       "<td>29753</td>\n",
       "</tr>\n",
       "<tr>\n",
       "<td>Luxembourg</td>\n",
       "<td>29262</td>\n",
       "</tr>\n",
       "<tr>\n",
       "<td>United Kingdom</td>\n",
       "<td>28326</td>\n",
       "</tr>\n",
       "<tr>\n",
       "<td>Mongolia</td>\n",
       "<td>27702</td>\n",
       "</tr>\n",
       "<tr>\n",
       "<td>Cyprus</td>\n",
       "<td>26712</td>\n",
       "</tr>\n",
       "<tr>\n",
       "<td>Ireland</td>\n",
       "<td>26336</td>\n",
       "</tr>\n",
       "<tr>\n",
       "<td>Croatia</td>\n",
       "<td>25693</td>\n",
       "</tr>\n",
       "<tr>\n",
       "<td>Uruguay</td>\n",
       "<td>24252</td>\n",
       "</tr>\n",
       "<tr>\n",
       "<td>Monaco</td>\n",
       "<td>23848</td>\n",
       "</tr>\n",
       "<tr>\n",
       "<td>US</td>\n",
       "<td>23788</td>\n",
       "</tr>\n",
       "<tr>\n",
       "<td>Sweden</td>\n",
       "<td>23637</td>\n",
       "</tr>\n",
       "<tr>\n",
       "<td>Spain</td>\n",
       "<td>23387</td>\n",
       "</tr>\n",
       "<tr>\n",
       "<td>Greece</td>\n",
       "<td>23233</td>\n",
       "</tr>\n",
       "<tr>\n",
       "<td>Norway</td>\n",
       "<td>22912</td>\n",
       "</tr>\n",
       "<tr>\n",
       "<td>Serbia</td>\n",
       "<td>21871</td>\n",
       "</tr>\n",
       "<tr>\n",
       "<td>Italy</td>\n",
       "<td>21177</td>\n",
       "</tr>\n",
       "<tr>\n",
       "<td>Palau</td>\n",
       "<td>20996</td>\n",
       "</tr>\n",
       "<tr>\n",
       "<td>Argentina</td>\n",
       "<td>19693</td>\n",
       "</tr>\n",
       "<tr>\n",
       "<td>Barbados</td>\n",
       "<td>19196</td>\n",
       "</tr>\n",
       "<tr>\n",
       "<td>Hungary</td>\n",
       "<td>18503</td>\n",
       "</tr>\n",
       "<tr>\n",
       "<td>Germany</td>\n",
       "<td>17933</td>\n",
       "</tr>\n",
       "<tr>\n",
       "<td>Panama</td>\n",
       "<td>17509</td>\n",
       "</tr>\n",
       "<tr>\n",
       "<td>Chile</td>\n",
       "<td>17415</td>\n",
       "</tr>\n",
       "<tr>\n",
       "<td>Turkey</td>\n",
       "<td>16705</td>\n",
       "</tr>\n",
       "<tr>\n",
       "<td>Malta</td>\n",
       "<td>16142</td>\n",
       "</tr>\n",
       "<tr>\n",
       "<td>Jordan</td>\n",
       "<td>15992</td>\n",
       "</tr>\n",
       "<tr>\n",
       "<td>Costa Rica</td>\n",
       "<td>15840</td>\n",
       "</tr>\n",
       "<tr>\n",
       "<td>Bulgaria</td>\n",
       "<td>15705</td>\n",
       "</tr>\n",
       "<tr>\n",
       "<td>Lebanon</td>\n",
       "<td>15657</td>\n",
       "</tr>\n",
       "<tr>\n",
       "<td>Dominica</td>\n",
       "<td>15429</td>\n",
       "</tr>\n",
       "<tr>\n",
       "<td>Poland</td>\n",
       "<td>14973</td>\n",
       "</tr>\n",
       "<tr>\n",
       "<td>Brunei</td>\n",
       "<td>14524</td>\n",
       "</tr>\n",
       "<tr>\n",
       "<td>Kuwait</td>\n",
       "<td>14515</td>\n",
       "</tr>\n",
       "<tr>\n",
       "<td>North Macedonia</td>\n",
       "<td>14268</td>\n",
       "</tr>\n",
       "<tr>\n",
       "<td>Belize</td>\n",
       "<td>14258</td>\n",
       "</tr>\n",
       "<tr>\n",
       "<td>Romania</td>\n",
       "<td>14209</td>\n",
       "</tr>\n",
       "<tr>\n",
       "<td>Armenia</td>\n",
       "<td>14168</td>\n",
       "</tr>\n",
       "<tr>\n",
       "<td>Brazil</td>\n",
       "<td>13703</td>\n",
       "</tr>\n",
       "<tr>\n",
       "<td>Suriname</td>\n",
       "<td>13333</td>\n",
       "</tr>\n",
       "<tr>\n",
       "<td>Mauritius</td>\n",
       "<td>13181</td>\n",
       "</tr>\n",
       "<tr>\n",
       "<td>Australia</td>\n",
       "<td>12706</td>\n",
       "</tr>\n",
       "<tr>\n",
       "<td>West Bank and Gaza</td>\n",
       "<td>12662</td>\n",
       "</tr>\n",
       "<tr>\n",
       "<td>Colombia</td>\n",
       "<td>12566</td>\n",
       "</tr>\n",
       "<tr>\n",
       "<td>Kosovo</td>\n",
       "<td>12497</td>\n",
       "</tr>\n",
       "<tr>\n",
       "<td>Moldova</td>\n",
       "<td>12439</td>\n",
       "</tr>\n",
       "<tr>\n",
       "<td>Qatar</td>\n",
       "<td>12390</td>\n",
       "</tr>\n",
       "<tr>\n",
       "<td>Singapore</td>\n",
       "<td>12382</td>\n",
       "</tr>\n",
       "<tr>\n",
       "<td>Saint Lucia</td>\n",
       "<td>12358</td>\n",
       "</tr>\n",
       "<tr>\n",
       "<td>Grenada</td>\n",
       "<td>12166</td>\n",
       "</tr>\n",
       "<tr>\n",
       "<td>Finland</td>\n",
       "<td>11510</td>\n",
       "</tr>\n",
       "<tr>\n",
       "<td>Bosnia and Herzegovina</td>\n",
       "<td>11314</td>\n",
       "</tr>\n",
       "<tr>\n",
       "<td>Botswana</td>\n",
       "<td>11224</td>\n",
       "</tr>\n",
       "<tr>\n",
       "<td>Russia</td>\n",
       "<td>11020</td>\n",
       "</tr>\n",
       "<tr>\n",
       "<td>Ukraine</td>\n",
       "<td>10981</td>\n",
       "</tr>\n",
       "<tr>\n",
       "<td>Peru</td>\n",
       "<td>10780</td>\n",
       "</tr>\n",
       "<tr>\n",
       "<td>Malaysia</td>\n",
       "<td>10549</td>\n",
       "</tr>\n",
       "<tr>\n",
       "<td>Saint Kitts and Nevis</td>\n",
       "<td>10396</td>\n",
       "</tr>\n",
       "<tr>\n",
       "<td>Cabo Verde</td>\n",
       "<td>10051</td>\n",
       "</tr>\n",
       "<tr>\n",
       "<td>Belarus</td>\n",
       "<td>9733</td>\n",
       "</tr>\n",
       "<tr>\n",
       "<td>Cuba</td>\n",
       "<td>9445</td>\n",
       "</tr>\n",
       "<tr>\n",
       "<td>Albania</td>\n",
       "<td>9436</td>\n",
       "</tr>\n",
       "<tr>\n",
       "<td>Trinidad and Tobago</td>\n",
       "<td>9129</td>\n",
       "</tr>\n",
       "<tr>\n",
       "<td>Paraguay</td>\n",
       "<td>8991</td>\n",
       "</tr>\n",
       "<tr>\n",
       "<td>United Arab Emirates</td>\n",
       "<td>8897</td>\n",
       "</tr>\n",
       "<tr>\n",
       "<td>Canada</td>\n",
       "<td>8634</td>\n",
       "</tr>\n",
       "<tr>\n",
       "<td>Tunisia</td>\n",
       "<td>8446</td>\n",
       "</tr>\n",
       "<tr>\n",
       "<td>Bahamas</td>\n",
       "<td>8425</td>\n",
       "</tr>\n",
       "<tr>\n",
       "<td>Iran</td>\n",
       "<td>8395</td>\n",
       "</tr>\n",
       "<tr>\n",
       "<td>Guyana</td>\n",
       "<td>7999</td>\n",
       "</tr>\n",
       "<tr>\n",
       "<td>Azerbaijan</td>\n",
       "<td>7748</td>\n",
       "</tr>\n",
       "<tr>\n",
       "<td>Bolivia</td>\n",
       "<td>7653</td>\n",
       "</tr>\n",
       "<tr>\n",
       "<td>Antigua and Barbuda</td>\n",
       "<td>7594</td>\n",
       "</tr>\n",
       "<tr>\n",
       "<td>Saint Vincent and the Grenadines</td>\n",
       "<td>7489</td>\n",
       "</tr>\n",
       "<tr>\n",
       "<td>Oman</td>\n",
       "<td>7485</td>\n",
       "</tr>\n",
       "<tr>\n",
       "<td>Kazakhstan</td>\n",
       "<td>7406</td>\n",
       "</tr>\n",
       "<tr>\n",
       "<td>Libya</td>\n",
       "<td>7195</td>\n",
       "</tr>\n",
       "<tr>\n",
       "<td>Fiji</td>\n",
       "<td>7131</td>\n",
       "</tr>\n",
       "<tr>\n",
       "<td>Korea, South</td>\n",
       "<td>6384</td>\n",
       "</tr>\n",
       "<tr>\n",
       "<td>South Africa</td>\n",
       "<td>6194</td>\n",
       "</tr>\n",
       "<tr>\n",
       "<td>Namibia</td>\n",
       "<td>6187</td>\n",
       "</tr>\n",
       "<tr>\n",
       "<td>Eswatini</td>\n",
       "<td>5961</td>\n",
       "</tr>\n",
       "<tr>\n",
       "<td>Iraq</td>\n",
       "<td>5725</td>\n",
       "</tr>\n",
       "<tr>\n",
       "<td>Dominican Republic</td>\n",
       "<td>5296</td>\n",
       "</tr>\n",
       "<tr>\n",
       "<td>Ecuador</td>\n",
       "<td>4691</td>\n",
       "</tr>\n",
       "<tr>\n",
       "<td>Guatemala</td>\n",
       "<td>4336</td>\n",
       "</tr>\n",
       "<tr>\n",
       "<td>Jamaica</td>\n",
       "<td>4322</td>\n",
       "</tr>\n",
       "<tr>\n",
       "<td>Mexico</td>\n",
       "<td>4310</td>\n",
       "</tr>\n",
       "<tr>\n",
       "<td>Honduras</td>\n",
       "<td>4151</td>\n",
       "</tr>\n",
       "<tr>\n",
       "<td>Thailand</td>\n",
       "<td>4143</td>\n",
       "</tr>\n",
       "<tr>\n",
       "<td>Japan</td>\n",
       "<td>3967</td>\n",
       "</tr>\n",
       "<tr>\n",
       "<td>Holy See</td>\n",
       "<td>3584</td>\n",
       "</tr>\n",
       "<tr>\n",
       "<td>Vietnam</td>\n",
       "<td>3537</td>\n",
       "</tr>\n",
       "<tr>\n",
       "<td>Nepal</td>\n",
       "<td>3353</td>\n",
       "</tr>\n",
       "<tr>\n",
       "<td>Philippines</td>\n",
       "<td>3341</td>\n",
       "</tr>\n",
       "<tr>\n",
       "<td>Morocco</td>\n",
       "<td>3145</td>\n",
       "</tr>\n",
       "<tr>\n",
       "<td>India</td>\n",
       "<td>3130</td>\n",
       "</tr>\n",
       "<tr>\n",
       "<td>Kyrgyzstan</td>\n",
       "<td>3073</td>\n",
       "</tr>\n",
       "<tr>\n",
       "<td>Sri Lanka</td>\n",
       "<td>3016</td>\n",
       "</tr>\n",
       "<tr>\n",
       "<td>Sao Tome and Principe</td>\n",
       "<td>2707</td>\n",
       "</tr>\n",
       "<tr>\n",
       "<td>Kiribati</td>\n",
       "<td>2477</td>\n",
       "</tr>\n",
       "<tr>\n",
       "<td>New Zealand</td>\n",
       "<td>2455</td>\n",
       "</tr>\n",
       "<tr>\n",
       "<td>El Salvador</td>\n",
       "<td>2410</td>\n",
       "</tr>\n",
       "<tr>\n",
       "<td>Saudi Arabia</td>\n",
       "<td>2140</td>\n",
       "</tr>\n",
       "<tr>\n",
       "<td>Gabon</td>\n",
       "<td>2136</td>\n",
       "</tr>\n",
       "<tr>\n",
       "<td>Indonesia</td>\n",
       "<td>2034</td>\n",
       "</tr>\n",
       "<tr>\n",
       "<td>Laos</td>\n",
       "<td>1961</td>\n",
       "</tr>\n",
       "<tr>\n",
       "<td>Venezuela</td>\n",
       "<td>1811</td>\n",
       "</tr>\n",
       "<tr>\n",
       "<td>Timor-Leste</td>\n",
       "<td>1721</td>\n",
       "</tr>\n",
       "<tr>\n",
       "<td>Zambia</td>\n",
       "<td>1701</td>\n",
       "</tr>\n",
       "<tr>\n",
       "<td>Bhutan</td>\n",
       "<td>1646</td>\n",
       "</tr>\n",
       "<tr>\n",
       "<td>Zimbabwe</td>\n",
       "<td>1590</td>\n",
       "</tr>\n",
       "<tr>\n",
       "<td>Djibouti</td>\n",
       "<td>1573</td>\n",
       "</tr>\n",
       "<tr>\n",
       "<td>Lesotho</td>\n",
       "<td>1522</td>\n",
       "</tr>\n",
       "<tr>\n",
       "<td>Mauritania</td>\n",
       "<td>1261</td>\n",
       "</tr>\n",
       "<tr>\n",
       "<td>Bangladesh</td>\n",
       "<td>1180</td>\n",
       "</tr>\n",
       "<tr>\n",
       "<td>Equatorial Guinea</td>\n",
       "<td>1132</td>\n",
       "</tr>\n",
       "<tr>\n",
       "<td>Burma</td>\n",
       "<td>1080</td>\n",
       "</tr>\n",
       "<tr>\n",
       "<td>Solomon Islands</td>\n",
       "<td>1079</td>\n",
       "</tr>\n",
       "<tr>\n",
       "<td>Rwanda</td>\n",
       "<td>999</td>\n",
       "</tr>\n",
       "<tr>\n",
       "<td>Comoros</td>\n",
       "<td>923</td>\n",
       "</tr>\n",
       "<tr>\n",
       "<td>Cambodia</td>\n",
       "<td>779</td>\n",
       "</tr>\n",
       "<tr>\n",
       "<td>Pakistan</td>\n",
       "<td>726</td>\n",
       "</tr>\n",
       "<tr>\n",
       "<td>Mozambique</td>\n",
       "<td>720</td>\n",
       "</tr>\n",
       "<tr>\n",
       "<td>Uzbekistan</td>\n",
       "<td>706</td>\n",
       "</tr>\n",
       "<tr>\n",
       "<td>Algeria</td>\n",
       "<td>604</td>\n",
       "</tr>\n",
       "<tr>\n",
       "<td>Kenya</td>\n",
       "<td>600</td>\n",
       "</tr>\n",
       "<tr>\n",
       "<td>Ghana</td>\n",
       "<td>513</td>\n",
       "</tr>\n",
       "<tr>\n",
       "<td>Senegal</td>\n",
       "<td>511</td>\n",
       "</tr>\n",
       "<tr>\n",
       "<td>Gambia</td>\n",
       "<td>494</td>\n",
       "</tr>\n",
       "<tr>\n",
       "<td>Egypt</td>\n",
       "<td>472</td>\n",
       "</tr>\n",
       "<tr>\n",
       "<td>Papua New Guinea</td>\n",
       "<td>461</td>\n",
       "</tr>\n",
       "<tr>\n",
       "<td>Cameroon</td>\n",
       "<td>449</td>\n",
       "</tr>\n",
       "<tr>\n",
       "<td>Malawi</td>\n",
       "<td>446</td>\n",
       "</tr>\n",
       "<tr>\n",
       "<td>Afghanistan</td>\n",
       "<td>446</td>\n",
       "</tr>\n",
       "<tr>\n",
       "<td>Togo</td>\n",
       "<td>444</td>\n",
       "</tr>\n",
       "<tr>\n",
       "<td>Congo (Brazzaville)</td>\n",
       "<td>435</td>\n",
       "</tr>\n",
       "<tr>\n",
       "<td>Ethiopia</td>\n",
       "<td>407</td>\n",
       "</tr>\n",
       "<tr>\n",
       "<td>Guinea-Bissau</td>\n",
       "<td>406</td>\n",
       "</tr>\n",
       "<tr>\n",
       "<td>Uganda</td>\n",
       "<td>357</td>\n",
       "</tr>\n",
       "<tr>\n",
       "<td>Tonga</td>\n",
       "<td>335</td>\n",
       "</tr>\n",
       "<tr>\n",
       "<td>Burundi</td>\n",
       "<td>320</td>\n",
       "</tr>\n",
       "<tr>\n",
       "<td>Syria</td>\n",
       "<td>311</td>\n",
       "</tr>\n",
       "<tr>\n",
       "<td>Cote d'Ivoire</td>\n",
       "<td>308</td>\n",
       "</tr>\n",
       "<tr>\n",
       "<td>Angola</td>\n",
       "<td>300</td>\n",
       "</tr>\n",
       "<tr>\n",
       "<td>Central African Republic</td>\n",
       "<td>294</td>\n",
       "</tr>\n",
       "<tr>\n",
       "<td>Guinea</td>\n",
       "<td>277</td>\n",
       "</tr>\n",
       "<tr>\n",
       "<td>Eritrea</td>\n",
       "<td>273</td>\n",
       "</tr>\n",
       "<tr>\n",
       "<td>Nicaragua</td>\n",
       "<td>271</td>\n",
       "</tr>\n",
       "<tr>\n",
       "<td>Haiti</td>\n",
       "<td>266</td>\n",
       "</tr>\n",
       "<tr>\n",
       "<td>Madagascar</td>\n",
       "<td>229</td>\n",
       "</tr>\n",
       "<tr>\n",
       "<td>Benin</td>\n",
       "<td>219</td>\n",
       "</tr>\n",
       "<tr>\n",
       "<td>Tajikistan</td>\n",
       "<td>186</td>\n",
       "</tr>\n",
       "<tr>\n",
       "<td>Somalia</td>\n",
       "<td>165</td>\n",
       "</tr>\n",
       "<tr>\n",
       "<td>South Sudan</td>\n",
       "<td>151</td>\n",
       "</tr>\n",
       "<tr>\n",
       "<td>Mali</td>\n",
       "<td>150</td>\n",
       "</tr>\n",
       "<tr>\n",
       "<td>Liberia</td>\n",
       "<td>145</td>\n",
       "</tr>\n",
       "<tr>\n",
       "<td>Sudan</td>\n",
       "<td>140</td>\n",
       "</tr>\n",
       "<tr>\n",
       "<td>Nigeria</td>\n",
       "<td>123</td>\n",
       "</tr>\n",
       "<tr>\n",
       "<td>Burkina Faso</td>\n",
       "<td>99</td>\n",
       "</tr>\n",
       "<tr>\n",
       "<td>Sierra Leone</td>\n",
       "<td>96</td>\n",
       "</tr>\n",
       "<tr>\n",
       "<td>Congo (Kinshasa)</td>\n",
       "<td>96</td>\n",
       "</tr>\n",
       "<tr>\n",
       "<td>Taiwan</td>\n",
       "<td>86</td>\n",
       "</tr>\n",
       "<tr>\n",
       "<td>Tanzania</td>\n",
       "<td>56</td>\n",
       "</tr>\n",
       "<tr>\n",
       "<td>Chad</td>\n",
       "<td>44</td>\n",
       "</tr>\n",
       "<tr>\n",
       "<td>Yemen</td>\n",
       "<td>39</td>\n",
       "</tr>\n",
       "<tr>\n",
       "<td>Niger</td>\n",
       "<td>36</td>\n",
       "</tr>\n",
       "<tr>\n",
       "<td>China</td>\n",
       "<td>27</td>\n",
       "</tr>\n",
       "<tr>\n",
       "<td>Samoa</td>\n",
       "<td>16</td>\n",
       "</tr>\n",
       "<tr>\n",
       "<td>Marshall Islands</td>\n",
       "<td>11</td>\n",
       "</tr>\n",
       "<tr>\n",
       "<td>Vanuatu</td>\n",
       "<td>6</td>\n",
       "</tr>\n",
       "<tr>\n",
       "<td>Micronesia</td>\n",
       "<td>0</td>\n",
       "</tr>\n",
       "<tr>\n",
       "<td>Winter Olympics 2022</td>\n",
       "<td>NULL</td>\n",
       "</tr>\n",
       "<tr>\n",
       "<td>Summer Olympics 2020</td>\n",
       "<td>NULL</td>\n",
       "</tr>\n",
       "<tr>\n",
       "<td>MS Zaandam</td>\n",
       "<td>NULL</td>\n",
       "</tr>\n",
       "<tr>\n",
       "<td>Diamond Princess</td>\n",
       "<td>NULL</td>\n",
       "</tr>\n",
       "<tr>\n",
       "<td>Antarctica</td>\n",
       "<td>NULL</td>\n",
       "</tr>\n",
       "</table>\n",
       "198 rows in set (0.02 sec)"
      ],
      "text/plain": [
       "+----------------------------------+----------------+\n",
       "| Country_Region                   | Incidence_Rate |\n",
       "+----------------------------------+----------------+\n",
       "| Andorra                          | 49180          |\n",
       "+----------------------------------+----------------+\n",
       "| Denmark                          | 47297          |\n",
       "+----------------------------------+----------------+\n",
       "| Slovenia                         | 42936          |\n",
       "+----------------------------------+----------------+\n",
       "| San Marino                       | 42338          |\n",
       "+----------------------------------+----------------+\n",
       "| Israel                           | 41990          |\n",
       "+----------------------------------+----------------+\n",
       "| Georgia                          | 40245          |\n",
       "+----------------------------------+----------------+\n",
       "| Seychelles                       | 40000          |\n",
       "+----------------------------------+----------------+\n",
       "| Slovakia                         | 38818          |\n",
       "+----------------------------------+----------------+\n",
       "| Iceland                          | 38049          |\n",
       "+----------------------------------+----------------+\n",
       "| Estonia                          | 37272          |\n",
       "+----------------------------------+----------------+\n",
       "| Netherlands                      | 36824          |\n",
       "+----------------------------------+----------------+\n",
       "| Montenegro                       | 36653          |\n",
       "+----------------------------------+----------------+\n",
       "| Latvia                           | 34626          |\n",
       "+----------------------------------+----------------+\n",
       "| France                           | 33580          |\n",
       "+----------------------------------+----------------+\n",
       "| Czechia                          | 33376          |\n",
       "+----------------------------------+----------------+\n",
       "| Lithuania                        | 33154          |\n",
       "+----------------------------------+----------------+\n",
       "| Switzerland                      | 32375          |\n",
       "+----------------------------------+----------------+\n",
       "| Portugal                         | 31996          |\n",
       "+----------------------------------+----------------+\n",
       "| Maldives                         | 31485          |\n",
       "+----------------------------------+----------------+\n",
       "| Liechtenstein                    | 31468          |\n",
       "+----------------------------------+----------------+\n",
       "| Belgium                          | 30952          |\n",
       "+----------------------------------+----------------+\n",
       "| Bahrain                          | 30259          |\n",
       "+----------------------------------+----------------+\n",
       "| Austria                          | 29753          |\n",
       "+----------------------------------+----------------+\n",
       "| Luxembourg                       | 29262          |\n",
       "+----------------------------------+----------------+\n",
       "| United Kingdom                   | 28326          |\n",
       "+----------------------------------+----------------+\n",
       "| Mongolia                         | 27702          |\n",
       "+----------------------------------+----------------+\n",
       "| Cyprus                           | 26712          |\n",
       "+----------------------------------+----------------+\n",
       "| Ireland                          | 26336          |\n",
       "+----------------------------------+----------------+\n",
       "| Croatia                          | 25693          |\n",
       "+----------------------------------+----------------+\n",
       "| Uruguay                          | 24252          |\n",
       "+----------------------------------+----------------+\n",
       "| Monaco                           | 23848          |\n",
       "+----------------------------------+----------------+\n",
       "| US                               | 23788          |\n",
       "+----------------------------------+----------------+\n",
       "| Sweden                           | 23637          |\n",
       "+----------------------------------+----------------+\n",
       "| Spain                            | 23387          |\n",
       "+----------------------------------+----------------+\n",
       "| Greece                           | 23233          |\n",
       "+----------------------------------+----------------+\n",
       "| Norway                           | 22912          |\n",
       "+----------------------------------+----------------+\n",
       "| Serbia                           | 21871          |\n",
       "+----------------------------------+----------------+\n",
       "| Italy                            | 21177          |\n",
       "+----------------------------------+----------------+\n",
       "| Palau                            | 20996          |\n",
       "+----------------------------------+----------------+\n",
       "| Argentina                        | 19693          |\n",
       "+----------------------------------+----------------+\n",
       "| Barbados                         | 19196          |\n",
       "+----------------------------------+----------------+\n",
       "| Hungary                          | 18503          |\n",
       "+----------------------------------+----------------+\n",
       "| Germany                          | 17933          |\n",
       "+----------------------------------+----------------+\n",
       "| Panama                           | 17509          |\n",
       "+----------------------------------+----------------+\n",
       "| Chile                            | 17415          |\n",
       "+----------------------------------+----------------+\n",
       "| Turkey                           | 16705          |\n",
       "+----------------------------------+----------------+\n",
       "| Malta                            | 16142          |\n",
       "+----------------------------------+----------------+\n",
       "| Jordan                           | 15992          |\n",
       "+----------------------------------+----------------+\n",
       "| Costa Rica                       | 15840          |\n",
       "+----------------------------------+----------------+\n",
       "| Bulgaria                         | 15705          |\n",
       "+----------------------------------+----------------+\n",
       "| Lebanon                          | 15657          |\n",
       "+----------------------------------+----------------+\n",
       "| Dominica                         | 15429          |\n",
       "+----------------------------------+----------------+\n",
       "| Poland                           | 14973          |\n",
       "+----------------------------------+----------------+\n",
       "| Brunei                           | 14524          |\n",
       "+----------------------------------+----------------+\n",
       "| Kuwait                           | 14515          |\n",
       "+----------------------------------+----------------+\n",
       "| North Macedonia                  | 14268          |\n",
       "+----------------------------------+----------------+\n",
       "| Belize                           | 14258          |\n",
       "+----------------------------------+----------------+\n",
       "| Romania                          | 14209          |\n",
       "+----------------------------------+----------------+\n",
       "| Armenia                          | 14168          |\n",
       "+----------------------------------+----------------+\n",
       "| Brazil                           | 13703          |\n",
       "+----------------------------------+----------------+\n",
       "| Suriname                         | 13333          |\n",
       "+----------------------------------+----------------+\n",
       "| Mauritius                        | 13181          |\n",
       "+----------------------------------+----------------+\n",
       "| Australia                        | 12706          |\n",
       "+----------------------------------+----------------+\n",
       "| West Bank and Gaza               | 12662          |\n",
       "+----------------------------------+----------------+\n",
       "| Colombia                         | 12566          |\n",
       "+----------------------------------+----------------+\n",
       "| Kosovo                           | 12497          |\n",
       "+----------------------------------+----------------+\n",
       "| Moldova                          | 12439          |\n",
       "+----------------------------------+----------------+\n",
       "| Qatar                            | 12390          |\n",
       "+----------------------------------+----------------+\n",
       "| Singapore                        | 12382          |\n",
       "+----------------------------------+----------------+\n",
       "| Saint Lucia                      | 12358          |\n",
       "+----------------------------------+----------------+\n",
       "| Grenada                          | 12166          |\n",
       "+----------------------------------+----------------+\n",
       "| Finland                          | 11510          |\n",
       "+----------------------------------+----------------+\n",
       "| Bosnia and Herzegovina           | 11314          |\n",
       "+----------------------------------+----------------+\n",
       "| Botswana                         | 11224          |\n",
       "+----------------------------------+----------------+\n",
       "| Russia                           | 11020          |\n",
       "+----------------------------------+----------------+\n",
       "| Ukraine                          | 10981          |\n",
       "+----------------------------------+----------------+\n",
       "| Peru                             | 10780          |\n",
       "+----------------------------------+----------------+\n",
       "| Malaysia                         | 10549          |\n",
       "+----------------------------------+----------------+\n",
       "| Saint Kitts and Nevis            | 10396          |\n",
       "+----------------------------------+----------------+\n",
       "| Cabo Verde                       | 10051          |\n",
       "+----------------------------------+----------------+\n",
       "| Belarus                          | 9733           |\n",
       "+----------------------------------+----------------+\n",
       "| Cuba                             | 9445           |\n",
       "+----------------------------------+----------------+\n",
       "| Albania                          | 9436           |\n",
       "+----------------------------------+----------------+\n",
       "| Trinidad and Tobago              | 9129           |\n",
       "+----------------------------------+----------------+\n",
       "| Paraguay                         | 8991           |\n",
       "+----------------------------------+----------------+\n",
       "| United Arab Emirates             | 8897           |\n",
       "+----------------------------------+----------------+\n",
       "| Canada                           | 8634           |\n",
       "+----------------------------------+----------------+\n",
       "| Tunisia                          | 8446           |\n",
       "+----------------------------------+----------------+\n",
       "| Bahamas                          | 8425           |\n",
       "+----------------------------------+----------------+\n",
       "| Iran                             | 8395           |\n",
       "+----------------------------------+----------------+\n",
       "| Guyana                           | 7999           |\n",
       "+----------------------------------+----------------+\n",
       "| Azerbaijan                       | 7748           |\n",
       "+----------------------------------+----------------+\n",
       "| Bolivia                          | 7653           |\n",
       "+----------------------------------+----------------+\n",
       "| Antigua and Barbuda              | 7594           |\n",
       "+----------------------------------+----------------+\n",
       "| Saint Vincent and the Grenadines | 7489           |\n",
       "+----------------------------------+----------------+\n",
       "| Oman                             | 7485           |\n",
       "+----------------------------------+----------------+\n",
       "| Kazakhstan                       | 7406           |\n",
       "+----------------------------------+----------------+\n",
       "| Libya                            | 7195           |\n",
       "+----------------------------------+----------------+\n",
       "| Fiji                             | 7131           |\n",
       "+----------------------------------+----------------+\n",
       "| Korea, South                     | 6384           |\n",
       "+----------------------------------+----------------+\n",
       "| South Africa                     | 6194           |\n",
       "+----------------------------------+----------------+\n",
       "| Namibia                          | 6187           |\n",
       "+----------------------------------+----------------+\n",
       "| Eswatini                         | 5961           |\n",
       "+----------------------------------+----------------+\n",
       "| Iraq                             | 5725           |\n",
       "+----------------------------------+----------------+\n",
       "| Dominican Republic               | 5296           |\n",
       "+----------------------------------+----------------+\n",
       "| Ecuador                          | 4691           |\n",
       "+----------------------------------+----------------+\n",
       "| Guatemala                        | 4336           |\n",
       "+----------------------------------+----------------+\n",
       "| Jamaica                          | 4322           |\n",
       "+----------------------------------+----------------+\n",
       "| Mexico                           | 4310           |\n",
       "+----------------------------------+----------------+\n",
       "| Honduras                         | 4151           |\n",
       "+----------------------------------+----------------+\n",
       "| Thailand                         | 4143           |\n",
       "+----------------------------------+----------------+\n",
       "| Japan                            | 3967           |\n",
       "+----------------------------------+----------------+\n",
       "| Holy See                         | 3584           |\n",
       "+----------------------------------+----------------+\n",
       "| Vietnam                          | 3537           |\n",
       "+----------------------------------+----------------+\n",
       "| Nepal                            | 3353           |\n",
       "+----------------------------------+----------------+\n",
       "| Philippines                      | 3341           |\n",
       "+----------------------------------+----------------+\n",
       "| Morocco                          | 3145           |\n",
       "+----------------------------------+----------------+\n",
       "| India                            | 3130           |\n",
       "+----------------------------------+----------------+\n",
       "| Kyrgyzstan                       | 3073           |\n",
       "+----------------------------------+----------------+\n",
       "| Sri Lanka                        | 3016           |\n",
       "+----------------------------------+----------------+\n",
       "| Sao Tome and Principe            | 2707           |\n",
       "+----------------------------------+----------------+\n",
       "| Kiribati                         | 2477           |\n",
       "+----------------------------------+----------------+\n",
       "| New Zealand                      | 2455           |\n",
       "+----------------------------------+----------------+\n",
       "| El Salvador                      | 2410           |\n",
       "+----------------------------------+----------------+\n",
       "| Saudi Arabia                     | 2140           |\n",
       "+----------------------------------+----------------+\n",
       "| Gabon                            | 2136           |\n",
       "+----------------------------------+----------------+\n",
       "| Indonesia                        | 2034           |\n",
       "+----------------------------------+----------------+\n",
       "| Laos                             | 1961           |\n",
       "+----------------------------------+----------------+\n",
       "| Venezuela                        | 1811           |\n",
       "+----------------------------------+----------------+\n",
       "| Timor-Leste                      | 1721           |\n",
       "+----------------------------------+----------------+\n",
       "| Zambia                           | 1701           |\n",
       "+----------------------------------+----------------+\n",
       "| Bhutan                           | 1646           |\n",
       "+----------------------------------+----------------+\n",
       "| Zimbabwe                         | 1590           |\n",
       "+----------------------------------+----------------+\n",
       "| Djibouti                         | 1573           |\n",
       "+----------------------------------+----------------+\n",
       "| Lesotho                          | 1522           |\n",
       "+----------------------------------+----------------+\n",
       "| Mauritania                       | 1261           |\n",
       "+----------------------------------+----------------+\n",
       "| Bangladesh                       | 1180           |\n",
       "+----------------------------------+----------------+\n",
       "| Equatorial Guinea                | 1132           |\n",
       "+----------------------------------+----------------+\n",
       "| Burma                            | 1080           |\n",
       "+----------------------------------+----------------+\n",
       "| Solomon Islands                  | 1079           |\n",
       "+----------------------------------+----------------+\n",
       "| Rwanda                           | 999            |\n",
       "+----------------------------------+----------------+\n",
       "| Comoros                          | 923            |\n",
       "+----------------------------------+----------------+\n",
       "| Cambodia                         | 779            |\n",
       "+----------------------------------+----------------+\n",
       "| Pakistan                         | 726            |\n",
       "+----------------------------------+----------------+\n",
       "| Mozambique                       | 720            |\n",
       "+----------------------------------+----------------+\n",
       "| Uzbekistan                       | 706            |\n",
       "+----------------------------------+----------------+\n",
       "| Algeria                          | 604            |\n",
       "+----------------------------------+----------------+\n",
       "| Kenya                            | 600            |\n",
       "+----------------------------------+----------------+\n",
       "| Ghana                            | 513            |\n",
       "+----------------------------------+----------------+\n",
       "| Senegal                          | 511            |\n",
       "+----------------------------------+----------------+\n",
       "| Gambia                           | 494            |\n",
       "+----------------------------------+----------------+\n",
       "| Egypt                            | 472            |\n",
       "+----------------------------------+----------------+\n",
       "| Papua New Guinea                 | 461            |\n",
       "+----------------------------------+----------------+\n",
       "| Cameroon                         | 449            |\n",
       "+----------------------------------+----------------+\n",
       "| Malawi                           | 446            |\n",
       "+----------------------------------+----------------+\n",
       "| Afghanistan                      | 446            |\n",
       "+----------------------------------+----------------+\n",
       "| Togo                             | 444            |\n",
       "+----------------------------------+----------------+\n",
       "| Congo (Brazzaville)              | 435            |\n",
       "+----------------------------------+----------------+\n",
       "| Ethiopia                         | 407            |\n",
       "+----------------------------------+----------------+\n",
       "| Guinea-Bissau                    | 406            |\n",
       "+----------------------------------+----------------+\n",
       "| Uganda                           | 357            |\n",
       "+----------------------------------+----------------+\n",
       "| Tonga                            | 335            |\n",
       "+----------------------------------+----------------+\n",
       "| Burundi                          | 320            |\n",
       "+----------------------------------+----------------+\n",
       "| Syria                            | 311            |\n",
       "+----------------------------------+----------------+\n",
       "| Cote d'Ivoire                    | 308            |\n",
       "+----------------------------------+----------------+\n",
       "| Angola                           | 300            |\n",
       "+----------------------------------+----------------+\n",
       "| Central African Republic         | 294            |\n",
       "+----------------------------------+----------------+\n",
       "| Guinea                           | 277            |\n",
       "+----------------------------------+----------------+\n",
       "| Eritrea                          | 273            |\n",
       "+----------------------------------+----------------+\n",
       "| Nicaragua                        | 271            |\n",
       "+----------------------------------+----------------+\n",
       "| Haiti                            | 266            |\n",
       "+----------------------------------+----------------+\n",
       "| Madagascar                       | 229            |\n",
       "+----------------------------------+----------------+\n",
       "| Benin                            | 219            |\n",
       "+----------------------------------+----------------+\n",
       "| Tajikistan                       | 186            |\n",
       "+----------------------------------+----------------+\n",
       "| Somalia                          | 165            |\n",
       "+----------------------------------+----------------+\n",
       "| South Sudan                      | 151            |\n",
       "+----------------------------------+----------------+\n",
       "| Mali                             | 150            |\n",
       "+----------------------------------+----------------+\n",
       "| Liberia                          | 145            |\n",
       "+----------------------------------+----------------+\n",
       "| Sudan                            | 140            |\n",
       "+----------------------------------+----------------+\n",
       "| Nigeria                          | 123            |\n",
       "+----------------------------------+----------------+\n",
       "| Burkina Faso                     | 99             |\n",
       "+----------------------------------+----------------+\n",
       "| Sierra Leone                     | 96             |\n",
       "+----------------------------------+----------------+\n",
       "| Congo (Kinshasa)                 | 96             |\n",
       "+----------------------------------+----------------+\n",
       "| Taiwan                           | 86             |\n",
       "+----------------------------------+----------------+\n",
       "| Tanzania                         | 56             |\n",
       "+----------------------------------+----------------+\n",
       "| Chad                             | 44             |\n",
       "+----------------------------------+----------------+\n",
       "| Yemen                            | 39             |\n",
       "+----------------------------------+----------------+\n",
       "| Niger                            | 36             |\n",
       "+----------------------------------+----------------+\n",
       "| China                            | 27             |\n",
       "+----------------------------------+----------------+\n",
       "| Samoa                            | 16             |\n",
       "+----------------------------------+----------------+\n",
       "| Marshall Islands                 | 11             |\n",
       "+----------------------------------+----------------+\n",
       "| Vanuatu                          | 6              |\n",
       "+----------------------------------+----------------+\n",
       "| Micronesia                       | 0              |\n",
       "+----------------------------------+----------------+\n",
       "| Winter Olympics 2022             | NULL           |\n",
       "+----------------------------------+----------------+\n",
       "| Summer Olympics 2020             | NULL           |\n",
       "+----------------------------------+----------------+\n",
       "| MS Zaandam                       | NULL           |\n",
       "+----------------------------------+----------------+\n",
       "| Diamond Princess                 | NULL           |\n",
       "+----------------------------------+----------------+\n",
       "| Antarctica                       | NULL           |\n",
       "+----------------------------------+----------------+\n",
       "198 rows in set (0.02 sec)"
      ]
     },
     "execution_count": 45,
     "metadata": {},
     "output_type": "execute_result"
    }
   ],
   "source": [
    "SELECT lookup_table.Country_Region,\n",
    "       SUM(daily_report.Confirmed)*100000 / SUM(lookup_table.Population) AS Incidence_Rate\n",
    "  FROM daily_report\n",
    "  JOIN lookup_table\n",
    "    ON daily_report.Combined_Key = lookup_table.Combined_Key\n",
    " GROUP BY lookup_table.Country_Region\n",
    " ORDER BY Incidence_Rate DESC;"
   ]
  },
  {
   "cell_type": "code",
   "execution_count": 46,
   "metadata": {
    "slideshow": {
     "slide_type": "subslide"
    }
   },
   "outputs": [],
   "source": [
    "DROP VIEW IF EXISTS incidence_rate_by_country;"
   ]
  },
  {
   "cell_type": "code",
   "execution_count": 47,
   "metadata": {},
   "outputs": [],
   "source": [
    "CREATE VIEW incidence_rate_by_country\n",
    "    AS\n",
    "SELECT lookup_table.Country_Region,\n",
    "       SUM(daily_report.Confirmed)*100000 / SUM(lookup_table.Population) AS Incidence_Rate\n",
    "  FROM daily_report\n",
    "  JOIN lookup_table\n",
    "    ON daily_report.Combined_Key = lookup_table.Combined_Key\n",
    " GROUP BY lookup_table.Country_Region\n",
    " ORDER BY Incidence_Rate DESC;"
   ]
  },
  {
   "cell_type": "markdown",
   "metadata": {
    "slideshow": {
     "slide_type": "subslide"
    }
   },
   "source": [
    "## Once a view is created, use it like a table"
   ]
  },
  {
   "cell_type": "code",
   "execution_count": 48,
   "metadata": {},
   "outputs": [
    {
     "data": {
      "text/html": [
       "<table>\n",
       "<tr>\n",
       "<th>Country_Region</th>\n",
       "<th>Incidence_Rate</th>\n",
       "</tr>\n",
       "<tr>\n",
       "<td>Taiwan</td>\n",
       "<td>86</td>\n",
       "</tr>\n",
       "</table>\n",
       "1 row in set (0.00 sec)"
      ],
      "text/plain": [
       "+----------------+----------------+\n",
       "| Country_Region | Incidence_Rate |\n",
       "+----------------+----------------+\n",
       "| Taiwan         | 86             |\n",
       "+----------------+----------------+\n",
       "1 row in set (0.00 sec)"
      ]
     },
     "execution_count": 48,
     "metadata": {},
     "output_type": "execute_result"
    }
   ],
   "source": [
    "SELECT *\n",
    "  FROM incidence_rate_by_country\n",
    " WHERE Country_Region = 'Taiwan';"
   ]
  },
  {
   "cell_type": "markdown",
   "metadata": {
    "slideshow": {
     "slide_type": "subslide"
    }
   },
   "source": [
    "## Using views to demonstrate different `JOIN`s"
   ]
  },
  {
   "cell_type": "code",
   "execution_count": 49,
   "metadata": {
    "slideshow": {
     "slide_type": "-"
    }
   },
   "outputs": [],
   "source": [
    "DROP VIEW IF EXISTS daily_report_tw_kr;"
   ]
  },
  {
   "cell_type": "code",
   "execution_count": 50,
   "metadata": {
    "slideshow": {
     "slide_type": "-"
    }
   },
   "outputs": [],
   "source": [
    "CREATE VIEW daily_report_tw_kr\n",
    "    AS\n",
    "SELECT *\n",
    "  FROM daily_report\n",
    " WHERE Combined_Key IN ('Taiwan', 'Korea, South');"
   ]
  },
  {
   "cell_type": "code",
   "execution_count": 51,
   "metadata": {
    "slideshow": {
     "slide_type": "subslide"
    }
   },
   "outputs": [],
   "source": [
    "DROP VIEW IF EXISTS lookup_table_tw_sg;"
   ]
  },
  {
   "cell_type": "code",
   "execution_count": 52,
   "metadata": {},
   "outputs": [],
   "source": [
    "CREATE VIEW lookup_table_tw_sg\n",
    "    AS\n",
    "SELECT *\n",
    "  FROM lookup_table\n",
    " WHERE iso2 IN ('TW', 'SG');"
   ]
  },
  {
   "cell_type": "markdown",
   "metadata": {
    "slideshow": {
     "slide_type": "subslide"
    }
   },
   "source": [
    "## `JOIN` returns rows from the left and the right table where matching values are found"
   ]
  },
  {
   "cell_type": "code",
   "execution_count": 53,
   "metadata": {},
   "outputs": [
    {
     "data": {
      "text/html": [
       "<table>\n",
       "<tr>\n",
       "<th>Combined_Key</th>\n",
       "<th>Confirmed</th>\n",
       "<th>Population</th>\n",
       "</tr>\n",
       "<tr>\n",
       "<td>Taiwan</td>\n",
       "<td>20489</td>\n",
       "<td>23816775</td>\n",
       "</tr>\n",
       "</table>\n",
       "1 row in set (0.00 sec)"
      ],
      "text/plain": [
       "+--------------+-----------+------------+\n",
       "| Combined_Key | Confirmed | Population |\n",
       "+--------------+-----------+------------+\n",
       "| Taiwan       | 20489     | 23816775   |\n",
       "+--------------+-----------+------------+\n",
       "1 row in set (0.00 sec)"
      ]
     },
     "execution_count": 53,
     "metadata": {},
     "output_type": "execute_result"
    }
   ],
   "source": [
    "SELECT daily_report_tw_kr.Combined_Key,\n",
    "       daily_report_tw_kr.Confirmed,\n",
    "       lookup_table_tw_sg.Population\n",
    "  FROM daily_report_tw_kr\n",
    "  JOIN lookup_table_tw_sg\n",
    "    ON daily_report_tw_kr.Combined_Key = lookup_table_tw_sg.Combined_Key;"
   ]
  },
  {
   "cell_type": "markdown",
   "metadata": {
    "slideshow": {
     "slide_type": "subslide"
    }
   },
   "source": [
    "## `LEFT JOIN` returns all rows from the left table and display blank rows from the other table if no matching values are found"
   ]
  },
  {
   "cell_type": "code",
   "execution_count": 54,
   "metadata": {},
   "outputs": [
    {
     "data": {
      "text/html": [
       "<table>\n",
       "<tr>\n",
       "<th>Combined_Key</th>\n",
       "<th>Confirmed</th>\n",
       "<th>Population</th>\n",
       "</tr>\n",
       "<tr>\n",
       "<td>Korea, South</td>\n",
       "<td>3273449</td>\n",
       "<td>NULL</td>\n",
       "</tr>\n",
       "<tr>\n",
       "<td>Taiwan</td>\n",
       "<td>20489</td>\n",
       "<td>23816775</td>\n",
       "</tr>\n",
       "</table>\n",
       "2 rows in set (0.00 sec)"
      ],
      "text/plain": [
       "+--------------+-----------+------------+\n",
       "| Combined_Key | Confirmed | Population |\n",
       "+--------------+-----------+------------+\n",
       "| Korea, South | 3273449   | NULL       |\n",
       "+--------------+-----------+------------+\n",
       "| Taiwan       | 20489     | 23816775   |\n",
       "+--------------+-----------+------------+\n",
       "2 rows in set (0.00 sec)"
      ]
     },
     "execution_count": 54,
     "metadata": {},
     "output_type": "execute_result"
    }
   ],
   "source": [
    "SELECT daily_report_tw_kr.Combined_Key,\n",
    "       daily_report_tw_kr.Confirmed,\n",
    "       lookup_table_tw_sg.Population\n",
    "  FROM daily_report_tw_kr\n",
    "  LEFT JOIN lookup_table_tw_sg\n",
    "    ON daily_report_tw_kr.Combined_Key = lookup_table_tw_sg.Combined_Key;"
   ]
  },
  {
   "cell_type": "markdown",
   "metadata": {
    "slideshow": {
     "slide_type": "subslide"
    }
   },
   "source": [
    "## `DROP` statement\n",
    "\n",
    "```sql\n",
    "DROP VIEW IF EXISTS view_name;\n",
    "```"
   ]
  },
  {
   "cell_type": "code",
   "execution_count": 55,
   "metadata": {
    "slideshow": {
     "slide_type": "subslide"
    }
   },
   "outputs": [],
   "source": [
    "DROP VIEW IF EXISTS daily_report_tw_kr;"
   ]
  },
  {
   "cell_type": "code",
   "execution_count": 56,
   "metadata": {
    "slideshow": {
     "slide_type": "-"
    }
   },
   "outputs": [],
   "source": [
    "DROP VIEW IF EXISTS lookup_table_tw_sg;"
   ]
  },
  {
   "cell_type": "markdown",
   "metadata": {
    "slideshow": {
     "slide_type": "subslide"
    }
   },
   "source": [
    "## After `DROP` statement"
   ]
  },
  {
   "cell_type": "code",
   "execution_count": 57,
   "metadata": {},
   "outputs": [
    {
     "ename": "Error",
     "evalue": "sqlite3_statement_backend::prepare: no such table: daily_report_tw_kr while preparing \"SELECT *\n  FROM daily_report_tw_kr;\".",
     "output_type": "error",
     "traceback": [
      "Error: sqlite3_statement_backend::prepare: no such table: daily_report_tw_kr while preparing \"SELECT *\n  FROM daily_report_tw_kr;\"."
     ]
    }
   ],
   "source": [
    "SELECT *\n",
    "  FROM daily_report_tw_kr;"
   ]
  },
  {
   "cell_type": "code",
   "execution_count": 58,
   "metadata": {},
   "outputs": [
    {
     "ename": "Error",
     "evalue": "sqlite3_statement_backend::prepare: no such table: lookup_table_tw_sg while preparing \"SELECT *\n  FROM lookup_table_tw_sg;\".",
     "output_type": "error",
     "traceback": [
      "Error: sqlite3_statement_backend::prepare: no such table: lookup_table_tw_sg while preparing \"SELECT *\n  FROM lookup_table_tw_sg;\"."
     ]
    }
   ],
   "source": [
    "SELECT *\n",
    "  FROM lookup_table_tw_sg;"
   ]
  },
  {
   "cell_type": "markdown",
   "metadata": {
    "slideshow": {
     "slide_type": "slide"
    }
   },
   "source": [
    "## The `covid19.db` database"
   ]
  },
  {
   "cell_type": "markdown",
   "metadata": {
    "slideshow": {
     "slide_type": "subslide"
    }
   },
   "source": [
    "## Data sources\n",
    "\n",
    "- `lookup_table`: <https://raw.githubusercontent.com/CSSEGISandData/COVID-19/master/csse_covid_19_data/UID_ISO_FIPS_LookUp_Table.csv>\n",
    "- `daily_report`: <https://raw.githubusercontent.com/CSSEGISandData/COVID-19/master/csse_covid_19_data/csse_covid_19_daily_reports/02-28-2022.csv>\n",
    "- `time_series`\n",
    "    - Confirmed: <https://raw.githubusercontent.com/CSSEGISandData/COVID-19/master/csse_covid_19_data/csse_covid_19_time_series/time_series_covid19_confirmed_global.csv>\n",
    "    - Deaths: <https://raw.githubusercontent.com/CSSEGISandData/COVID-19/master/csse_covid_19_data/csse_covid_19_time_series/time_series_covid19_deaths_global.csv>"
   ]
  },
  {
   "cell_type": "markdown",
   "metadata": {
    "slideshow": {
     "slide_type": "subslide"
    }
   },
   "source": [
    "## The ETL steps\n",
    "\n",
    "1. Extract.\n",
    "2. Transform.\n",
    "3. Load.\n",
    "\n",
    "Source: <https://nbviewer.org/github/datainpoint/classroom-data-visualization-with-modern-data-science-2022/blob/main/get_covid19_data.ipynb>"
   ]
  },
  {
   "cell_type": "markdown",
   "metadata": {
    "slideshow": {
     "slide_type": "subslide"
    }
   },
   "source": [
    "## Extract and Transform\n",
    "\n",
    "```python\n",
    "covid19 = Covid19()\n",
    "lookup_table = covid19.get_lookup_table()\n",
    "daily_report = covid19.get_daily_report('02-28-2022')\n",
    "time_series = covid19.get_time_series()\n",
    "```"
   ]
  },
  {
   "cell_type": "markdown",
   "metadata": {
    "slideshow": {
     "slide_type": "subslide"
    }
   },
   "source": [
    "## Load\n",
    "\n",
    "```python\n",
    "con = sqlite3.connect('covid19.db')\n",
    "lookup_table.to_sql('lookup_table', con, if_exists='replace', index=False)\n",
    "daily_report.to_sql('daily_report', con, if_exists='replace', index=False)\n",
    "time_series.to_sql('time_series', con, if_exists='replace', index=False)\n",
    "cur = con.cursor()\n",
    "```"
   ]
  },
  {
   "cell_type": "markdown",
   "metadata": {
    "slideshow": {
     "slide_type": "subslide"
    }
   },
   "source": [
    "## Load: `lookup_table`\n",
    "\n",
    "```sql\n",
    "PRAGMA foreign_keys=off;\n",
    "BEGIN TRANSACTION;\n",
    "ALTER TABLE lookup_table RENAME TO lookup_table_no_keys;\n",
    "CREATE TABLE lookup_table (\n",
    "    UID INTEGER,\n",
    "    Combined_Key TEXT,\n",
    "    iso2 TEXT,\n",
    "    iso3 TEXT,\n",
    "    Country_Region TEXT,\n",
    "    Province_State TEXT,\n",
    "    Admin2 TEXT,\n",
    "    Lat REAL,\n",
    "    Long_ REAL,\n",
    "    Population INTEGER,\n",
    "    PRIMARY KEY (UID)\n",
    ");\n",
    "INSERT INTO lookup_table SELECT * FROM lookup_table_no_keys;\n",
    "COMMIT;\n",
    "PRAGMA foreign_keys=on;\n",
    "```"
   ]
  },
  {
   "cell_type": "markdown",
   "metadata": {
    "slideshow": {
     "slide_type": "subslide"
    }
   },
   "source": [
    "## Load: `daily_report`\n",
    "\n",
    "```sql\n",
    "PRAGMA foreign_keys=off;\n",
    "BEGIN TRANSACTION;\n",
    "ALTER TABLE daily_report RENAME TO daily_report_no_keys;\n",
    "CREATE TABLE daily_report (\n",
    "    Combined_Key TEXT,\n",
    "    Last_Update TEXT,\n",
    "    Confirmed INTEGER,\n",
    "    Deaths INTEGER,\n",
    "    PRIMARY KEY (Combined_Key),\n",
    "    FOREIGN KEY (Combined_Key) REFERENCES lookup_table (Combined_Key) \n",
    "            ON DELETE CASCADE ON UPDATE NO ACTION\n",
    ");\n",
    "INSERT INTO daily_report SELECT * FROM daily_report_no_keys;\n",
    "COMMIT;\n",
    "PRAGMA foreign_keys=on;\n",
    "```"
   ]
  },
  {
   "cell_type": "markdown",
   "metadata": {
    "slideshow": {
     "slide_type": "subslide"
    }
   },
   "source": [
    "## Load: `time_series`\n",
    "\n",
    "```sql\n",
    "PRAGMA foreign_keys=off;\n",
    "BEGIN TRANSACTION;\n",
    "ALTER TABLE time_series RENAME TO time_series_no_keys;\n",
    "CREATE TABLE time_series (\n",
    "    Date TEXT,\n",
    "    Country_Region TEXT,\n",
    "    Confirmed INTEGER,\n",
    "    Deaths INTEGER,\n",
    "    Daily_Cases INTEGER,\n",
    "    Daily_Deaths INTEGER,\n",
    "    PRIMARY KEY (Date, Country_Region),\n",
    "    FOREIGN KEY (Country_Region) REFERENCES lookup_table (Country_Region) \n",
    "            ON DELETE CASCADE ON UPDATE NO ACTION\n",
    ");\n",
    "INSERT INTO time_series SELECT * FROM time_series_no_keys;\n",
    "COMMIT;\n",
    "PRAGMA foreign_keys=on;\n",
    "```"
   ]
  },
  {
   "cell_type": "markdown",
   "metadata": {
    "slideshow": {
     "slide_type": "subslide"
    }
   },
   "source": [
    "## Load(Cont'd)\n",
    "\n",
    "```sql\n",
    "DROP TABLE lookup_table_no_keys;\n",
    "DROP TABLE daily_report_no_keys;\n",
    "DROP TABLE time_series_no_keys;\n",
    "```"
   ]
  },
  {
   "cell_type": "markdown",
   "metadata": {
    "slideshow": {
     "slide_type": "subslide"
    }
   },
   "source": [
    "## ER diagram\n",
    "\n",
    "> An entity–relationship model (or ER model) describes interrelated things of interest in a specific domain of knowledge. A basic ER model is composed of entity types (which classify the things of interest) and specifies relationships that can exist between entities (instances of those entity types).\n",
    "\n",
    "Source: <https://en.wikipedia.org/wiki/Entity%E2%80%93relationship_model>"
   ]
  },
  {
   "cell_type": "markdown",
   "metadata": {
    "slideshow": {
     "slide_type": "subslide"
    }
   },
   "source": [
    "## ER diagram of `covid19.db`\n",
    "\n",
    "![](https://i.imgur.com/FuQXsEj.png)"
   ]
  }
 ],
 "metadata": {
  "celltoolbar": "Slideshow",
  "kernelspec": {
   "display_name": "xsql",
   "language": "sqlite",
   "name": "xsql"
  },
  "language_info": {
   "codemirror_mode": "sql",
   "file_extension": "",
   "mimetype": "",
   "name": "mysql",
   "version": "0.1.4"
  }
 },
 "nbformat": 4,
 "nbformat_minor": 4
}
