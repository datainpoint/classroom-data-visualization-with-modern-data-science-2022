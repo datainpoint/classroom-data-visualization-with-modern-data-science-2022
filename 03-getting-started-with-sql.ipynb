{
 "cells": [
  {
   "cell_type": "markdown",
   "metadata": {
    "slideshow": {
     "slide_type": "slide"
    }
   },
   "source": [
    "# Data Visualization with Modern Data Science\n",
    "\n",
    "> Getting Started with SQL\n",
    "\n",
    "Yao-Jen Kuo <yaojenkuo@ntu.edu.tw> from [DATAINPOINT](https://www.datainpoint.com)"
   ]
  },
  {
   "cell_type": "code",
   "execution_count": 1,
   "metadata": {
    "slideshow": {
     "slide_type": "subslide"
    }
   },
   "outputs": [],
   "source": [
    "%LOAD sqlite3 db=data/covid19.db timeout=2 shared_cache=true"
   ]
  },
  {
   "cell_type": "markdown",
   "metadata": {
    "slideshow": {
     "slide_type": "slide"
    }
   },
   "source": [
    "## What is SQL"
   ]
  },
  {
   "cell_type": "markdown",
   "metadata": {
    "slideshow": {
     "slide_type": "subslide"
    }
   },
   "source": [
    "## The definition\n",
    "\n",
    "SQL(pronounced ess-que-ell or sequel) is a language specifically designed with **relational databases**. SQL enables people to create databases, add new data to them, maintain the data in them, and retrieve selected parts of the data via **database management system**. Developed in the 1970s at IBM, SQL has grown and advanced over the years to become the industry standard."
   ]
  },
  {
   "cell_type": "markdown",
   "metadata": {
    "slideshow": {
     "slide_type": "subslide"
    }
   },
   "source": [
    "## Subcategories of SQL\n",
    "\n",
    "- DQL, short for **Data Query Language**.\n",
    "- DML, short for **Data Manipulation Language**.\n",
    "- DDL, short for **Data Definition Language**.\n",
    "- DCL, short for **Data Control Language**.\n",
    "- TCL, short for **Transaction Control Language**."
   ]
  },
  {
   "cell_type": "markdown",
   "metadata": {
    "slideshow": {
     "slide_type": "subslide"
    }
   },
   "source": [
    "## Subcategories of SQL(Cont'd)\n",
    "\n",
    "- DQL: statements begin with `SELECT`.\n",
    "- DML: statements begin with `INSERT`, `UPDATE`, `DELETE`...etc.\n",
    "- DDL: statements begin with `CREATE`, `DROP`, `ALTER`...etc.\n",
    "- DCL: statements begin with `GRANT`, `REVOKE`...etc.\n",
    "- TCL: statements begin with `COMMIT`, `ROLLBACK`...etc."
   ]
  },
  {
   "cell_type": "markdown",
   "metadata": {
    "slideshow": {
     "slide_type": "subslide"
    }
   },
   "source": [
    "## What will be covered in this course\n",
    "\n",
    "- DQL.\n",
    "- A bit of DML.\n",
    "- A bit of DDL.\n",
    "- ~~DCL.~~\n",
    "- A little bit of TCL."
   ]
  },
  {
   "cell_type": "markdown",
   "metadata": {
    "slideshow": {
     "slide_type": "subslide"
    }
   },
   "source": [
    "## Why SQL\n",
    "\n",
    "- SQL gives us improved programmatic control over the structure of data, leading to efficiency, speed, and accuracy.\n",
    "- SQL is also an excellent adjunct to programming languages used in the data sciences, such as R and Python.\n",
    "- For people with no background in programming languages, SQL often serves as an easy-to-understand introduction into concepts related to data structures and programming logic."
   ]
  },
  {
   "cell_type": "markdown",
   "metadata": {
    "slideshow": {
     "slide_type": "subslide"
    }
   },
   "source": [
    "## What is a relational database\n",
    "\n",
    "> A relational database is a digital database based on the relational model of data.\n",
    "\n",
    "Source: <https://en.wikipedia.org/wiki/Relational_database>"
   ]
  },
  {
   "cell_type": "markdown",
   "metadata": {
    "slideshow": {
     "slide_type": "subslide"
    }
   },
   "source": [
    "## What is a database\n",
    "\n",
    "> A database is like a collection of data items (comic books, product orders and player profile).If we define the term more strictly, a database is a **self-describing** collection of **integrated records**. A record is a representation of some physical or conceptual object.\n",
    "\n",
    "Source: <https://www.amazon.com/SQL-Dummies-Computer-Tech/dp/1119527074>"
   ]
  },
  {
   "cell_type": "markdown",
   "metadata": {
    "slideshow": {
     "slide_type": "subslide"
    }
   },
   "source": [
    "## Characteristics of a database\n",
    "\n",
    "- Integrated records: the observations in a database is accompanied by attributes.\n",
    "- Self-describing: a database contains metadata."
   ]
  },
  {
   "cell_type": "markdown",
   "metadata": {
    "slideshow": {
     "slide_type": "subslide"
    }
   },
   "source": [
    "## What does integrated records mean"
   ]
  },
  {
   "cell_type": "code",
   "execution_count": 2,
   "metadata": {
    "slideshow": {
     "slide_type": "-"
    }
   },
   "outputs": [
    {
     "data": {
      "text/html": [
       "<table>\n",
       "<tr>\n",
       "<th>Combined_Key</th>\n",
       "<th>Last_Update</th>\n",
       "<th>Confirmed</th>\n",
       "<th>Deaths</th>\n",
       "</tr>\n",
       "<tr>\n",
       "<td>Afghanistan</td>\n",
       "<td>2022-03-01 04:21:09</td>\n",
       "<td>173659</td>\n",
       "<td>7598</td>\n",
       "</tr>\n",
       "<tr>\n",
       "<td>Albania</td>\n",
       "<td>2022-03-01 04:21:09</td>\n",
       "<td>271563</td>\n",
       "<td>3469</td>\n",
       "</tr>\n",
       "<tr>\n",
       "<td>Algeria</td>\n",
       "<td>2022-03-01 04:21:09</td>\n",
       "<td>264936</td>\n",
       "<td>6835</td>\n",
       "</tr>\n",
       "<tr>\n",
       "<td>Andorra</td>\n",
       "<td>2022-03-01 04:21:09</td>\n",
       "<td>37999</td>\n",
       "<td>151</td>\n",
       "</tr>\n",
       "<tr>\n",
       "<td>Angola</td>\n",
       "<td>2022-03-01 04:21:09</td>\n",
       "<td>98741</td>\n",
       "<td>1900</td>\n",
       "</tr>\n",
       "</table>\n",
       "5 rows in set (0.00 sec)"
      ],
      "text/plain": [
       "+--------------+---------------------+-----------+--------+\n",
       "| Combined_Key | Last_Update         | Confirmed | Deaths |\n",
       "+--------------+---------------------+-----------+--------+\n",
       "| Afghanistan  | 2022-03-01 04:21:09 | 173659    | 7598   |\n",
       "+--------------+---------------------+-----------+--------+\n",
       "| Albania      | 2022-03-01 04:21:09 | 271563    | 3469   |\n",
       "+--------------+---------------------+-----------+--------+\n",
       "| Algeria      | 2022-03-01 04:21:09 | 264936    | 6835   |\n",
       "+--------------+---------------------+-----------+--------+\n",
       "| Andorra      | 2022-03-01 04:21:09 | 37999     | 151    |\n",
       "+--------------+---------------------+-----------+--------+\n",
       "| Angola       | 2022-03-01 04:21:09 | 98741     | 1900   |\n",
       "+--------------+---------------------+-----------+--------+\n",
       "5 rows in set (0.00 sec)"
      ]
     },
     "execution_count": 2,
     "metadata": {},
     "output_type": "execute_result"
    }
   ],
   "source": [
    "SELECT * \n",
    "  FROM daily_report\n",
    " LIMIT 5;"
   ]
  },
  {
   "cell_type": "markdown",
   "metadata": {
    "slideshow": {
     "slide_type": "subslide"
    }
   },
   "source": [
    "## What does self-describing mean\n",
    "\n",
    "> Metadata is \"data that provides information about other data\". In other words, it is \"data about data\".\n",
    "\n",
    "Source: <https://en.wikipedia.org/wiki/Metadata>"
   ]
  },
  {
   "cell_type": "markdown",
   "metadata": {
    "slideshow": {
     "slide_type": "subslide"
    }
   },
   "source": [
    "## Seriously, what the f*** is metadata?\n",
    "\n",
    "![](https://media.giphy.com/media/xT0xeif517lOYwnH2g/giphy.gif)\n",
    "\n",
    "Source: <https://media.giphy.com/media/xT0xeif517lOYwnH2g/giphy.gif>"
   ]
  },
  {
   "cell_type": "markdown",
   "metadata": {
    "slideshow": {
     "slide_type": "subslide"
    }
   },
   "source": [
    "## Metadata of `covid19`"
   ]
  },
  {
   "cell_type": "code",
   "execution_count": 3,
   "metadata": {},
   "outputs": [
    {
     "data": {
      "text/html": [
       "<table>\n",
       "<tr>\n",
       "<th>name</th>\n",
       "</tr>\n",
       "<tr>\n",
       "<td>lookup_table</td>\n",
       "</tr>\n",
       "<tr>\n",
       "<td>daily_report</td>\n",
       "</tr>\n",
       "<tr>\n",
       "<td>time_series</td>\n",
       "</tr>\n",
       "</table>\n",
       "3 rows in set (0.00 sec)"
      ],
      "text/plain": [
       "+--------------+\n",
       "| name         |\n",
       "+--------------+\n",
       "| lookup_table |\n",
       "+--------------+\n",
       "| daily_report |\n",
       "+--------------+\n",
       "| time_series  |\n",
       "+--------------+\n",
       "3 rows in set (0.00 sec)"
      ]
     },
     "execution_count": 3,
     "metadata": {},
     "output_type": "execute_result"
    }
   ],
   "source": [
    "SELECT name\n",
    "  FROM sqlite_schema\n",
    " WHERE name NOT LIKE 'sqlite_%';"
   ]
  },
  {
   "cell_type": "markdown",
   "metadata": {
    "slideshow": {
     "slide_type": "subslide"
    }
   },
   "source": [
    "## Metadata of `covid19.daily_report`"
   ]
  },
  {
   "cell_type": "code",
   "execution_count": 4,
   "metadata": {
    "slideshow": {
     "slide_type": "-"
    }
   },
   "outputs": [
    {
     "data": {
      "text/html": [
       "<table>\n",
       "<tr>\n",
       "<th>cid</th>\n",
       "<th>name</th>\n",
       "<th>type</th>\n",
       "<th>notnull</th>\n",
       "<th>dflt_value</th>\n",
       "<th>pk</th>\n",
       "</tr>\n",
       "<tr>\n",
       "<td>0</td>\n",
       "<td>Combined_Key</td>\n",
       "<td>TEXT</td>\n",
       "<td>0</td>\n",
       "<td>NULL</td>\n",
       "<td>1</td>\n",
       "</tr>\n",
       "<tr>\n",
       "<td>1</td>\n",
       "<td>Last_Update</td>\n",
       "<td>TEXT</td>\n",
       "<td>0</td>\n",
       "<td>NULL</td>\n",
       "<td>0</td>\n",
       "</tr>\n",
       "<tr>\n",
       "<td>2</td>\n",
       "<td>Confirmed</td>\n",
       "<td>INTEGER</td>\n",
       "<td>0</td>\n",
       "<td>NULL</td>\n",
       "<td>0</td>\n",
       "</tr>\n",
       "<tr>\n",
       "<td>3</td>\n",
       "<td>Deaths</td>\n",
       "<td>INTEGER</td>\n",
       "<td>0</td>\n",
       "<td>NULL</td>\n",
       "<td>0</td>\n",
       "</tr>\n",
       "</table>\n",
       "4 rows in set (0.00 sec)"
      ],
      "text/plain": [
       "+-----+--------------+---------+---------+------------+----+\n",
       "| cid | name         | type    | notnull | dflt_value | pk |\n",
       "+-----+--------------+---------+---------+------------+----+\n",
       "| 0   | Combined_Key | TEXT    | 0       | NULL       | 1  |\n",
       "+-----+--------------+---------+---------+------------+----+\n",
       "| 1   | Last_Update  | TEXT    | 0       | NULL       | 0  |\n",
       "+-----+--------------+---------+---------+------------+----+\n",
       "| 2   | Confirmed    | INTEGER | 0       | NULL       | 0  |\n",
       "+-----+--------------+---------+---------+------------+----+\n",
       "| 3   | Deaths       | INTEGER | 0       | NULL       | 0  |\n",
       "+-----+--------------+---------+---------+------------+----+\n",
       "4 rows in set (0.00 sec)"
      ]
     },
     "execution_count": 4,
     "metadata": {},
     "output_type": "execute_result"
    }
   ],
   "source": [
    "SELECT * \n",
    "  FROM PRAGMA_TABLE_INFO('daily_report');"
   ]
  },
  {
   "cell_type": "markdown",
   "metadata": {
    "slideshow": {
     "slide_type": "subslide"
    }
   },
   "source": [
    "## Metadata of `covid19.lookup_table`"
   ]
  },
  {
   "cell_type": "code",
   "execution_count": 5,
   "metadata": {},
   "outputs": [
    {
     "data": {
      "text/html": [
       "<table>\n",
       "<tr>\n",
       "<th>cid</th>\n",
       "<th>name</th>\n",
       "<th>type</th>\n",
       "<th>notnull</th>\n",
       "<th>dflt_value</th>\n",
       "<th>pk</th>\n",
       "</tr>\n",
       "<tr>\n",
       "<td>0</td>\n",
       "<td>UID</td>\n",
       "<td>INTEGER</td>\n",
       "<td>0</td>\n",
       "<td>NULL</td>\n",
       "<td>1</td>\n",
       "</tr>\n",
       "<tr>\n",
       "<td>1</td>\n",
       "<td>Combined_Key</td>\n",
       "<td>TEXT</td>\n",
       "<td>0</td>\n",
       "<td>NULL</td>\n",
       "<td>0</td>\n",
       "</tr>\n",
       "<tr>\n",
       "<td>2</td>\n",
       "<td>iso2</td>\n",
       "<td>TEXT</td>\n",
       "<td>0</td>\n",
       "<td>NULL</td>\n",
       "<td>0</td>\n",
       "</tr>\n",
       "<tr>\n",
       "<td>3</td>\n",
       "<td>iso3</td>\n",
       "<td>TEXT</td>\n",
       "<td>0</td>\n",
       "<td>NULL</td>\n",
       "<td>0</td>\n",
       "</tr>\n",
       "<tr>\n",
       "<td>4</td>\n",
       "<td>Country_Region</td>\n",
       "<td>TEXT</td>\n",
       "<td>0</td>\n",
       "<td>NULL</td>\n",
       "<td>0</td>\n",
       "</tr>\n",
       "<tr>\n",
       "<td>5</td>\n",
       "<td>Province_State</td>\n",
       "<td>TEXT</td>\n",
       "<td>0</td>\n",
       "<td>NULL</td>\n",
       "<td>0</td>\n",
       "</tr>\n",
       "<tr>\n",
       "<td>6</td>\n",
       "<td>Admin2</td>\n",
       "<td>TEXT</td>\n",
       "<td>0</td>\n",
       "<td>NULL</td>\n",
       "<td>0</td>\n",
       "</tr>\n",
       "<tr>\n",
       "<td>7</td>\n",
       "<td>Lat</td>\n",
       "<td>REAL</td>\n",
       "<td>0</td>\n",
       "<td>NULL</td>\n",
       "<td>0</td>\n",
       "</tr>\n",
       "<tr>\n",
       "<td>8</td>\n",
       "<td>Long_</td>\n",
       "<td>REAL</td>\n",
       "<td>0</td>\n",
       "<td>NULL</td>\n",
       "<td>0</td>\n",
       "</tr>\n",
       "<tr>\n",
       "<td>9</td>\n",
       "<td>Population</td>\n",
       "<td>INTEGER</td>\n",
       "<td>0</td>\n",
       "<td>NULL</td>\n",
       "<td>0</td>\n",
       "</tr>\n",
       "</table>\n",
       "10 rows in set (0.00 sec)"
      ],
      "text/plain": [
       "+-----+----------------+---------+---------+------------+----+\n",
       "| cid | name           | type    | notnull | dflt_value | pk |\n",
       "+-----+----------------+---------+---------+------------+----+\n",
       "| 0   | UID            | INTEGER | 0       | NULL       | 1  |\n",
       "+-----+----------------+---------+---------+------------+----+\n",
       "| 1   | Combined_Key   | TEXT    | 0       | NULL       | 0  |\n",
       "+-----+----------------+---------+---------+------------+----+\n",
       "| 2   | iso2           | TEXT    | 0       | NULL       | 0  |\n",
       "+-----+----------------+---------+---------+------------+----+\n",
       "| 3   | iso3           | TEXT    | 0       | NULL       | 0  |\n",
       "+-----+----------------+---------+---------+------------+----+\n",
       "| 4   | Country_Region | TEXT    | 0       | NULL       | 0  |\n",
       "+-----+----------------+---------+---------+------------+----+\n",
       "| 5   | Province_State | TEXT    | 0       | NULL       | 0  |\n",
       "+-----+----------------+---------+---------+------------+----+\n",
       "| 6   | Admin2         | TEXT    | 0       | NULL       | 0  |\n",
       "+-----+----------------+---------+---------+------------+----+\n",
       "| 7   | Lat            | REAL    | 0       | NULL       | 0  |\n",
       "+-----+----------------+---------+---------+------------+----+\n",
       "| 8   | Long_          | REAL    | 0       | NULL       | 0  |\n",
       "+-----+----------------+---------+---------+------------+----+\n",
       "| 9   | Population     | INTEGER | 0       | NULL       | 0  |\n",
       "+-----+----------------+---------+---------+------------+----+\n",
       "10 rows in set (0.00 sec)"
      ]
     },
     "execution_count": 5,
     "metadata": {},
     "output_type": "execute_result"
    }
   ],
   "source": [
    "SELECT * \n",
    "  FROM PRAGMA_TABLE_INFO('lookup_table');"
   ]
  },
  {
   "cell_type": "markdown",
   "metadata": {
    "slideshow": {
     "slide_type": "subslide"
    }
   },
   "source": [
    "## Metadata of `covid19.time_series`"
   ]
  },
  {
   "cell_type": "code",
   "execution_count": 6,
   "metadata": {},
   "outputs": [
    {
     "data": {
      "text/html": [
       "<table>\n",
       "<tr>\n",
       "<th>cid</th>\n",
       "<th>name</th>\n",
       "<th>type</th>\n",
       "<th>notnull</th>\n",
       "<th>dflt_value</th>\n",
       "<th>pk</th>\n",
       "</tr>\n",
       "<tr>\n",
       "<td>0</td>\n",
       "<td>Date</td>\n",
       "<td>TEXT</td>\n",
       "<td>0</td>\n",
       "<td>NULL</td>\n",
       "<td>1</td>\n",
       "</tr>\n",
       "<tr>\n",
       "<td>1</td>\n",
       "<td>Country_Region</td>\n",
       "<td>TEXT</td>\n",
       "<td>0</td>\n",
       "<td>NULL</td>\n",
       "<td>2</td>\n",
       "</tr>\n",
       "<tr>\n",
       "<td>2</td>\n",
       "<td>Confirmed</td>\n",
       "<td>INTEGER</td>\n",
       "<td>0</td>\n",
       "<td>NULL</td>\n",
       "<td>0</td>\n",
       "</tr>\n",
       "<tr>\n",
       "<td>3</td>\n",
       "<td>Deaths</td>\n",
       "<td>INTEGER</td>\n",
       "<td>0</td>\n",
       "<td>NULL</td>\n",
       "<td>0</td>\n",
       "</tr>\n",
       "<tr>\n",
       "<td>4</td>\n",
       "<td>Daily_Cases</td>\n",
       "<td>INTEGER</td>\n",
       "<td>0</td>\n",
       "<td>NULL</td>\n",
       "<td>0</td>\n",
       "</tr>\n",
       "<tr>\n",
       "<td>5</td>\n",
       "<td>Daily_Deaths</td>\n",
       "<td>INTEGER</td>\n",
       "<td>0</td>\n",
       "<td>NULL</td>\n",
       "<td>0</td>\n",
       "</tr>\n",
       "</table>\n",
       "6 rows in set (0.00 sec)"
      ],
      "text/plain": [
       "+-----+----------------+---------+---------+------------+----+\n",
       "| cid | name           | type    | notnull | dflt_value | pk |\n",
       "+-----+----------------+---------+---------+------------+----+\n",
       "| 0   | Date           | TEXT    | 0       | NULL       | 1  |\n",
       "+-----+----------------+---------+---------+------------+----+\n",
       "| 1   | Country_Region | TEXT    | 0       | NULL       | 2  |\n",
       "+-----+----------------+---------+---------+------------+----+\n",
       "| 2   | Confirmed      | INTEGER | 0       | NULL       | 0  |\n",
       "+-----+----------------+---------+---------+------------+----+\n",
       "| 3   | Deaths         | INTEGER | 0       | NULL       | 0  |\n",
       "+-----+----------------+---------+---------+------------+----+\n",
       "| 4   | Daily_Cases    | INTEGER | 0       | NULL       | 0  |\n",
       "+-----+----------------+---------+---------+------------+----+\n",
       "| 5   | Daily_Deaths   | INTEGER | 0       | NULL       | 0  |\n",
       "+-----+----------------+---------+---------+------------+----+\n",
       "6 rows in set (0.00 sec)"
      ]
     },
     "execution_count": 6,
     "metadata": {},
     "output_type": "execute_result"
    }
   ],
   "source": [
    "SELECT * \n",
    "  FROM PRAGMA_TABLE_INFO('time_series');"
   ]
  },
  {
   "cell_type": "markdown",
   "metadata": {
    "slideshow": {
     "slide_type": "subslide"
    }
   },
   "source": [
    "## What is a database management system\n",
    "\n",
    "> The database management system (DBMS) is the software that interacts with end users, applications, and the database itself to capture and analyze the data.\n",
    "\n",
    "Source: <https://en.wikipedia.org/wiki/Database>"
   ]
  },
  {
   "cell_type": "markdown",
   "metadata": {
    "slideshow": {
     "slide_type": "subslide"
    }
   },
   "source": [
    "## What is a database management system, the less technical version\n",
    "\n",
    "A database management system (DBMS) bridges the application program(could be a web application, programming environment, or just a client interface) and the database."
   ]
  },
  {
   "cell_type": "markdown",
   "metadata": {
    "slideshow": {
     "slide_type": "subslide"
    }
   },
   "source": [
    "## There are a lot of relational database management systems\n",
    "\n",
    "- SQL Server by Microsoft.\n",
    "- MySQL by Oracle.\n",
    "- DB2 by IBM.\n",
    "- PostgreSQL.\n",
    "- **SQLite**.\n",
    "- ...etc."
   ]
  },
  {
   "cell_type": "markdown",
   "metadata": {
    "slideshow": {
     "slide_type": "subslide"
    }
   },
   "source": [
    "## What is SQLite\n",
    "\n",
    "> SQLite is a relational database management system (RDBMS). In contrast to many other database management systems, SQLite is not a client–server database engine. Rather, it is embedded into the end program.\n",
    "\n",
    "Source: <https://en.wikipedia.org/wiki/SQLite>"
   ]
  },
  {
   "cell_type": "markdown",
   "metadata": {
    "slideshow": {
     "slide_type": "subslide"
    }
   },
   "source": [
    "## Why SQLite\n",
    "\n",
    "- It is open-sourced.\n",
    "- It is self-contained.\n",
    "- It is light and portable.\n",
    "- I PERSONALLY think it is the best way for newbies to learn SQL on local machine."
   ]
  },
  {
   "cell_type": "markdown",
   "metadata": {
    "slideshow": {
     "slide_type": "slide"
    }
   },
   "source": [
    "## Getting SQLiteStudio"
   ]
  },
  {
   "cell_type": "markdown",
   "metadata": {
    "slideshow": {
     "slide_type": "subslide"
    }
   },
   "source": [
    "## What is SQLiteStudio\n",
    "\n",
    "> SQLiteStudio is desktop application for browsing and editing SQLite database files. It is aimed for people, who know what SQLite is, or what relational databases are in general.\n",
    "\n",
    "Source: <https://sqlitestudio.pl/about>"
   ]
  },
  {
   "cell_type": "markdown",
   "metadata": {
    "slideshow": {
     "slide_type": "subslide"
    }
   },
   "source": [
    "## Download and install SQLiteStudio\n",
    "\n",
    "- Windows: [SQLiteStudio-3.2.1.exe](https://drive.google.com/file/d/1bK0_JskM_8r2biRnClfrrvHwjr2kqn4S/view?usp=sharing)\n",
    "- MacOS: [SQLiteStudio-3.2.1.dmg](https://drive.google.com/file/d/1EVZJucCRK49d4L7c8F9-fUAUsTYvRNpN/view?usp=sharing)"
   ]
  },
  {
   "cell_type": "markdown",
   "metadata": {
    "slideshow": {
     "slide_type": "subslide"
    }
   },
   "source": [
    "## Downloading an established database `covid19.db` from [course repository](https://mybinder.org/v2/gh/datainpoint/classroom-data-visualization-with-modern-data-science-2022/HEAD?urlpath=tree/data)"
   ]
  },
  {
   "cell_type": "markdown",
   "metadata": {
    "slideshow": {
     "slide_type": "subslide"
    }
   },
   "source": [
    "## Now we have a SQLite database client that is able to connect to an established database in our own local machine\n",
    "\n",
    "- Database > Add a database.\n",
    "- Browse for existing database on local computer > OK.\n",
    "- Database > Connect to the database."
   ]
  },
  {
   "cell_type": "markdown",
   "metadata": {
    "slideshow": {
     "slide_type": "subslide"
    }
   },
   "source": [
    "## A few \"Hello, World!\" like SQL statements"
   ]
  },
  {
   "cell_type": "code",
   "execution_count": 7,
   "metadata": {},
   "outputs": [
    {
     "data": {
      "text/html": [
       "<table>\n",
       "<tr>\n",
       "<th>Combined_Key</th>\n",
       "<th>Last_Update</th>\n",
       "<th>Confirmed</th>\n",
       "<th>Deaths</th>\n",
       "</tr>\n",
       "<tr>\n",
       "<td>Afghanistan</td>\n",
       "<td>2022-03-01 04:21:09</td>\n",
       "<td>173659</td>\n",
       "<td>7598</td>\n",
       "</tr>\n",
       "<tr>\n",
       "<td>Albania</td>\n",
       "<td>2022-03-01 04:21:09</td>\n",
       "<td>271563</td>\n",
       "<td>3469</td>\n",
       "</tr>\n",
       "<tr>\n",
       "<td>Algeria</td>\n",
       "<td>2022-03-01 04:21:09</td>\n",
       "<td>264936</td>\n",
       "<td>6835</td>\n",
       "</tr>\n",
       "<tr>\n",
       "<td>Andorra</td>\n",
       "<td>2022-03-01 04:21:09</td>\n",
       "<td>37999</td>\n",
       "<td>151</td>\n",
       "</tr>\n",
       "<tr>\n",
       "<td>Angola</td>\n",
       "<td>2022-03-01 04:21:09</td>\n",
       "<td>98741</td>\n",
       "<td>1900</td>\n",
       "</tr>\n",
       "</table>\n",
       "5 rows in set (0.00 sec)"
      ],
      "text/plain": [
       "+--------------+---------------------+-----------+--------+\n",
       "| Combined_Key | Last_Update         | Confirmed | Deaths |\n",
       "+--------------+---------------------+-----------+--------+\n",
       "| Afghanistan  | 2022-03-01 04:21:09 | 173659    | 7598   |\n",
       "+--------------+---------------------+-----------+--------+\n",
       "| Albania      | 2022-03-01 04:21:09 | 271563    | 3469   |\n",
       "+--------------+---------------------+-----------+--------+\n",
       "| Algeria      | 2022-03-01 04:21:09 | 264936    | 6835   |\n",
       "+--------------+---------------------+-----------+--------+\n",
       "| Andorra      | 2022-03-01 04:21:09 | 37999     | 151    |\n",
       "+--------------+---------------------+-----------+--------+\n",
       "| Angola       | 2022-03-01 04:21:09 | 98741     | 1900   |\n",
       "+--------------+---------------------+-----------+--------+\n",
       "5 rows in set (0.00 sec)"
      ]
     },
     "execution_count": 7,
     "metadata": {},
     "output_type": "execute_result"
    }
   ],
   "source": [
    "SELECT *\n",
    "  FROM daily_report\n",
    " LIMIT 5;"
   ]
  },
  {
   "cell_type": "code",
   "execution_count": 8,
   "metadata": {
    "slideshow": {
     "slide_type": "subslide"
    }
   },
   "outputs": [
    {
     "data": {
      "text/html": [
       "<table>\n",
       "<tr>\n",
       "<th>UID</th>\n",
       "<th>Combined_Key</th>\n",
       "<th>iso2</th>\n",
       "<th>iso3</th>\n",
       "<th>Country_Region</th>\n",
       "<th>Province_State</th>\n",
       "<th>Admin2</th>\n",
       "<th>Lat</th>\n",
       "<th>Long_</th>\n",
       "<th>Population</th>\n",
       "</tr>\n",
       "<tr>\n",
       "<td>4</td>\n",
       "<td>Afghanistan</td>\n",
       "<td>AF</td>\n",
       "<td>AFG</td>\n",
       "<td>Afghanistan</td>\n",
       "<td>NULL</td>\n",
       "<td>NULL</td>\n",
       "<td>33.93911</td>\n",
       "<td>67.709953</td>\n",
       "<td>38928341</td>\n",
       "</tr>\n",
       "<tr>\n",
       "<td>8</td>\n",
       "<td>Albania</td>\n",
       "<td>AL</td>\n",
       "<td>ALB</td>\n",
       "<td>Albania</td>\n",
       "<td>NULL</td>\n",
       "<td>NULL</td>\n",
       "<td>41.1533</td>\n",
       "<td>20.1683</td>\n",
       "<td>2877800</td>\n",
       "</tr>\n",
       "<tr>\n",
       "<td>10</td>\n",
       "<td>Antarctica</td>\n",
       "<td>AQ</td>\n",
       "<td>ATA</td>\n",
       "<td>Antarctica</td>\n",
       "<td>NULL</td>\n",
       "<td>NULL</td>\n",
       "<td>-71.9499</td>\n",
       "<td>23.347</td>\n",
       "<td>NULL</td>\n",
       "</tr>\n",
       "<tr>\n",
       "<td>12</td>\n",
       "<td>Algeria</td>\n",
       "<td>DZ</td>\n",
       "<td>DZA</td>\n",
       "<td>Algeria</td>\n",
       "<td>NULL</td>\n",
       "<td>NULL</td>\n",
       "<td>28.0339</td>\n",
       "<td>1.6596</td>\n",
       "<td>43851043</td>\n",
       "</tr>\n",
       "<tr>\n",
       "<td>16</td>\n",
       "<td>American Samoa, US</td>\n",
       "<td>AS</td>\n",
       "<td>ASM</td>\n",
       "<td>US</td>\n",
       "<td>American Samoa</td>\n",
       "<td>NULL</td>\n",
       "<td>-14.271</td>\n",
       "<td>-170.132</td>\n",
       "<td>55641</td>\n",
       "</tr>\n",
       "</table>\n",
       "5 rows in set (0.00 sec)"
      ],
      "text/plain": [
       "+-----+--------------------+------+------+----------------+----------------+--------+----------+-----------+------------+\n",
       "| UID | Combined_Key       | iso2 | iso3 | Country_Region | Province_State | Admin2 | Lat      | Long_     | Population |\n",
       "+-----+--------------------+------+------+----------------+----------------+--------+----------+-----------+------------+\n",
       "| 4   | Afghanistan        | AF   | AFG  | Afghanistan    | NULL           | NULL   | 33.93911 | 67.709953 | 38928341   |\n",
       "+-----+--------------------+------+------+----------------+----------------+--------+----------+-----------+------------+\n",
       "| 8   | Albania            | AL   | ALB  | Albania        | NULL           | NULL   | 41.1533  | 20.1683   | 2877800    |\n",
       "+-----+--------------------+------+------+----------------+----------------+--------+----------+-----------+------------+\n",
       "| 10  | Antarctica         | AQ   | ATA  | Antarctica     | NULL           | NULL   | -71.9499 | 23.347    | NULL       |\n",
       "+-----+--------------------+------+------+----------------+----------------+--------+----------+-----------+------------+\n",
       "| 12  | Algeria            | DZ   | DZA  | Algeria        | NULL           | NULL   | 28.0339  | 1.6596    | 43851043   |\n",
       "+-----+--------------------+------+------+----------------+----------------+--------+----------+-----------+------------+\n",
       "| 16  | American Samoa, US | AS   | ASM  | US             | American Samoa | NULL   | -14.271  | -170.132  | 55641      |\n",
       "+-----+--------------------+------+------+----------------+----------------+--------+----------+-----------+------------+\n",
       "5 rows in set (0.00 sec)"
      ]
     },
     "execution_count": 8,
     "metadata": {},
     "output_type": "execute_result"
    }
   ],
   "source": [
    "SELECT *\n",
    "  FROM lookup_table\n",
    " LIMIT 5;"
   ]
  },
  {
   "cell_type": "code",
   "execution_count": 9,
   "metadata": {
    "slideshow": {
     "slide_type": "subslide"
    }
   },
   "outputs": [
    {
     "data": {
      "text/html": [
       "<table>\n",
       "<tr>\n",
       "<th>Date</th>\n",
       "<th>Country_Region</th>\n",
       "<th>Confirmed</th>\n",
       "<th>Deaths</th>\n",
       "<th>Daily_Cases</th>\n",
       "<th>Daily_Deaths</th>\n",
       "</tr>\n",
       "<tr>\n",
       "<td>2020-01-22</td>\n",
       "<td>Afghanistan</td>\n",
       "<td>0</td>\n",
       "<td>0</td>\n",
       "<td>0</td>\n",
       "<td>0</td>\n",
       "</tr>\n",
       "<tr>\n",
       "<td>2020-01-22</td>\n",
       "<td>Albania</td>\n",
       "<td>0</td>\n",
       "<td>0</td>\n",
       "<td>0</td>\n",
       "<td>0</td>\n",
       "</tr>\n",
       "<tr>\n",
       "<td>2020-01-22</td>\n",
       "<td>Algeria</td>\n",
       "<td>0</td>\n",
       "<td>0</td>\n",
       "<td>0</td>\n",
       "<td>0</td>\n",
       "</tr>\n",
       "<tr>\n",
       "<td>2020-01-22</td>\n",
       "<td>Andorra</td>\n",
       "<td>0</td>\n",
       "<td>0</td>\n",
       "<td>0</td>\n",
       "<td>0</td>\n",
       "</tr>\n",
       "<tr>\n",
       "<td>2020-01-22</td>\n",
       "<td>Angola</td>\n",
       "<td>0</td>\n",
       "<td>0</td>\n",
       "<td>0</td>\n",
       "<td>0</td>\n",
       "</tr>\n",
       "</table>\n",
       "5 rows in set (0.00 sec)"
      ],
      "text/plain": [
       "+------------+----------------+-----------+--------+-------------+--------------+\n",
       "| Date       | Country_Region | Confirmed | Deaths | Daily_Cases | Daily_Deaths |\n",
       "+------------+----------------+-----------+--------+-------------+--------------+\n",
       "| 2020-01-22 | Afghanistan    | 0         | 0      | 0           | 0            |\n",
       "+------------+----------------+-----------+--------+-------------+--------------+\n",
       "| 2020-01-22 | Albania        | 0         | 0      | 0           | 0            |\n",
       "+------------+----------------+-----------+--------+-------------+--------------+\n",
       "| 2020-01-22 | Algeria        | 0         | 0      | 0           | 0            |\n",
       "+------------+----------------+-----------+--------+-------------+--------------+\n",
       "| 2020-01-22 | Andorra        | 0         | 0      | 0           | 0            |\n",
       "+------------+----------------+-----------+--------+-------------+--------------+\n",
       "| 2020-01-22 | Angola         | 0         | 0      | 0           | 0            |\n",
       "+------------+----------------+-----------+--------+-------------+--------------+\n",
       "5 rows in set (0.00 sec)"
      ]
     },
     "execution_count": 9,
     "metadata": {},
     "output_type": "execute_result"
    }
   ],
   "source": [
    "SELECT *\n",
    "  FROM time_series\n",
    " LIMIT 5;"
   ]
  },
  {
   "cell_type": "markdown",
   "metadata": {
    "slideshow": {
     "slide_type": "subslide"
    }
   },
   "source": [
    "## What is a SQL statement\n",
    "\n",
    "- A SQL statement is a combination of keywords, object names(e.g. databases/tables/columns/functions), constants, and operators.\n",
    "- SQL keywords are NOT case sensitive.\n",
    "- Semicolon `;` is the standard way to separate each SQL statement in database systems that allow more than one SQL statement to be executed in the same call.\n",
    "- Indentations or new lines are OPTIONAL in SQL statements."
   ]
  },
  {
   "cell_type": "markdown",
   "metadata": {
    "slideshow": {
     "slide_type": "subslide"
    }
   },
   "source": [
    "## SQL keywords are NOT case sensitive"
   ]
  },
  {
   "cell_type": "code",
   "execution_count": 10,
   "metadata": {},
   "outputs": [
    {
     "data": {
      "text/html": [
       "<table>\n",
       "<tr>\n",
       "<th>Combined_Key</th>\n",
       "<th>Last_Update</th>\n",
       "<th>Confirmed</th>\n",
       "<th>Deaths</th>\n",
       "</tr>\n",
       "<tr>\n",
       "<td>Afghanistan</td>\n",
       "<td>2022-03-01 04:21:09</td>\n",
       "<td>173659</td>\n",
       "<td>7598</td>\n",
       "</tr>\n",
       "<tr>\n",
       "<td>Albania</td>\n",
       "<td>2022-03-01 04:21:09</td>\n",
       "<td>271563</td>\n",
       "<td>3469</td>\n",
       "</tr>\n",
       "<tr>\n",
       "<td>Algeria</td>\n",
       "<td>2022-03-01 04:21:09</td>\n",
       "<td>264936</td>\n",
       "<td>6835</td>\n",
       "</tr>\n",
       "<tr>\n",
       "<td>Andorra</td>\n",
       "<td>2022-03-01 04:21:09</td>\n",
       "<td>37999</td>\n",
       "<td>151</td>\n",
       "</tr>\n",
       "<tr>\n",
       "<td>Angola</td>\n",
       "<td>2022-03-01 04:21:09</td>\n",
       "<td>98741</td>\n",
       "<td>1900</td>\n",
       "</tr>\n",
       "</table>\n",
       "5 rows in set (0.00 sec)"
      ],
      "text/plain": [
       "+--------------+---------------------+-----------+--------+\n",
       "| Combined_Key | Last_Update         | Confirmed | Deaths |\n",
       "+--------------+---------------------+-----------+--------+\n",
       "| Afghanistan  | 2022-03-01 04:21:09 | 173659    | 7598   |\n",
       "+--------------+---------------------+-----------+--------+\n",
       "| Albania      | 2022-03-01 04:21:09 | 271563    | 3469   |\n",
       "+--------------+---------------------+-----------+--------+\n",
       "| Algeria      | 2022-03-01 04:21:09 | 264936    | 6835   |\n",
       "+--------------+---------------------+-----------+--------+\n",
       "| Andorra      | 2022-03-01 04:21:09 | 37999     | 151    |\n",
       "+--------------+---------------------+-----------+--------+\n",
       "| Angola       | 2022-03-01 04:21:09 | 98741     | 1900   |\n",
       "+--------------+---------------------+-----------+--------+\n",
       "5 rows in set (0.00 sec)"
      ]
     },
     "execution_count": 10,
     "metadata": {},
     "output_type": "execute_result"
    }
   ],
   "source": [
    "select *\n",
    "  from daily_report\n",
    " limit 5;"
   ]
  },
  {
   "cell_type": "markdown",
   "metadata": {
    "slideshow": {
     "slide_type": "subslide"
    }
   },
   "source": [
    "## Indentations or new lines are OPTIONAL in SQL statements"
   ]
  },
  {
   "cell_type": "code",
   "execution_count": 11,
   "metadata": {},
   "outputs": [
    {
     "data": {
      "text/html": [
       "<table>\n",
       "<tr>\n",
       "<th>UID</th>\n",
       "<th>Combined_Key</th>\n",
       "<th>iso2</th>\n",
       "<th>iso3</th>\n",
       "<th>Country_Region</th>\n",
       "<th>Province_State</th>\n",
       "<th>Admin2</th>\n",
       "<th>Lat</th>\n",
       "<th>Long_</th>\n",
       "<th>Population</th>\n",
       "</tr>\n",
       "<tr>\n",
       "<td>4</td>\n",
       "<td>Afghanistan</td>\n",
       "<td>AF</td>\n",
       "<td>AFG</td>\n",
       "<td>Afghanistan</td>\n",
       "<td>NULL</td>\n",
       "<td>NULL</td>\n",
       "<td>33.93911</td>\n",
       "<td>67.709953</td>\n",
       "<td>38928341</td>\n",
       "</tr>\n",
       "<tr>\n",
       "<td>8</td>\n",
       "<td>Albania</td>\n",
       "<td>AL</td>\n",
       "<td>ALB</td>\n",
       "<td>Albania</td>\n",
       "<td>NULL</td>\n",
       "<td>NULL</td>\n",
       "<td>41.1533</td>\n",
       "<td>20.1683</td>\n",
       "<td>2877800</td>\n",
       "</tr>\n",
       "<tr>\n",
       "<td>10</td>\n",
       "<td>Antarctica</td>\n",
       "<td>AQ</td>\n",
       "<td>ATA</td>\n",
       "<td>Antarctica</td>\n",
       "<td>NULL</td>\n",
       "<td>NULL</td>\n",
       "<td>-71.9499</td>\n",
       "<td>23.347</td>\n",
       "<td>NULL</td>\n",
       "</tr>\n",
       "</table>\n",
       "3 rows in set (0.00 sec)"
      ],
      "text/plain": [
       "+-----+--------------+------+------+----------------+----------------+--------+----------+-----------+------------+\n",
       "| UID | Combined_Key | iso2 | iso3 | Country_Region | Province_State | Admin2 | Lat      | Long_     | Population |\n",
       "+-----+--------------+------+------+----------------+----------------+--------+----------+-----------+------------+\n",
       "| 4   | Afghanistan  | AF   | AFG  | Afghanistan    | NULL           | NULL   | 33.93911 | 67.709953 | 38928341   |\n",
       "+-----+--------------+------+------+----------------+----------------+--------+----------+-----------+------------+\n",
       "| 8   | Albania      | AL   | ALB  | Albania        | NULL           | NULL   | 41.1533  | 20.1683   | 2877800    |\n",
       "+-----+--------------+------+------+----------------+----------------+--------+----------+-----------+------------+\n",
       "| 10  | Antarctica   | AQ   | ATA  | Antarctica     | NULL           | NULL   | -71.9499 | 23.347    | NULL       |\n",
       "+-----+--------------+------+------+----------------+----------------+--------+----------+-----------+------------+\n",
       "3 rows in set (0.00 sec)"
      ]
     },
     "execution_count": 11,
     "metadata": {},
     "output_type": "execute_result"
    }
   ],
   "source": [
    "SELECT *\n",
    "FROM lookup_table\n",
    "LIMIT 3;"
   ]
  },
  {
   "cell_type": "code",
   "execution_count": 12,
   "metadata": {},
   "outputs": [
    {
     "data": {
      "text/html": [
       "<table>\n",
       "<tr>\n",
       "<th>Date</th>\n",
       "<th>Country_Region</th>\n",
       "<th>Confirmed</th>\n",
       "<th>Deaths</th>\n",
       "<th>Daily_Cases</th>\n",
       "<th>Daily_Deaths</th>\n",
       "</tr>\n",
       "<tr>\n",
       "<td>2020-01-22</td>\n",
       "<td>Afghanistan</td>\n",
       "<td>0</td>\n",
       "<td>0</td>\n",
       "<td>0</td>\n",
       "<td>0</td>\n",
       "</tr>\n",
       "<tr>\n",
       "<td>2020-01-22</td>\n",
       "<td>Albania</td>\n",
       "<td>0</td>\n",
       "<td>0</td>\n",
       "<td>0</td>\n",
       "<td>0</td>\n",
       "</tr>\n",
       "<tr>\n",
       "<td>2020-01-22</td>\n",
       "<td>Algeria</td>\n",
       "<td>0</td>\n",
       "<td>0</td>\n",
       "<td>0</td>\n",
       "<td>0</td>\n",
       "</tr>\n",
       "</table>\n",
       "3 rows in set (0.00 sec)"
      ],
      "text/plain": [
       "+------------+----------------+-----------+--------+-------------+--------------+\n",
       "| Date       | Country_Region | Confirmed | Deaths | Daily_Cases | Daily_Deaths |\n",
       "+------------+----------------+-----------+--------+-------------+--------------+\n",
       "| 2020-01-22 | Afghanistan    | 0         | 0      | 0           | 0            |\n",
       "+------------+----------------+-----------+--------+-------------+--------------+\n",
       "| 2020-01-22 | Albania        | 0         | 0      | 0           | 0            |\n",
       "+------------+----------------+-----------+--------+-------------+--------------+\n",
       "| 2020-01-22 | Algeria        | 0         | 0      | 0           | 0            |\n",
       "+------------+----------------+-----------+--------+-------------+--------------+\n",
       "3 rows in set (0.00 sec)"
      ]
     },
     "execution_count": 12,
     "metadata": {},
     "output_type": "execute_result"
    }
   ],
   "source": [
    "SELECT * FROM time_series LIMIT 3;"
   ]
  },
  {
   "cell_type": "markdown",
   "metadata": {
    "slideshow": {
     "slide_type": "subslide"
    }
   },
   "source": [
    "## Adopt a style guide before writing your own SQL statements\n",
    "\n",
    "- **[SQL style guide by Simon Holywell](https://www.sqlstyle.guide/)**\n",
    "- [SQL Style Guide | GitLab](https://about.gitlab.com/handbook/business-technology/data-team/platform/sql-style-guide/)\n",
    "- [SQL Style Guide - Mozilla Data Documentation](https://docs.telemetry.mozilla.org/concepts/sql_style.html)\n",
    "- ...etc."
   ]
  },
  {
   "cell_type": "markdown",
   "metadata": {
    "slideshow": {
     "slide_type": "subslide"
    }
   },
   "source": [
    "## Format SQL in SQLiteStudio\n",
    "\n",
    "- Write down your SQL statements.\n",
    "- Highlight statements and right click for drop-down list -> Format SQL."
   ]
  },
  {
   "cell_type": "markdown",
   "metadata": {
    "slideshow": {
     "slide_type": "slide"
    }
   },
   "source": [
    "## Beginning with `SELECT` and `FROM`"
   ]
  },
  {
   "cell_type": "markdown",
   "metadata": {
    "slideshow": {
     "slide_type": "subslide"
    }
   },
   "source": [
    "## Basic `SELECT` syntax\n",
    "\n",
    "A SELECT statement that fetches every row and column in a table.\n",
    "\n",
    "```sql\n",
    "SELECT *\n",
    "  FROM table_name;\n",
    "```"
   ]
  },
  {
   "cell_type": "markdown",
   "metadata": {
    "slideshow": {
     "slide_type": "subslide"
    }
   },
   "source": [
    "## Selecting a subset of rows and columns\n",
    "\n",
    "It is more practical to limit the rows and columns the query retrieves, especially with large tables.\n",
    "\n",
    "```sql\n",
    "SELECT column_names\n",
    "  FROM table_name\n",
    " LIMIT n;\n",
    "```"
   ]
  },
  {
   "cell_type": "code",
   "execution_count": 13,
   "metadata": {
    "slideshow": {
     "slide_type": "subslide"
    }
   },
   "outputs": [
    {
     "data": {
      "text/html": [
       "<table>\n",
       "<tr>\n",
       "<th>Combined_Key</th>\n",
       "<th>Confirmed</th>\n",
       "</tr>\n",
       "<tr>\n",
       "<td>Afghanistan</td>\n",
       "<td>173659</td>\n",
       "</tr>\n",
       "<tr>\n",
       "<td>Albania</td>\n",
       "<td>271563</td>\n",
       "</tr>\n",
       "<tr>\n",
       "<td>Algeria</td>\n",
       "<td>264936</td>\n",
       "</tr>\n",
       "<tr>\n",
       "<td>Andorra</td>\n",
       "<td>37999</td>\n",
       "</tr>\n",
       "<tr>\n",
       "<td>Angola</td>\n",
       "<td>98741</td>\n",
       "</tr>\n",
       "</table>\n",
       "5 rows in set (0.00 sec)"
      ],
      "text/plain": [
       "+--------------+-----------+\n",
       "| Combined_Key | Confirmed |\n",
       "+--------------+-----------+\n",
       "| Afghanistan  | 173659    |\n",
       "+--------------+-----------+\n",
       "| Albania      | 271563    |\n",
       "+--------------+-----------+\n",
       "| Algeria      | 264936    |\n",
       "+--------------+-----------+\n",
       "| Andorra      | 37999     |\n",
       "+--------------+-----------+\n",
       "| Angola       | 98741     |\n",
       "+--------------+-----------+\n",
       "5 rows in set (0.00 sec)"
      ]
     },
     "execution_count": 13,
     "metadata": {},
     "output_type": "execute_result"
    }
   ],
   "source": [
    "SELECT Combined_Key,\n",
    "       Confirmed\n",
    "  FROM daily_report\n",
    " LIMIT 5;"
   ]
  },
  {
   "cell_type": "markdown",
   "metadata": {
    "slideshow": {
     "slide_type": "subslide"
    }
   },
   "source": [
    "## Using `DISTINCT` to find unique values\n",
    "\n",
    "- It is common for a column to contain rows with duplicates.\n",
    "- To understand the range of values in a column, we can use the `DISTINCT` keyword.\n",
    "\n",
    "```sql\n",
    "SELECT DISTINCT column_name\n",
    "  FROM table_name;\n",
    "```"
   ]
  },
  {
   "cell_type": "code",
   "execution_count": 14,
   "metadata": {
    "slideshow": {
     "slide_type": "subslide"
    }
   },
   "outputs": [
    {
     "data": {
      "text/html": [
       "<table>\n",
       "<tr>\n",
       "<th>Country_Region</th>\n",
       "</tr>\n",
       "<tr>\n",
       "<td>Afghanistan</td>\n",
       "</tr>\n",
       "<tr>\n",
       "<td>Albania</td>\n",
       "</tr>\n",
       "<tr>\n",
       "<td>Antarctica</td>\n",
       "</tr>\n",
       "<tr>\n",
       "<td>Algeria</td>\n",
       "</tr>\n",
       "<tr>\n",
       "<td>US</td>\n",
       "</tr>\n",
       "</table>\n",
       "5 rows in set (0.00 sec)"
      ],
      "text/plain": [
       "+----------------+\n",
       "| Country_Region |\n",
       "+----------------+\n",
       "| Afghanistan    |\n",
       "+----------------+\n",
       "| Albania        |\n",
       "+----------------+\n",
       "| Antarctica     |\n",
       "+----------------+\n",
       "| Algeria        |\n",
       "+----------------+\n",
       "| US             |\n",
       "+----------------+\n",
       "5 rows in set (0.00 sec)"
      ]
     },
     "execution_count": 14,
     "metadata": {},
     "output_type": "execute_result"
    }
   ],
   "source": [
    "SELECT DISTINCT Country_Region\n",
    "  FROM lookup_table\n",
    " LIMIT 5;"
   ]
  },
  {
   "cell_type": "markdown",
   "metadata": {
    "slideshow": {
     "slide_type": "subslide"
    }
   },
   "source": [
    "## Sorting data with `ORDER BY`\n",
    "\n",
    "We order the results of a query using the keywords `ORDER BY` followed by the name of the column(s) to sort.\n",
    "\n",
    "```sql\n",
    "SELECT column_names\n",
    "  FROM table_name\n",
    " ORDER BY column_names;\n",
    "```"
   ]
  },
  {
   "cell_type": "code",
   "execution_count": 15,
   "metadata": {
    "slideshow": {
     "slide_type": "subslide"
    }
   },
   "outputs": [
    {
     "data": {
      "text/html": [
       "<table>\n",
       "<tr>\n",
       "<th>Combined_Key</th>\n",
       "<th>Confirmed</th>\n",
       "</tr>\n",
       "<tr>\n",
       "<td>Diamond Princess, Canada</td>\n",
       "<td>0</td>\n",
       "</tr>\n",
       "<tr>\n",
       "<td>Unknown, China</td>\n",
       "<td>0</td>\n",
       "</tr>\n",
       "<tr>\n",
       "<td>Unknown, Colombia</td>\n",
       "<td>0</td>\n",
       "</tr>\n",
       "<tr>\n",
       "<td>Unknown, India</td>\n",
       "<td>0</td>\n",
       "</tr>\n",
       "<tr>\n",
       "<td>Unknown, Malaysia</td>\n",
       "<td>0</td>\n",
       "</tr>\n",
       "</table>\n",
       "5 rows in set (0.00 sec)"
      ],
      "text/plain": [
       "+--------------------------+-----------+\n",
       "| Combined_Key             | Confirmed |\n",
       "+--------------------------+-----------+\n",
       "| Diamond Princess, Canada | 0         |\n",
       "+--------------------------+-----------+\n",
       "| Unknown, China           | 0         |\n",
       "+--------------------------+-----------+\n",
       "| Unknown, Colombia        | 0         |\n",
       "+--------------------------+-----------+\n",
       "| Unknown, India           | 0         |\n",
       "+--------------------------+-----------+\n",
       "| Unknown, Malaysia        | 0         |\n",
       "+--------------------------+-----------+\n",
       "5 rows in set (0.00 sec)"
      ]
     },
     "execution_count": 15,
     "metadata": {},
     "output_type": "execute_result"
    }
   ],
   "source": [
    "SELECT Combined_Key,\n",
    "       Confirmed\n",
    "  FROM daily_report\n",
    " ORDER BY Confirmed\n",
    " LIMIT 5;"
   ]
  },
  {
   "cell_type": "markdown",
   "metadata": {
    "slideshow": {
     "slide_type": "subslide"
    }
   },
   "source": [
    "## By default, `ORDER BY` sorts values in ascending order\n",
    "\n",
    "If we want to sort in descending order, add the `DESC` keyword.\n",
    "\n",
    "```sql\n",
    "SELECT column_names\n",
    "  FROM table_name\n",
    " ORDER BY column_names DESC;\n",
    "```"
   ]
  },
  {
   "cell_type": "code",
   "execution_count": 16,
   "metadata": {
    "slideshow": {
     "slide_type": "subslide"
    }
   },
   "outputs": [
    {
     "data": {
      "text/html": [
       "<table>\n",
       "<tr>\n",
       "<th>Combined_Key</th>\n",
       "<th>Confirmed</th>\n",
       "</tr>\n",
       "<tr>\n",
       "<td>France</td>\n",
       "<td>22098808</td>\n",
       "</tr>\n",
       "<tr>\n",
       "<td>England, United Kingdom</td>\n",
       "<td>16059214</td>\n",
       "</tr>\n",
       "<tr>\n",
       "<td>Turkey</td>\n",
       "<td>14089456</td>\n",
       "</tr>\n",
       "<tr>\n",
       "<td>Argentina</td>\n",
       "<td>8900656</td>\n",
       "</tr>\n",
       "<tr>\n",
       "<td>Maharashtra, India</td>\n",
       "<td>7865705</td>\n",
       "</tr>\n",
       "</table>\n",
       "5 rows in set (0.00 sec)"
      ],
      "text/plain": [
       "+-------------------------+-----------+\n",
       "| Combined_Key            | Confirmed |\n",
       "+-------------------------+-----------+\n",
       "| France                  | 22098808  |\n",
       "+-------------------------+-----------+\n",
       "| England, United Kingdom | 16059214  |\n",
       "+-------------------------+-----------+\n",
       "| Turkey                  | 14089456  |\n",
       "+-------------------------+-----------+\n",
       "| Argentina               | 8900656   |\n",
       "+-------------------------+-----------+\n",
       "| Maharashtra, India      | 7865705   |\n",
       "+-------------------------+-----------+\n",
       "5 rows in set (0.00 sec)"
      ]
     },
     "execution_count": 16,
     "metadata": {},
     "output_type": "execute_result"
    }
   ],
   "source": [
    "SELECT Combined_Key,\n",
    "       Confirmed\n",
    "  FROM daily_report\n",
    " ORDER BY Confirmed DESC\n",
    " LIMIT 5;"
   ]
  },
  {
   "cell_type": "markdown",
   "metadata": {
    "slideshow": {
     "slide_type": "subslide"
    }
   },
   "source": [
    "## We are not limited to sorting on just one column"
   ]
  },
  {
   "cell_type": "code",
   "execution_count": 17,
   "metadata": {
    "slideshow": {
     "slide_type": "-"
    }
   },
   "outputs": [
    {
     "data": {
      "text/html": [
       "<table>\n",
       "<tr>\n",
       "<th>Date</th>\n",
       "<th>Country_Region</th>\n",
       "<th>Daily_Cases</th>\n",
       "</tr>\n",
       "<tr>\n",
       "<td>2022-02-28</td>\n",
       "<td>Korea, South</td>\n",
       "<td>138993</td>\n",
       "</tr>\n",
       "<tr>\n",
       "<td>2022-02-28</td>\n",
       "<td>Germany</td>\n",
       "<td>132801</td>\n",
       "</tr>\n",
       "<tr>\n",
       "<td>2022-02-28</td>\n",
       "<td>Vietnam</td>\n",
       "<td>122480</td>\n",
       "</tr>\n",
       "<tr>\n",
       "<td>2022-02-28</td>\n",
       "<td>Russia</td>\n",
       "<td>105745</td>\n",
       "</tr>\n",
       "<tr>\n",
       "<td>2022-02-28</td>\n",
       "<td>US</td>\n",
       "<td>96464</td>\n",
       "</tr>\n",
       "</table>\n",
       "5 rows in set (0.00 sec)"
      ],
      "text/plain": [
       "+------------+----------------+-------------+\n",
       "| Date       | Country_Region | Daily_Cases |\n",
       "+------------+----------------+-------------+\n",
       "| 2022-02-28 | Korea, South   | 138993      |\n",
       "+------------+----------------+-------------+\n",
       "| 2022-02-28 | Germany        | 132801      |\n",
       "+------------+----------------+-------------+\n",
       "| 2022-02-28 | Vietnam        | 122480      |\n",
       "+------------+----------------+-------------+\n",
       "| 2022-02-28 | Russia         | 105745      |\n",
       "+------------+----------------+-------------+\n",
       "| 2022-02-28 | US             | 96464       |\n",
       "+------------+----------------+-------------+\n",
       "5 rows in set (0.00 sec)"
      ]
     },
     "execution_count": 17,
     "metadata": {},
     "output_type": "execute_result"
    }
   ],
   "source": [
    "SELECT Date,\n",
    "       Country_Region,\n",
    "       Daily_Cases\n",
    "  FROM time_series\n",
    " ORDER BY Date DESC,\n",
    "          Daily_Cases DESC\n",
    " LIMIT 5;"
   ]
  },
  {
   "cell_type": "markdown",
   "metadata": {
    "slideshow": {
     "slide_type": "subslide"
    }
   },
   "source": [
    "## Filtering rows with `WHERE`\n",
    "\n",
    "The `WHERE` keyword allows us to find rows that match a specific value, a range of values, or multiple values.\n",
    "\n",
    "```sql\n",
    "SELECT column_names\n",
    "  FROM table_name\n",
    " WHERE condition;\n",
    "```"
   ]
  },
  {
   "cell_type": "code",
   "execution_count": 18,
   "metadata": {
    "slideshow": {
     "slide_type": "-"
    }
   },
   "outputs": [
    {
     "data": {
      "text/html": [
       "<table>\n",
       "<tr>\n",
       "<th>Combined_Key</th>\n",
       "<th>Last_Update</th>\n",
       "<th>Confirmed</th>\n",
       "<th>Deaths</th>\n",
       "</tr>\n",
       "<tr>\n",
       "<td>Taiwan</td>\n",
       "<td>2022-03-01 04:21:09</td>\n",
       "<td>20489</td>\n",
       "<td>853</td>\n",
       "</tr>\n",
       "</table>\n",
       "1 row in set (0.00 sec)"
      ],
      "text/plain": [
       "+--------------+---------------------+-----------+--------+\n",
       "| Combined_Key | Last_Update         | Confirmed | Deaths |\n",
       "+--------------+---------------------+-----------+--------+\n",
       "| Taiwan       | 2022-03-01 04:21:09 | 20489     | 853    |\n",
       "+--------------+---------------------+-----------+--------+\n",
       "1 row in set (0.00 sec)"
      ]
     },
     "execution_count": 18,
     "metadata": {},
     "output_type": "execute_result"
    }
   ],
   "source": [
    "SELECT *\n",
    "  FROM daily_report\n",
    " WHERE Combined_Key = 'Taiwan';"
   ]
  },
  {
   "cell_type": "markdown",
   "metadata": {
    "slideshow": {
     "slide_type": "subslide"
    }
   },
   "source": [
    "## The above query uses equals `=` to find rows that exactly match, but we can use other operators"
   ]
  },
  {
   "cell_type": "markdown",
   "metadata": {
    "slideshow": {
     "slide_type": "subslide"
    }
   },
   "source": [
    "## Relational and logical operators\n",
    "\n",
    "- `=`: Equal to.\n",
    "- `!=`: Not equal to.\n",
    "- `>`, `>=`: Greater than; Greater than or equal to.\n",
    "- `<`, `<=`: Less than; Less than or equal to.\n",
    "- `BETWEEN`: Within a range.\n",
    "- `IN`: Match one of a set of values.\n",
    "- `LIKE`: Match a pattern.\n",
    "- `NOT`: Negates a condition.\n",
    "- `AND`: Intersects conditions.\n",
    "- `OR`: Union conditions."
   ]
  },
  {
   "cell_type": "markdown",
   "metadata": {
    "slideshow": {
     "slide_type": "subslide"
    }
   },
   "source": [
    "## Using the `BETWEEN` operator"
   ]
  },
  {
   "cell_type": "code",
   "execution_count": 19,
   "metadata": {
    "slideshow": {
     "slide_type": "-"
    }
   },
   "outputs": [
    {
     "data": {
      "text/html": [
       "<table>\n",
       "<tr>\n",
       "<th>Country_Region</th>\n",
       "<th>Province_State</th>\n",
       "<th>Population</th>\n",
       "</tr>\n",
       "<tr>\n",
       "<td>Australia</td>\n",
       "<td>NULL</td>\n",
       "<td>25459700</td>\n",
       "</tr>\n",
       "<tr>\n",
       "<td>Cameroon</td>\n",
       "<td>NULL</td>\n",
       "<td>26545864</td>\n",
       "</tr>\n",
       "<tr>\n",
       "<td>Sri Lanka</td>\n",
       "<td>NULL</td>\n",
       "<td>21413250</td>\n",
       "</tr>\n",
       "<tr>\n",
       "<td>Taiwan</td>\n",
       "<td>NULL</td>\n",
       "<td>23816775</td>\n",
       "</tr>\n",
       "<tr>\n",
       "<td>Cote d'Ivoire</td>\n",
       "<td>NULL</td>\n",
       "<td>26378275</td>\n",
       "</tr>\n",
       "<tr>\n",
       "<td>Madagascar</td>\n",
       "<td>NULL</td>\n",
       "<td>27691019</td>\n",
       "</tr>\n",
       "<tr>\n",
       "<td>Mali</td>\n",
       "<td>NULL</td>\n",
       "<td>20250834</td>\n",
       "</tr>\n",
       "<tr>\n",
       "<td>Nepal</td>\n",
       "<td>NULL</td>\n",
       "<td>29136808</td>\n",
       "</tr>\n",
       "<tr>\n",
       "<td>Niger</td>\n",
       "<td>NULL</td>\n",
       "<td>24206636</td>\n",
       "</tr>\n",
       "<tr>\n",
       "<td>Burkina Faso</td>\n",
       "<td>NULL</td>\n",
       "<td>20903278</td>\n",
       "</tr>\n",
       "<tr>\n",
       "<td>Venezuela</td>\n",
       "<td>NULL</td>\n",
       "<td>28435943</td>\n",
       "</tr>\n",
       "<tr>\n",
       "<td>Yemen</td>\n",
       "<td>NULL</td>\n",
       "<td>29825968</td>\n",
       "</tr>\n",
       "<tr>\n",
       "<td>Brazil</td>\n",
       "<td>Minas Gerais</td>\n",
       "<td>21168791</td>\n",
       "</tr>\n",
       "<tr>\n",
       "<td>China</td>\n",
       "<td>Beijing</td>\n",
       "<td>21893095</td>\n",
       "</tr>\n",
       "<tr>\n",
       "<td>China</td>\n",
       "<td>Gansu</td>\n",
       "<td>25019831</td>\n",
       "</tr>\n",
       "<tr>\n",
       "<td>China</td>\n",
       "<td>Inner Mongolia</td>\n",
       "<td>24049155</td>\n",
       "</tr>\n",
       "<tr>\n",
       "<td>China</td>\n",
       "<td>Jilin</td>\n",
       "<td>24073453</td>\n",
       "</tr>\n",
       "<tr>\n",
       "<td>China</td>\n",
       "<td>Shanghai</td>\n",
       "<td>24870895</td>\n",
       "</tr>\n",
       "<tr>\n",
       "<td>China</td>\n",
       "<td>Xinjiang</td>\n",
       "<td>25852345</td>\n",
       "</tr>\n",
       "<tr>\n",
       "<td>India</td>\n",
       "<td>Chhattisgarh</td>\n",
       "<td>29436231</td>\n",
       "</tr>\n",
       "<tr>\n",
       "<td>India</td>\n",
       "<td>Haryana</td>\n",
       "<td>28204692</td>\n",
       "</tr>\n",
       "<tr>\n",
       "<td>US</td>\n",
       "<td>Florida</td>\n",
       "<td>21477737</td>\n",
       "</tr>\n",
       "<tr>\n",
       "<td>US</td>\n",
       "<td>Texas</td>\n",
       "<td>28995881</td>\n",
       "</tr>\n",
       "</table>\n",
       "23 rows in set (0.00 sec)"
      ],
      "text/plain": [
       "+----------------+----------------+------------+\n",
       "| Country_Region | Province_State | Population |\n",
       "+----------------+----------------+------------+\n",
       "| Australia      | NULL           | 25459700   |\n",
       "+----------------+----------------+------------+\n",
       "| Cameroon       | NULL           | 26545864   |\n",
       "+----------------+----------------+------------+\n",
       "| Sri Lanka      | NULL           | 21413250   |\n",
       "+----------------+----------------+------------+\n",
       "| Taiwan         | NULL           | 23816775   |\n",
       "+----------------+----------------+------------+\n",
       "| Cote d'Ivoire  | NULL           | 26378275   |\n",
       "+----------------+----------------+------------+\n",
       "| Madagascar     | NULL           | 27691019   |\n",
       "+----------------+----------------+------------+\n",
       "| Mali           | NULL           | 20250834   |\n",
       "+----------------+----------------+------------+\n",
       "| Nepal          | NULL           | 29136808   |\n",
       "+----------------+----------------+------------+\n",
       "| Niger          | NULL           | 24206636   |\n",
       "+----------------+----------------+------------+\n",
       "| Burkina Faso   | NULL           | 20903278   |\n",
       "+----------------+----------------+------------+\n",
       "| Venezuela      | NULL           | 28435943   |\n",
       "+----------------+----------------+------------+\n",
       "| Yemen          | NULL           | 29825968   |\n",
       "+----------------+----------------+------------+\n",
       "| Brazil         | Minas Gerais   | 21168791   |\n",
       "+----------------+----------------+------------+\n",
       "| China          | Beijing        | 21893095   |\n",
       "+----------------+----------------+------------+\n",
       "| China          | Gansu          | 25019831   |\n",
       "+----------------+----------------+------------+\n",
       "| China          | Inner Mongolia | 24049155   |\n",
       "+----------------+----------------+------------+\n",
       "| China          | Jilin          | 24073453   |\n",
       "+----------------+----------------+------------+\n",
       "| China          | Shanghai       | 24870895   |\n",
       "+----------------+----------------+------------+\n",
       "| China          | Xinjiang       | 25852345   |\n",
       "+----------------+----------------+------------+\n",
       "| India          | Chhattisgarh   | 29436231   |\n",
       "+----------------+----------------+------------+\n",
       "| India          | Haryana        | 28204692   |\n",
       "+----------------+----------------+------------+\n",
       "| US             | Florida        | 21477737   |\n",
       "+----------------+----------------+------------+\n",
       "| US             | Texas          | 28995881   |\n",
       "+----------------+----------------+------------+\n",
       "23 rows in set (0.00 sec)"
      ]
     },
     "execution_count": 19,
     "metadata": {},
     "output_type": "execute_result"
    }
   ],
   "source": [
    "SELECT Country_Region,\n",
    "       Province_State,\n",
    "       Population\n",
    "  FROM lookup_table\n",
    " WHERE Population BETWEEN 20000000 AND 30000000;"
   ]
  },
  {
   "cell_type": "markdown",
   "metadata": {
    "slideshow": {
     "slide_type": "subslide"
    }
   },
   "source": [
    "## Using the `IN` operator"
   ]
  },
  {
   "cell_type": "code",
   "execution_count": 20,
   "metadata": {},
   "outputs": [
    {
     "data": {
      "text/html": [
       "<table>\n",
       "<tr>\n",
       "<th>Country_Region</th>\n",
       "<th>Province_State</th>\n",
       "<th>Population</th>\n",
       "</tr>\n",
       "<tr>\n",
       "<td>Taiwan</td>\n",
       "<td>NULL</td>\n",
       "<td>23816775</td>\n",
       "</tr>\n",
       "<tr>\n",
       "<td>Japan</td>\n",
       "<td>NULL</td>\n",
       "<td>126476458</td>\n",
       "</tr>\n",
       "<tr>\n",
       "<td>Korea, South</td>\n",
       "<td>Korea</td>\n",
       "<td>51269183</td>\n",
       "</tr>\n",
       "<tr>\n",
       "<td>Japan</td>\n",
       "<td>Aichi</td>\n",
       "<td>7552239</td>\n",
       "</tr>\n",
       "<tr>\n",
       "<td>Japan</td>\n",
       "<td>Akita</td>\n",
       "<td>966490</td>\n",
       "</tr>\n",
       "<tr>\n",
       "<td>Japan</td>\n",
       "<td>Aomori</td>\n",
       "<td>1246371</td>\n",
       "</tr>\n",
       "<tr>\n",
       "<td>Japan</td>\n",
       "<td>Chiba</td>\n",
       "<td>6259382</td>\n",
       "</tr>\n",
       "<tr>\n",
       "<td>Japan</td>\n",
       "<td>Ehime</td>\n",
       "<td>1339215</td>\n",
       "</tr>\n",
       "<tr>\n",
       "<td>Japan</td>\n",
       "<td>Fukui</td>\n",
       "<td>767937</td>\n",
       "</tr>\n",
       "<tr>\n",
       "<td>Japan</td>\n",
       "<td>Fukuoka</td>\n",
       "<td>5103679</td>\n",
       "</tr>\n",
       "<tr>\n",
       "<td>Japan</td>\n",
       "<td>Fukushima</td>\n",
       "<td>1845519</td>\n",
       "</tr>\n",
       "<tr>\n",
       "<td>Japan</td>\n",
       "<td>Gifu</td>\n",
       "<td>1986587</td>\n",
       "</tr>\n",
       "<tr>\n",
       "<td>Japan</td>\n",
       "<td>Gunma</td>\n",
       "<td>1942456</td>\n",
       "</tr>\n",
       "<tr>\n",
       "<td>Japan</td>\n",
       "<td>Hiroshima</td>\n",
       "<td>2804177</td>\n",
       "</tr>\n",
       "<tr>\n",
       "<td>Japan</td>\n",
       "<td>Hokkaido</td>\n",
       "<td>5250049</td>\n",
       "</tr>\n",
       "<tr>\n",
       "<td>Japan</td>\n",
       "<td>Hyogo</td>\n",
       "<td>5466190</td>\n",
       "</tr>\n",
       "<tr>\n",
       "<td>Japan</td>\n",
       "<td>Ibaraki</td>\n",
       "<td>2860307</td>\n",
       "</tr>\n",
       "<tr>\n",
       "<td>Japan</td>\n",
       "<td>Ishikawa</td>\n",
       "<td>1137649</td>\n",
       "</tr>\n",
       "<tr>\n",
       "<td>Japan</td>\n",
       "<td>Iwate</td>\n",
       "<td>1226816</td>\n",
       "</tr>\n",
       "<tr>\n",
       "<td>Japan</td>\n",
       "<td>Kagawa</td>\n",
       "<td>956347</td>\n",
       "</tr>\n",
       "<tr>\n",
       "<td>Japan</td>\n",
       "<td>Kagoshima</td>\n",
       "<td>1602273</td>\n",
       "</tr>\n",
       "<tr>\n",
       "<td>Japan</td>\n",
       "<td>Kanagawa</td>\n",
       "<td>9198268</td>\n",
       "</tr>\n",
       "<tr>\n",
       "<td>Japan</td>\n",
       "<td>Kochi</td>\n",
       "<td>698029</td>\n",
       "</tr>\n",
       "<tr>\n",
       "<td>Japan</td>\n",
       "<td>Kumamoto</td>\n",
       "<td>1747567</td>\n",
       "</tr>\n",
       "<tr>\n",
       "<td>Japan</td>\n",
       "<td>Kyoto</td>\n",
       "<td>2582957</td>\n",
       "</tr>\n",
       "<tr>\n",
       "<td>Japan</td>\n",
       "<td>Mie</td>\n",
       "<td>1780882</td>\n",
       "</tr>\n",
       "<tr>\n",
       "<td>Japan</td>\n",
       "<td>Miyagi</td>\n",
       "<td>2306365</td>\n",
       "</tr>\n",
       "<tr>\n",
       "<td>Japan</td>\n",
       "<td>Miyazaki</td>\n",
       "<td>1073301</td>\n",
       "</tr>\n",
       "<tr>\n",
       "<td>Japan</td>\n",
       "<td>Nagano</td>\n",
       "<td>2048790</td>\n",
       "</tr>\n",
       "<tr>\n",
       "<td>Japan</td>\n",
       "<td>Nagasaki</td>\n",
       "<td>1326524</td>\n",
       "</tr>\n",
       "<tr>\n",
       "<td>Japan</td>\n",
       "<td>Nara</td>\n",
       "<td>1330123</td>\n",
       "</tr>\n",
       "<tr>\n",
       "<td>Japan</td>\n",
       "<td>Niigata</td>\n",
       "<td>2223106</td>\n",
       "</tr>\n",
       "<tr>\n",
       "<td>Japan</td>\n",
       "<td>Oita</td>\n",
       "<td>1135434</td>\n",
       "</tr>\n",
       "<tr>\n",
       "<td>Japan</td>\n",
       "<td>Okayama</td>\n",
       "<td>1889586</td>\n",
       "</tr>\n",
       "<tr>\n",
       "<td>Japan</td>\n",
       "<td>Okinawa</td>\n",
       "<td>1453168</td>\n",
       "</tr>\n",
       "<tr>\n",
       "<td>Japan</td>\n",
       "<td>Osaka</td>\n",
       "<td>8809363</td>\n",
       "</tr>\n",
       "<tr>\n",
       "<td>Japan</td>\n",
       "<td>Saga</td>\n",
       "<td>814711</td>\n",
       "</tr>\n",
       "<tr>\n",
       "<td>Japan</td>\n",
       "<td>Saitama</td>\n",
       "<td>7349693</td>\n",
       "</tr>\n",
       "<tr>\n",
       "<td>Japan</td>\n",
       "<td>Shiga</td>\n",
       "<td>1413943</td>\n",
       "</tr>\n",
       "<tr>\n",
       "<td>Japan</td>\n",
       "<td>Shimane</td>\n",
       "<td>674346</td>\n",
       "</tr>\n",
       "<tr>\n",
       "<td>Japan</td>\n",
       "<td>Shizuoka</td>\n",
       "<td>3643528</td>\n",
       "</tr>\n",
       "<tr>\n",
       "<td>Japan</td>\n",
       "<td>Tochigi</td>\n",
       "<td>1933990</td>\n",
       "</tr>\n",
       "<tr>\n",
       "<td>Japan</td>\n",
       "<td>Tokushima</td>\n",
       "<td>727977</td>\n",
       "</tr>\n",
       "<tr>\n",
       "<td>Japan</td>\n",
       "<td>Tokyo</td>\n",
       "<td>13920663</td>\n",
       "</tr>\n",
       "<tr>\n",
       "<td>Japan</td>\n",
       "<td>Tottori</td>\n",
       "<td>555558</td>\n",
       "</tr>\n",
       "<tr>\n",
       "<td>Japan</td>\n",
       "<td>Toyama</td>\n",
       "<td>1043502</td>\n",
       "</tr>\n",
       "<tr>\n",
       "<td>Japan</td>\n",
       "<td>Wakayama</td>\n",
       "<td>924933</td>\n",
       "</tr>\n",
       "<tr>\n",
       "<td>Japan</td>\n",
       "<td>Yamagata</td>\n",
       "<td>1077666</td>\n",
       "</tr>\n",
       "<tr>\n",
       "<td>Japan</td>\n",
       "<td>Yamaguchi</td>\n",
       "<td>1358336</td>\n",
       "</tr>\n",
       "<tr>\n",
       "<td>Japan</td>\n",
       "<td>Yamanashi</td>\n",
       "<td>810956</td>\n",
       "</tr>\n",
       "<tr>\n",
       "<td>Japan</td>\n",
       "<td>Port Quarantine</td>\n",
       "<td>NULL</td>\n",
       "</tr>\n",
       "<tr>\n",
       "<td>Japan</td>\n",
       "<td>Unknown</td>\n",
       "<td>NULL</td>\n",
       "</tr>\n",
       "</table>\n",
       "52 rows in set (0.00 sec)"
      ],
      "text/plain": [
       "+----------------+-----------------+------------+\n",
       "| Country_Region | Province_State  | Population |\n",
       "+----------------+-----------------+------------+\n",
       "| Taiwan         | NULL            | 23816775   |\n",
       "+----------------+-----------------+------------+\n",
       "| Japan          | NULL            | 126476458  |\n",
       "+----------------+-----------------+------------+\n",
       "| Korea, South   | Korea           | 51269183   |\n",
       "+----------------+-----------------+------------+\n",
       "| Japan          | Aichi           | 7552239    |\n",
       "+----------------+-----------------+------------+\n",
       "| Japan          | Akita           | 966490     |\n",
       "+----------------+-----------------+------------+\n",
       "| Japan          | Aomori          | 1246371    |\n",
       "+----------------+-----------------+------------+\n",
       "| Japan          | Chiba           | 6259382    |\n",
       "+----------------+-----------------+------------+\n",
       "| Japan          | Ehime           | 1339215    |\n",
       "+----------------+-----------------+------------+\n",
       "| Japan          | Fukui           | 767937     |\n",
       "+----------------+-----------------+------------+\n",
       "| Japan          | Fukuoka         | 5103679    |\n",
       "+----------------+-----------------+------------+\n",
       "| Japan          | Fukushima       | 1845519    |\n",
       "+----------------+-----------------+------------+\n",
       "| Japan          | Gifu            | 1986587    |\n",
       "+----------------+-----------------+------------+\n",
       "| Japan          | Gunma           | 1942456    |\n",
       "+----------------+-----------------+------------+\n",
       "| Japan          | Hiroshima       | 2804177    |\n",
       "+----------------+-----------------+------------+\n",
       "| Japan          | Hokkaido        | 5250049    |\n",
       "+----------------+-----------------+------------+\n",
       "| Japan          | Hyogo           | 5466190    |\n",
       "+----------------+-----------------+------------+\n",
       "| Japan          | Ibaraki         | 2860307    |\n",
       "+----------------+-----------------+------------+\n",
       "| Japan          | Ishikawa        | 1137649    |\n",
       "+----------------+-----------------+------------+\n",
       "| Japan          | Iwate           | 1226816    |\n",
       "+----------------+-----------------+------------+\n",
       "| Japan          | Kagawa          | 956347     |\n",
       "+----------------+-----------------+------------+\n",
       "| Japan          | Kagoshima       | 1602273    |\n",
       "+----------------+-----------------+------------+\n",
       "| Japan          | Kanagawa        | 9198268    |\n",
       "+----------------+-----------------+------------+\n",
       "| Japan          | Kochi           | 698029     |\n",
       "+----------------+-----------------+------------+\n",
       "| Japan          | Kumamoto        | 1747567    |\n",
       "+----------------+-----------------+------------+\n",
       "| Japan          | Kyoto           | 2582957    |\n",
       "+----------------+-----------------+------------+\n",
       "| Japan          | Mie             | 1780882    |\n",
       "+----------------+-----------------+------------+\n",
       "| Japan          | Miyagi          | 2306365    |\n",
       "+----------------+-----------------+------------+\n",
       "| Japan          | Miyazaki        | 1073301    |\n",
       "+----------------+-----------------+------------+\n",
       "| Japan          | Nagano          | 2048790    |\n",
       "+----------------+-----------------+------------+\n",
       "| Japan          | Nagasaki        | 1326524    |\n",
       "+----------------+-----------------+------------+\n",
       "| Japan          | Nara            | 1330123    |\n",
       "+----------------+-----------------+------------+\n",
       "| Japan          | Niigata         | 2223106    |\n",
       "+----------------+-----------------+------------+\n",
       "| Japan          | Oita            | 1135434    |\n",
       "+----------------+-----------------+------------+\n",
       "| Japan          | Okayama         | 1889586    |\n",
       "+----------------+-----------------+------------+\n",
       "| Japan          | Okinawa         | 1453168    |\n",
       "+----------------+-----------------+------------+\n",
       "| Japan          | Osaka           | 8809363    |\n",
       "+----------------+-----------------+------------+\n",
       "| Japan          | Saga            | 814711     |\n",
       "+----------------+-----------------+------------+\n",
       "| Japan          | Saitama         | 7349693    |\n",
       "+----------------+-----------------+------------+\n",
       "| Japan          | Shiga           | 1413943    |\n",
       "+----------------+-----------------+------------+\n",
       "| Japan          | Shimane         | 674346     |\n",
       "+----------------+-----------------+------------+\n",
       "| Japan          | Shizuoka        | 3643528    |\n",
       "+----------------+-----------------+------------+\n",
       "| Japan          | Tochigi         | 1933990    |\n",
       "+----------------+-----------------+------------+\n",
       "| Japan          | Tokushima       | 727977     |\n",
       "+----------------+-----------------+------------+\n",
       "| Japan          | Tokyo           | 13920663   |\n",
       "+----------------+-----------------+------------+\n",
       "| Japan          | Tottori         | 555558     |\n",
       "+----------------+-----------------+------------+\n",
       "| Japan          | Toyama          | 1043502    |\n",
       "+----------------+-----------------+------------+\n",
       "| Japan          | Wakayama        | 924933     |\n",
       "+----------------+-----------------+------------+\n",
       "| Japan          | Yamagata        | 1077666    |\n",
       "+----------------+-----------------+------------+\n",
       "| Japan          | Yamaguchi       | 1358336    |\n",
       "+----------------+-----------------+------------+\n",
       "| Japan          | Yamanashi       | 810956     |\n",
       "+----------------+-----------------+------------+\n",
       "| Japan          | Port Quarantine | NULL       |\n",
       "+----------------+-----------------+------------+\n",
       "| Japan          | Unknown         | NULL       |\n",
       "+----------------+-----------------+------------+\n",
       "52 rows in set (0.00 sec)"
      ]
     },
     "execution_count": 20,
     "metadata": {},
     "output_type": "execute_result"
    }
   ],
   "source": [
    "SELECT Country_Region,\n",
    "       Province_State,\n",
    "       Population\n",
    "  FROM lookup_table\n",
    " WHERE Country_Region IN ('Taiwan', 'Japan', 'Korea, South');"
   ]
  },
  {
   "cell_type": "markdown",
   "metadata": {
    "slideshow": {
     "slide_type": "subslide"
    }
   },
   "source": [
    "## Using `LIKE` with `WHERE`\n",
    "\n",
    "Relational operators are fairly straightforward, but `LIKE` deserves additional explanations."
   ]
  },
  {
   "cell_type": "markdown",
   "metadata": {
    "slideshow": {
     "slide_type": "subslide"
    }
   },
   "source": [
    "## `LIKE` lets us search for patterns in strings by using two wildcard characters\n",
    "\n",
    "- Percent sign `%`: A wildcard matching one or more characters.\n",
    "- Underscore `_`: A wildcard matching just one character."
   ]
  },
  {
   "cell_type": "markdown",
   "metadata": {
    "slideshow": {
     "slide_type": "subslide"
    }
   },
   "source": [
    "## Using `LIKE` with `WHERE` and `%`"
   ]
  },
  {
   "cell_type": "code",
   "execution_count": 21,
   "metadata": {
    "slideshow": {
     "slide_type": "-"
    }
   },
   "outputs": [
    {
     "data": {
      "text/html": [
       "<table>\n",
       "<tr>\n",
       "<th>Country_Region</th>\n",
       "</tr>\n",
       "<tr>\n",
       "<td>New Zealand</td>\n",
       "</tr>\n",
       "<tr>\n",
       "<td>Finland</td>\n",
       "</tr>\n",
       "<tr>\n",
       "<td>Iceland</td>\n",
       "</tr>\n",
       "<tr>\n",
       "<td>Ireland</td>\n",
       "</tr>\n",
       "<tr>\n",
       "<td>Poland</td>\n",
       "</tr>\n",
       "<tr>\n",
       "<td>Switzerland</td>\n",
       "</tr>\n",
       "<tr>\n",
       "<td>Thailand</td>\n",
       "</tr>\n",
       "</table>\n",
       "7 rows in set (0.00 sec)"
      ],
      "text/plain": [
       "+----------------+\n",
       "| Country_Region |\n",
       "+----------------+\n",
       "| New Zealand    |\n",
       "+----------------+\n",
       "| Finland        |\n",
       "+----------------+\n",
       "| Iceland        |\n",
       "+----------------+\n",
       "| Ireland        |\n",
       "+----------------+\n",
       "| Poland         |\n",
       "+----------------+\n",
       "| Switzerland    |\n",
       "+----------------+\n",
       "| Thailand       |\n",
       "+----------------+\n",
       "7 rows in set (0.00 sec)"
      ]
     },
     "execution_count": 21,
     "metadata": {},
     "output_type": "execute_result"
    }
   ],
   "source": [
    "SELECT DISTINCT Country_Region\n",
    "  FROM lookup_table\n",
    " WHERE Country_Region LIKE '%land';"
   ]
  },
  {
   "cell_type": "markdown",
   "metadata": {
    "slideshow": {
     "slide_type": "subslide"
    }
   },
   "source": [
    "## Using `LIKE` with `WHERE` and `_`"
   ]
  },
  {
   "cell_type": "code",
   "execution_count": 22,
   "metadata": {
    "slideshow": {
     "slide_type": "-"
    }
   },
   "outputs": [
    {
     "data": {
      "text/html": [
       "<table>\n",
       "<tr>\n",
       "<th>Country_Region</th>\n",
       "</tr>\n",
       "<tr>\n",
       "<td>Taiwan</td>\n",
       "</tr>\n",
       "<tr>\n",
       "<td>Turkey</td>\n",
       "</tr>\n",
       "</table>\n",
       "2 rows in set (0.00 sec)"
      ],
      "text/plain": [
       "+----------------+\n",
       "| Country_Region |\n",
       "+----------------+\n",
       "| Taiwan         |\n",
       "+----------------+\n",
       "| Turkey         |\n",
       "+----------------+\n",
       "2 rows in set (0.00 sec)"
      ]
     },
     "execution_count": 22,
     "metadata": {},
     "output_type": "execute_result"
    }
   ],
   "source": [
    "SELECT DISTINCT Country_Region\n",
    "  FROM lookup_table\n",
    " WHERE Country_Region LIKE 'T_____';"
   ]
  },
  {
   "cell_type": "markdown",
   "metadata": {
    "slideshow": {
     "slide_type": "subslide"
    }
   },
   "source": [
    "## Combining conditions with `AND` and `OR`\n",
    "\n",
    "We can combine conditions using `AND` and `OR`."
   ]
  },
  {
   "cell_type": "markdown",
   "metadata": {
    "slideshow": {
     "slide_type": "subslide"
    }
   },
   "source": [
    "## Combining conditions with `AND`"
   ]
  },
  {
   "cell_type": "code",
   "execution_count": 23,
   "metadata": {
    "slideshow": {
     "slide_type": "-"
    }
   },
   "outputs": [
    {
     "data": {
      "text/html": [
       "<table>\n",
       "<tr>\n",
       "<th>Country_Region</th>\n",
       "</tr>\n",
       "<tr>\n",
       "<td>Poland</td>\n",
       "</tr>\n",
       "<tr>\n",
       "<td>Thailand</td>\n",
       "</tr>\n",
       "</table>\n",
       "2 rows in set (0.00 sec)"
      ],
      "text/plain": [
       "+----------------+\n",
       "| Country_Region |\n",
       "+----------------+\n",
       "| Poland         |\n",
       "+----------------+\n",
       "| Thailand       |\n",
       "+----------------+\n",
       "2 rows in set (0.00 sec)"
      ]
     },
     "execution_count": 23,
     "metadata": {},
     "output_type": "execute_result"
    }
   ],
   "source": [
    "SELECT DISTINCT Country_Region\n",
    "  FROM lookup_table\n",
    " WHERE Country_Region LIKE '%land' AND\n",
    "       Population > 30000000;"
   ]
  },
  {
   "cell_type": "markdown",
   "metadata": {
    "slideshow": {
     "slide_type": "subslide"
    }
   },
   "source": [
    "## Combining conditions with `OR`"
   ]
  },
  {
   "cell_type": "code",
   "execution_count": 24,
   "metadata": {
    "slideshow": {
     "slide_type": "-"
    }
   },
   "outputs": [
    {
     "data": {
      "text/html": [
       "<table>\n",
       "<tr>\n",
       "<th>Country_Region</th>\n",
       "</tr>\n",
       "<tr>\n",
       "<td>Taiwan</td>\n",
       "</tr>\n",
       "<tr>\n",
       "<td>New Zealand</td>\n",
       "</tr>\n",
       "<tr>\n",
       "<td>Finland</td>\n",
       "</tr>\n",
       "<tr>\n",
       "<td>Iceland</td>\n",
       "</tr>\n",
       "<tr>\n",
       "<td>Ireland</td>\n",
       "</tr>\n",
       "<tr>\n",
       "<td>Poland</td>\n",
       "</tr>\n",
       "<tr>\n",
       "<td>Switzerland</td>\n",
       "</tr>\n",
       "<tr>\n",
       "<td>Thailand</td>\n",
       "</tr>\n",
       "<tr>\n",
       "<td>Turkey</td>\n",
       "</tr>\n",
       "</table>\n",
       "9 rows in set (0.00 sec)"
      ],
      "text/plain": [
       "+----------------+\n",
       "| Country_Region |\n",
       "+----------------+\n",
       "| Taiwan         |\n",
       "+----------------+\n",
       "| New Zealand    |\n",
       "+----------------+\n",
       "| Finland        |\n",
       "+----------------+\n",
       "| Iceland        |\n",
       "+----------------+\n",
       "| Ireland        |\n",
       "+----------------+\n",
       "| Poland         |\n",
       "+----------------+\n",
       "| Switzerland    |\n",
       "+----------------+\n",
       "| Thailand       |\n",
       "+----------------+\n",
       "| Turkey         |\n",
       "+----------------+\n",
       "9 rows in set (0.00 sec)"
      ]
     },
     "execution_count": 24,
     "metadata": {},
     "output_type": "execute_result"
    }
   ],
   "source": [
    "SELECT DISTINCT Country_Region\n",
    "  FROM lookup_table\n",
    " WHERE Country_Region LIKE '%land' OR\n",
    "       Country_Region LIKE 'T_____';"
   ]
  },
  {
   "cell_type": "markdown",
   "metadata": {
    "slideshow": {
     "slide_type": "subslide"
    }
   },
   "source": [
    "## Putting what we have so far all together\n",
    "\n",
    "SQL is about the order of keywords, so follow this convention:\n",
    "\n",
    "```sql\n",
    "SELECT column_names\n",
    "  FROM table_name\n",
    " WHERE conditions\n",
    " ORDER BY column_names\n",
    " LIMIT n;\n",
    "```"
   ]
  }
 ],
 "metadata": {
  "celltoolbar": "Slideshow",
  "kernelspec": {
   "display_name": "xsql",
   "language": "sqlite",
   "name": "xsql"
  },
  "language_info": {
   "codemirror_mode": "sql",
   "file_extension": "",
   "mimetype": "",
   "name": "mysql",
   "version": "0.1.4"
  }
 },
 "nbformat": 4,
 "nbformat_minor": 4
}
