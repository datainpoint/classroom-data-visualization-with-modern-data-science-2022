{
 "cells": [
  {
   "cell_type": "markdown",
   "metadata": {
    "slideshow": {
     "slide_type": "slide"
    }
   },
   "source": [
    "# Data Visualization with Modern Data Science\n",
    "\n",
    "> Getting Started with Tableau\n",
    "\n",
    "Yao-Jen Kuo <yaojenkuo@ntu.edu.tw> from [DATAINPOINT](https://www.datainpoint.com)"
   ]
  },
  {
   "cell_type": "markdown",
   "metadata": {
    "slideshow": {
     "slide_type": "slide"
    }
   },
   "source": [
    "## Getting Tableau Desktop"
   ]
  },
  {
   "cell_type": "markdown",
   "metadata": {
    "slideshow": {
     "slide_type": "subslide"
    }
   },
   "source": [
    "## Tableau Desktop can be easily set up through step 123\n",
    "\n",
    "1. Download.\n",
    "2. Install.\n",
    "3. Activate."
   ]
  },
  {
   "cell_type": "markdown",
   "metadata": {
    "slideshow": {
     "slide_type": "subslide"
    }
   },
   "source": [
    "## Download Tableau Desktop from Tableau for Teaching\n",
    "\n",
    "<https://www.tableau.com/tft/activation>"
   ]
  },
  {
   "cell_type": "markdown",
   "metadata": {
    "slideshow": {
     "slide_type": "subslide"
    }
   },
   "source": [
    "## Activate Tableau with product key\n",
    "\n",
    "![Imgur](https://i.imgur.com/4MpR5uX.png?1)"
   ]
  },
  {
   "cell_type": "markdown",
   "metadata": {
    "slideshow": {
     "slide_type": "subslide"
    }
   },
   "source": [
    "## Find product key in course announcements\n",
    "\n",
    "![Imgur](https://i.imgur.com/aFCvARg.png?1)"
   ]
  },
  {
   "cell_type": "markdown",
   "metadata": {
    "slideshow": {
     "slide_type": "subslide"
    }
   },
   "source": [
    "## Registering with your @ntu.edu.tw email\n",
    "\n",
    "![Imgur](https://i.imgur.com/tnZMGVQ.png?1)"
   ]
  },
  {
   "cell_type": "markdown",
   "metadata": {
    "slideshow": {
     "slide_type": "subslide"
    }
   },
   "source": [
    "## Now we are all set\n",
    "\n",
    "![Imgur](https://i.imgur.com/j7Uy0Ui.png?1)"
   ]
  },
  {
   "cell_type": "markdown",
   "metadata": {
    "slideshow": {
     "slide_type": "subslide"
    }
   },
   "source": [
    "## Tableau Start page:  Connect\n",
    "\n",
    "- You use this section when you want to start a new data connection in your Tableau workbook.\n",
    "- Tableau Desktop has two editions\n",
    "    - Tableau Desktop Personal Edition is for connections to file‐based data sources like Excel and Microsoft Access.\n",
    "    - Tableau Desktop Professional Edition allows you to go beyond the files and additionally connect to databases hosted on servers."
   ]
  },
  {
   "cell_type": "markdown",
   "metadata": {
    "slideshow": {
     "slide_type": "subslide"
    }
   },
   "source": [
    "## Tap Tableau > About to get your edition information"
   ]
  },
  {
   "cell_type": "markdown",
   "metadata": {
    "slideshow": {
     "slide_type": "subslide"
    }
   },
   "source": [
    "## Tableau Start page:  Open\n",
    "\n",
    "You use this section to open and continue working on an existing Tableau workbook. The existing workbook can be one that you’ve created or one of the samples that Tableau Software provides for training purposes."
   ]
  },
  {
   "cell_type": "markdown",
   "metadata": {
    "slideshow": {
     "slide_type": "subslide"
    }
   },
   "source": [
    "## Tableau Start page:  Discover\n",
    "\n",
    "This section gives you easy access to training resources as well as news about Tableau."
   ]
  },
  {
   "cell_type": "markdown",
   "metadata": {
    "slideshow": {
     "slide_type": "slide"
    }
   },
   "source": [
    "## Interacting with Data in Tableau"
   ]
  },
  {
   "cell_type": "markdown",
   "metadata": {
    "slideshow": {
     "slide_type": "subslide"
    }
   },
   "source": [
    "## (Recap)Import, tidy, and transform together called \"wrangle\"\n",
    "\n",
    "![](https://i.imgur.com/iI7YT4x.png)\n",
    "\n",
    "Source: [R for Data Science](https://r4ds.had.co.nz/)"
   ]
  },
  {
   "cell_type": "markdown",
   "metadata": {
    "slideshow": {
     "slide_type": "subslide"
    }
   },
   "source": [
    "## Downloading data from [course repository](https://mybinder.org/v2/gh/datainpoint/classroom-data-visualization-with-modern-data-science-2022/HEAD?urlpath=tree/data)\n",
    "\n",
    "- `lookup_table.csv`\n",
    "- `daily_report.csv`\n",
    "- `time_series.csv`"
   ]
  },
  {
   "cell_type": "markdown",
   "metadata": {
    "slideshow": {
     "slide_type": "subslide"
    }
   },
   "source": [
    "## Data source: Center for Systems Science and Engineering (CSSE) of Johns Hopkins University\n",
    "\n",
    "<https://github.com/CSSEGISandData/COVID-19>"
   ]
  },
  {
   "cell_type": "markdown",
   "metadata": {
    "slideshow": {
     "slide_type": "subslide"
    }
   },
   "source": [
    "## Download a text editor to preview your text file data\n",
    "\n",
    "- [Visual Studio Code](https://code.visualstudio.com)\n",
    "- [Atom](https://atom.io)\n",
    "- [Notepad++](https://notepad-plus-plus.org/)\n",
    "- ...etc."
   ]
  },
  {
   "cell_type": "markdown",
   "metadata": {
    "slideshow": {
     "slide_type": "subslide"
    }
   },
   "source": [
    "## CSV is short for comma-separated values\n",
    "\n",
    "> A comma-separated values (CSV) file is a delimited text file that uses a comma to separate values. Each line of the file is a data record. Each record consists of one or more fields, separated by commas.\n",
    "\n",
    "Source: <https://en.wikipedia.org/wiki/Comma-separated_values>"
   ]
  },
  {
   "cell_type": "markdown",
   "metadata": {
    "slideshow": {
     "slide_type": "subslide"
    }
   },
   "source": [
    "## Connecting to `.csv` file in Tableau\n",
    "\n",
    "Tableau Start page > Connect > To a File > Text file."
   ]
  },
  {
   "cell_type": "markdown",
   "metadata": {
    "slideshow": {
     "slide_type": "subslide"
    }
   },
   "source": [
    "## Relating data sources\n",
    "\n",
    "- `daily_report.Combined_Key = lookup_table.Combined Key`\n",
    "- `lookup_table.Country_Region = time_series.Country_Region`\n",
    "\n",
    "![](https://i.imgur.com/blpOrUh.png)"
   ]
  },
  {
   "cell_type": "markdown",
   "metadata": {
    "slideshow": {
     "slide_type": "subslide"
    }
   },
   "source": [
    "## Understanding Tableau Worksheets: the place where you create the visualizations that you'll use in dashboards\n",
    "\n",
    "![Imgur](https://i.imgur.com/Lsfhpsi.png?1)"
   ]
  },
  {
   "cell_type": "markdown",
   "metadata": {
    "slideshow": {
     "slide_type": "subslide"
    }
   },
   "source": [
    "## A big picture of our fields\n",
    "\n",
    "Each of them has an icon to the left of the field name that indicates the type of data contained in the field.\n",
    "\n",
    "1. Dimensions: categorical, discrete.\n",
    "2. Measures: numerical, continuous."
   ]
  },
  {
   "cell_type": "markdown",
   "metadata": {
    "slideshow": {
     "slide_type": "subslide"
    }
   },
   "source": [
    "## Interacting with imported data\n",
    "\n",
    "- Adding filters.\n",
    "- Calculated fields."
   ]
  },
  {
   "cell_type": "markdown",
   "metadata": {
    "slideshow": {
     "slide_type": "subslide"
    }
   },
   "source": [
    "## Adding filters from data source\n",
    "\n",
    "If you don't need to base your analysis on the entire data set, you can add a filter to the extract so that Tableau can use the specified subset of the data (which may also improve performance).\n",
    "\n",
    "![Imgur](https://i.imgur.com/TeR5Q2A.png?2)"
   ]
  },
  {
   "cell_type": "markdown",
   "metadata": {
    "slideshow": {
     "slide_type": "subslide"
    }
   },
   "source": [
    "## Adding filters in Tableau Worksheets\n",
    "\n",
    "Dragging and dropping fields onto **Filters**."
   ]
  },
  {
   "cell_type": "markdown",
   "metadata": {
    "slideshow": {
     "slide_type": "subslide"
    }
   },
   "source": [
    "## Adding some filters on different fields\n",
    "\n",
    "- Displaying data of Taiwan.\n",
    "- Displaying data in 2022."
   ]
  },
  {
   "cell_type": "markdown",
   "metadata": {
    "slideshow": {
     "slide_type": "subslide"
    }
   },
   "source": [
    "## Calculated fields\n",
    "\n",
    "Analysis > Create Calculated Field...\n",
    "\n",
    "\\begin{equation}\n",
    "\\text{e.g.} \\; \\text{Fatality Ratio} = \\frac{\\text{Deaths}}{\\text{Confirmed}}\n",
    "\\end{equation}"
   ]
  },
  {
   "cell_type": "markdown",
   "metadata": {
    "slideshow": {
     "slide_type": "slide"
    }
   },
   "source": [
    "## Creating Basic Plots"
   ]
  },
  {
   "cell_type": "markdown",
   "metadata": {
    "slideshow": {
     "slide_type": "subslide"
    }
   },
   "source": [
    "## Each plot has its own purpose\n",
    "\n",
    "- To explore rankings.\n",
    "- To explore correlations,\n",
    "- To explore distributions.\n",
    "- To explore trends.\n",
    "- To explore proportions.\n",
    "- To explore values on map."
   ]
  },
  {
   "cell_type": "markdown",
   "metadata": {
    "slideshow": {
     "slide_type": "subslide"
    }
   },
   "source": [
    "## Tableau places Rows at y-axis while places Columns at x-axis\n",
    "\n",
    "![](https://media.giphy.com/media/xL7PDV9frcudO/giphy.gif)\n",
    "\n",
    "Source: <https://media.giphy.com/media/xL7PDV9frcudO/giphy.gif>"
   ]
  },
  {
   "cell_type": "markdown",
   "metadata": {
    "slideshow": {
     "slide_type": "subslide"
    }
   },
   "source": [
    "## Using bar to explore rankings\n",
    "\n",
    "- Dragging `Confirmed` onto Columns.\n",
    "- Dragging `Country Region` onto Rows.\n",
    "- Click sorted descending."
   ]
  },
  {
   "cell_type": "markdown",
   "metadata": {
    "slideshow": {
     "slide_type": "subslide"
    }
   },
   "source": [
    "## Showing only top 20 confirmed countries\n",
    "\n",
    "- Dragging `Country Regions` onto Filters.\n",
    "- Click Top and input condition."
   ]
  },
  {
   "cell_type": "markdown",
   "metadata": {
    "slideshow": {
     "slide_type": "subslide"
    }
   },
   "source": [
    "## Using scatter plot to explore correlations\n",
    "\n",
    "- Create another worksheet.\n",
    "- Dragging `Confirmed` onto Columns.\n",
    "- Dragging `Deaths` onto Rows."
   ]
  },
  {
   "cell_type": "markdown",
   "metadata": {
    "slideshow": {
     "slide_type": "subslide"
    }
   },
   "source": [
    "## Tableau uses `SUM()` on measurements by default\n",
    "\n",
    "- Switch to `Dimension` from `Measure` for both axes.\n",
    "- Dragging `Combined Key` onto Label."
   ]
  },
  {
   "cell_type": "markdown",
   "metadata": {
    "slideshow": {
     "slide_type": "subslide"
    }
   },
   "source": [
    "## Using histogram to explore distributions\n",
    "\n",
    "- Create another worksheet.\n",
    "- Dragging `Confirmed` onto Columns.\n",
    "- Click Show Me then click **histogram**."
   ]
  },
  {
   "cell_type": "markdown",
   "metadata": {
    "slideshow": {
     "slide_type": "subslide"
    }
   },
   "source": [
    "## Using line to explore trends\n",
    "\n",
    "- Create another worksheet.\n",
    "- Dragging `Date` onto Columns.\n",
    "- Dragging `Confirmed (time series.csv)` onto Rows.\n",
    "- Dragging `Country Region` onto both Filters and Color."
   ]
  },
  {
   "cell_type": "markdown",
   "metadata": {
    "slideshow": {
     "slide_type": "subslide"
    }
   },
   "source": [
    "## Using treemap to explore proportions\n",
    "\n",
    "- Create another worksheet.\n",
    "- Dragging `Country Region, Province State` onto Columns.\n",
    "- Dragging `Confirmed` onto Rows.\n",
    "- Click Show Me then click **treemaps**.\n",
    "- Add a Quick Table Calculation > Percent of Total."
   ]
  },
  {
   "cell_type": "markdown",
   "metadata": {
    "slideshow": {
     "slide_type": "subslide"
    }
   },
   "source": [
    "## Add a Quick Table Calculation > Percent of Total\n",
    "\n",
    "![img](https://i.imgur.com/iEXet3J.png?1)"
   ]
  },
  {
   "cell_type": "markdown",
   "metadata": {
    "slideshow": {
     "slide_type": "subslide"
    }
   },
   "source": [
    "## Using map to explore values on map\n",
    "\n",
    "- Create another worksheet.\n",
    "- Dragging `Country Region` onto Columns.\n",
    "- Dragging `Confirmed` onto Rows.\n",
    "- Click Show Me then click **symbol maps** or **maps**."
   ]
  }
 ],
 "metadata": {
  "celltoolbar": "Slideshow",
  "kernelspec": {
   "display_name": "Python 3 (ipykernel)",
   "language": "python",
   "name": "python3"
  },
  "language_info": {
   "codemirror_mode": {
    "name": "ipython",
    "version": 3
   },
   "file_extension": ".py",
   "mimetype": "text/x-python",
   "name": "python",
   "nbconvert_exporter": "python",
   "pygments_lexer": "ipython3",
   "version": "3.9.5"
  }
 },
 "nbformat": 4,
 "nbformat_minor": 4
}
