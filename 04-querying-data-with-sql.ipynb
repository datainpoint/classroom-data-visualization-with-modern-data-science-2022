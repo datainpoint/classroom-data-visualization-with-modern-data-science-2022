{
 "cells": [
  {
   "cell_type": "markdown",
   "metadata": {
    "slideshow": {
     "slide_type": "slide"
    }
   },
   "source": [
    "# Data Visualization with Modern Data Science\n",
    "\n",
    "> Querying Data with SQL\n",
    "\n",
    "Yao-Jen Kuo <yaojenkuo@ntu.edu.tw> from [DATAINPOINT](https://www.datainpoint.com)"
   ]
  },
  {
   "cell_type": "code",
   "execution_count": 1,
   "metadata": {
    "slideshow": {
     "slide_type": "subslide"
    }
   },
   "outputs": [],
   "source": [
    "%LOAD sqlite3 db=data/covid19.db timeout=2 shared_cache=true"
   ]
  },
  {
   "cell_type": "markdown",
   "metadata": {
    "slideshow": {
     "slide_type": "slide"
    }
   },
   "source": [
    "## The Elements of a SQL Statement"
   ]
  },
  {
   "cell_type": "markdown",
   "metadata": {
    "slideshow": {
     "slide_type": "subslide"
    }
   },
   "source": [
    "## (Recap) What is a SQL statement\n",
    "\n",
    "A SQL statement is a combination of\n",
    "\n",
    "- Keywords.\n",
    "- Object names(e.g. databases/tables/columns/functions).\n",
    "- Constants.\n",
    "- Operators."
   ]
  },
  {
   "cell_type": "markdown",
   "metadata": {
    "slideshow": {
     "slide_type": "subslide"
    }
   },
   "source": [
    "## A SQL statement\n",
    "\n",
    "Trying to identify keywords, object names, constants, and operators, respectively."
   ]
  },
  {
   "cell_type": "code",
   "execution_count": 2,
   "metadata": {},
   "outputs": [
    {
     "data": {
      "text/html": [
       "<table>\n",
       "<tr>\n",
       "<th>Country_Region</th>\n",
       "<th>Incidence_Rate</th>\n",
       "</tr>\n",
       "<tr>\n",
       "<td>Andorra</td>\n",
       "<td>49180</td>\n",
       "</tr>\n",
       "<tr>\n",
       "<td>Denmark</td>\n",
       "<td>47297</td>\n",
       "</tr>\n",
       "<tr>\n",
       "<td>Slovenia</td>\n",
       "<td>42936</td>\n",
       "</tr>\n",
       "<tr>\n",
       "<td>San Marino</td>\n",
       "<td>42338</td>\n",
       "</tr>\n",
       "<tr>\n",
       "<td>Israel</td>\n",
       "<td>41990</td>\n",
       "</tr>\n",
       "</table>\n",
       "5 rows in set (0.06 sec)"
      ],
      "text/plain": [
       "+----------------+----------------+\n",
       "| Country_Region | Incidence_Rate |\n",
       "+----------------+----------------+\n",
       "| Andorra        | 49180          |\n",
       "+----------------+----------------+\n",
       "| Denmark        | 47297          |\n",
       "+----------------+----------------+\n",
       "| Slovenia       | 42936          |\n",
       "+----------------+----------------+\n",
       "| San Marino     | 42338          |\n",
       "+----------------+----------------+\n",
       "| Israel         | 41990          |\n",
       "+----------------+----------------+\n",
       "5 rows in set (0.06 sec)"
      ]
     },
     "execution_count": 2,
     "metadata": {},
     "output_type": "execute_result"
    }
   ],
   "source": [
    "SELECT lookup_table.Country_Region,\n",
    "       SUM(daily_report.Confirmed)*100000 / SUM(lookup_table.Population) AS Incidence_Rate\n",
    "  FROM daily_report\n",
    "  JOIN lookup_table\n",
    "    ON daily_report.Combined_Key = lookup_table.Combined_Key\n",
    " GROUP BY lookup_table.Country_Region\n",
    " ORDER BY Incidence_Rate DESC\n",
    " LIMIT 5;"
   ]
  },
  {
   "cell_type": "markdown",
   "metadata": {
    "slideshow": {
     "slide_type": "subslide"
    }
   },
   "source": [
    "## The list of SQL keywords\n",
    "\n",
    "- [SQLite Keywords](https://www.sqlite.org/lang_keywords.html)\n",
    "- [Standard SQL Keywords](https://www.w3schools.com/sql/sql_ref_keywords.asp)"
   ]
  },
  {
   "cell_type": "markdown",
   "metadata": {
    "slideshow": {
     "slide_type": "subslide"
    }
   },
   "source": [
    "## The list of tables within connected database"
   ]
  },
  {
   "cell_type": "code",
   "execution_count": 3,
   "metadata": {},
   "outputs": [
    {
     "data": {
      "text/html": [
       "<table>\n",
       "<tr>\n",
       "<th>name</th>\n",
       "</tr>\n",
       "<tr>\n",
       "<td>lookup_table</td>\n",
       "</tr>\n",
       "<tr>\n",
       "<td>daily_report</td>\n",
       "</tr>\n",
       "<tr>\n",
       "<td>time_series</td>\n",
       "</tr>\n",
       "</table>\n",
       "3 rows in set (0.00 sec)"
      ],
      "text/plain": [
       "+--------------+\n",
       "| name         |\n",
       "+--------------+\n",
       "| lookup_table |\n",
       "+--------------+\n",
       "| daily_report |\n",
       "+--------------+\n",
       "| time_series  |\n",
       "+--------------+\n",
       "3 rows in set (0.00 sec)"
      ]
     },
     "execution_count": 3,
     "metadata": {},
     "output_type": "execute_result"
    }
   ],
   "source": [
    "SELECT name\n",
    "  FROM sqlite_master\n",
    " WHERE name NOT LIKE 'sqlite%';"
   ]
  },
  {
   "cell_type": "markdown",
   "metadata": {
    "slideshow": {
     "slide_type": "subslide"
    }
   },
   "source": [
    "## The list of columns of a specified table"
   ]
  },
  {
   "cell_type": "code",
   "execution_count": 4,
   "metadata": {},
   "outputs": [
    {
     "data": {
      "text/html": [
       "<table>\n",
       "<tr>\n",
       "<th>name</th>\n",
       "</tr>\n",
       "<tr>\n",
       "<td>Combined_Key</td>\n",
       "</tr>\n",
       "<tr>\n",
       "<td>Last_Update</td>\n",
       "</tr>\n",
       "<tr>\n",
       "<td>Confirmed</td>\n",
       "</tr>\n",
       "<tr>\n",
       "<td>Deaths</td>\n",
       "</tr>\n",
       "</table>\n",
       "4 rows in set (0.00 sec)"
      ],
      "text/plain": [
       "+--------------+\n",
       "| name         |\n",
       "+--------------+\n",
       "| Combined_Key |\n",
       "+--------------+\n",
       "| Last_Update  |\n",
       "+--------------+\n",
       "| Confirmed    |\n",
       "+--------------+\n",
       "| Deaths       |\n",
       "+--------------+\n",
       "4 rows in set (0.00 sec)"
      ]
     },
     "execution_count": 4,
     "metadata": {},
     "output_type": "execute_result"
    }
   ],
   "source": [
    "SELECT name\n",
    "  FROM PRAGMA_TABLE_INFO('daily_report');"
   ]
  },
  {
   "cell_type": "code",
   "execution_count": 5,
   "metadata": {
    "slideshow": {
     "slide_type": "subslide"
    }
   },
   "outputs": [
    {
     "data": {
      "text/html": [
       "<table>\n",
       "<tr>\n",
       "<th>name</th>\n",
       "</tr>\n",
       "<tr>\n",
       "<td>UID</td>\n",
       "</tr>\n",
       "<tr>\n",
       "<td>Combined_Key</td>\n",
       "</tr>\n",
       "<tr>\n",
       "<td>iso2</td>\n",
       "</tr>\n",
       "<tr>\n",
       "<td>iso3</td>\n",
       "</tr>\n",
       "<tr>\n",
       "<td>Country_Region</td>\n",
       "</tr>\n",
       "<tr>\n",
       "<td>Province_State</td>\n",
       "</tr>\n",
       "<tr>\n",
       "<td>Admin2</td>\n",
       "</tr>\n",
       "<tr>\n",
       "<td>Lat</td>\n",
       "</tr>\n",
       "<tr>\n",
       "<td>Long_</td>\n",
       "</tr>\n",
       "<tr>\n",
       "<td>Population</td>\n",
       "</tr>\n",
       "</table>\n",
       "10 rows in set (0.00 sec)"
      ],
      "text/plain": [
       "+----------------+\n",
       "| name           |\n",
       "+----------------+\n",
       "| UID            |\n",
       "+----------------+\n",
       "| Combined_Key   |\n",
       "+----------------+\n",
       "| iso2           |\n",
       "+----------------+\n",
       "| iso3           |\n",
       "+----------------+\n",
       "| Country_Region |\n",
       "+----------------+\n",
       "| Province_State |\n",
       "+----------------+\n",
       "| Admin2         |\n",
       "+----------------+\n",
       "| Lat            |\n",
       "+----------------+\n",
       "| Long_          |\n",
       "+----------------+\n",
       "| Population     |\n",
       "+----------------+\n",
       "10 rows in set (0.00 sec)"
      ]
     },
     "execution_count": 5,
     "metadata": {},
     "output_type": "execute_result"
    }
   ],
   "source": [
    "SELECT name\n",
    "  FROM PRAGMA_TABLE_INFO('lookup_table');"
   ]
  },
  {
   "cell_type": "code",
   "execution_count": 6,
   "metadata": {
    "slideshow": {
     "slide_type": "subslide"
    }
   },
   "outputs": [
    {
     "data": {
      "text/html": [
       "<table>\n",
       "<tr>\n",
       "<th>name</th>\n",
       "</tr>\n",
       "<tr>\n",
       "<td>Date</td>\n",
       "</tr>\n",
       "<tr>\n",
       "<td>Country_Region</td>\n",
       "</tr>\n",
       "<tr>\n",
       "<td>Confirmed</td>\n",
       "</tr>\n",
       "<tr>\n",
       "<td>Deaths</td>\n",
       "</tr>\n",
       "<tr>\n",
       "<td>Daily_Cases</td>\n",
       "</tr>\n",
       "<tr>\n",
       "<td>Daily_Deaths</td>\n",
       "</tr>\n",
       "</table>\n",
       "6 rows in set (0.00 sec)"
      ],
      "text/plain": [
       "+----------------+\n",
       "| name           |\n",
       "+----------------+\n",
       "| Date           |\n",
       "+----------------+\n",
       "| Country_Region |\n",
       "+----------------+\n",
       "| Confirmed      |\n",
       "+----------------+\n",
       "| Deaths         |\n",
       "+----------------+\n",
       "| Daily_Cases    |\n",
       "+----------------+\n",
       "| Daily_Deaths   |\n",
       "+----------------+\n",
       "6 rows in set (0.00 sec)"
      ]
     },
     "execution_count": 6,
     "metadata": {},
     "output_type": "execute_result"
    }
   ],
   "source": [
    "SELECT name\n",
    "  FROM PRAGMA_TABLE_INFO('time_series');"
   ]
  },
  {
   "cell_type": "markdown",
   "metadata": {
    "slideshow": {
     "slide_type": "slide"
    }
   },
   "source": [
    "## Calculated fields"
   ]
  },
  {
   "cell_type": "markdown",
   "metadata": {
    "slideshow": {
     "slide_type": "subslide"
    }
   },
   "source": [
    "## What is a calculated field\n",
    "\n",
    "A calculated field is generated via the data from existed fields in connected databases."
   ]
  },
  {
   "cell_type": "markdown",
   "metadata": {
    "slideshow": {
     "slide_type": "subslide"
    }
   },
   "source": [
    "## Several ways to generate a calculated field\n",
    "\n",
    "- Functions.\n",
    "- Constants.\n",
    "- Operators.\n",
    "- `CASE` statement."
   ]
  },
  {
   "cell_type": "markdown",
   "metadata": {
    "slideshow": {
     "slide_type": "subslide"
    }
   },
   "source": [
    "## What is a function\n",
    "\n",
    "In the context of programming, a function is a named sequence of statements that performs a desired operation."
   ]
  },
  {
   "cell_type": "markdown",
   "metadata": {
    "slideshow": {
     "slide_type": "subslide"
    }
   },
   "source": [
    "## Using functions with SQL\n",
    "\n",
    "```sql\n",
    "SELECT FUNCTION_NAME(columns/constants, parameters);\n",
    "```"
   ]
  },
  {
   "cell_type": "markdown",
   "metadata": {
    "slideshow": {
     "slide_type": "subslide"
    }
   },
   "source": [
    "## Functions in SQLite\n",
    "\n",
    "- Scalar functions.\n",
    "    - For type checking.\n",
    "    - For numerics.\n",
    "    - For texts.\n",
    "- Date and time functions.\n",
    "- Aggregate functions."
   ]
  },
  {
   "cell_type": "markdown",
   "metadata": {
    "slideshow": {
     "slide_type": "subslide"
    }
   },
   "source": [
    "## Useful scalar functions for type checking\n",
    "\n",
    "- `TYPEOF(X)`: The function returns a string that indicates the datatype.\n",
    "- `PRAGMA_TABLE_INFO(table_name)`: The function returns one row for each column in the named table. "
   ]
  },
  {
   "cell_type": "markdown",
   "metadata": {
    "slideshow": {
     "slide_type": "subslide"
    }
   },
   "source": [
    "## `TYPEOF(X)` function for a certain column"
   ]
  },
  {
   "cell_type": "code",
   "execution_count": 7,
   "metadata": {},
   "outputs": [
    {
     "data": {
      "text/html": [
       "<table>\n",
       "<tr>\n",
       "<th>TYPEOF(iso2)</th>\n",
       "<th>TYPEOF(Lat)</th>\n",
       "<th>TYPEOF(Population)</th>\n",
       "</tr>\n",
       "<tr>\n",
       "<td>text</td>\n",
       "<td>real</td>\n",
       "<td>integer</td>\n",
       "</tr>\n",
       "</table>\n",
       "1 row in set (0.00 sec)"
      ],
      "text/plain": [
       "+--------------+-------------+--------------------+\n",
       "| TYPEOF(iso2) | TYPEOF(Lat) | TYPEOF(Population) |\n",
       "+--------------+-------------+--------------------+\n",
       "| text         | real        | integer            |\n",
       "+--------------+-------------+--------------------+\n",
       "1 row in set (0.00 sec)"
      ]
     },
     "execution_count": 7,
     "metadata": {},
     "output_type": "execute_result"
    }
   ],
   "source": [
    "SELECT TYPEOF(iso2),\n",
    "       TYPEOF(Lat),\n",
    "       TYPEOF(Population)\n",
    "  FROM lookup_table\n",
    " LIMIT 1;"
   ]
  },
  {
   "cell_type": "markdown",
   "metadata": {
    "slideshow": {
     "slide_type": "subslide"
    }
   },
   "source": [
    "## `PRAGMA_TABLE_INFO(table_name)` for an entire table"
   ]
  },
  {
   "cell_type": "code",
   "execution_count": 8,
   "metadata": {
    "slideshow": {
     "slide_type": "-"
    }
   },
   "outputs": [
    {
     "data": {
      "text/html": [
       "<table>\n",
       "<tr>\n",
       "<th>cid</th>\n",
       "<th>name</th>\n",
       "<th>type</th>\n",
       "<th>notnull</th>\n",
       "<th>dflt_value</th>\n",
       "<th>pk</th>\n",
       "</tr>\n",
       "<tr>\n",
       "<td>0</td>\n",
       "<td>UID</td>\n",
       "<td>INTEGER</td>\n",
       "<td>0</td>\n",
       "<td>NULL</td>\n",
       "<td>1</td>\n",
       "</tr>\n",
       "<tr>\n",
       "<td>1</td>\n",
       "<td>Combined_Key</td>\n",
       "<td>TEXT</td>\n",
       "<td>0</td>\n",
       "<td>NULL</td>\n",
       "<td>0</td>\n",
       "</tr>\n",
       "<tr>\n",
       "<td>2</td>\n",
       "<td>iso2</td>\n",
       "<td>TEXT</td>\n",
       "<td>0</td>\n",
       "<td>NULL</td>\n",
       "<td>0</td>\n",
       "</tr>\n",
       "<tr>\n",
       "<td>3</td>\n",
       "<td>iso3</td>\n",
       "<td>TEXT</td>\n",
       "<td>0</td>\n",
       "<td>NULL</td>\n",
       "<td>0</td>\n",
       "</tr>\n",
       "<tr>\n",
       "<td>4</td>\n",
       "<td>Country_Region</td>\n",
       "<td>TEXT</td>\n",
       "<td>0</td>\n",
       "<td>NULL</td>\n",
       "<td>0</td>\n",
       "</tr>\n",
       "<tr>\n",
       "<td>5</td>\n",
       "<td>Province_State</td>\n",
       "<td>TEXT</td>\n",
       "<td>0</td>\n",
       "<td>NULL</td>\n",
       "<td>0</td>\n",
       "</tr>\n",
       "<tr>\n",
       "<td>6</td>\n",
       "<td>Admin2</td>\n",
       "<td>TEXT</td>\n",
       "<td>0</td>\n",
       "<td>NULL</td>\n",
       "<td>0</td>\n",
       "</tr>\n",
       "<tr>\n",
       "<td>7</td>\n",
       "<td>Lat</td>\n",
       "<td>REAL</td>\n",
       "<td>0</td>\n",
       "<td>NULL</td>\n",
       "<td>0</td>\n",
       "</tr>\n",
       "<tr>\n",
       "<td>8</td>\n",
       "<td>Long_</td>\n",
       "<td>REAL</td>\n",
       "<td>0</td>\n",
       "<td>NULL</td>\n",
       "<td>0</td>\n",
       "</tr>\n",
       "<tr>\n",
       "<td>9</td>\n",
       "<td>Population</td>\n",
       "<td>INTEGER</td>\n",
       "<td>0</td>\n",
       "<td>NULL</td>\n",
       "<td>0</td>\n",
       "</tr>\n",
       "</table>\n",
       "10 rows in set (0.00 sec)"
      ],
      "text/plain": [
       "+-----+----------------+---------+---------+------------+----+\n",
       "| cid | name           | type    | notnull | dflt_value | pk |\n",
       "+-----+----------------+---------+---------+------------+----+\n",
       "| 0   | UID            | INTEGER | 0       | NULL       | 1  |\n",
       "+-----+----------------+---------+---------+------------+----+\n",
       "| 1   | Combined_Key   | TEXT    | 0       | NULL       | 0  |\n",
       "+-----+----------------+---------+---------+------------+----+\n",
       "| 2   | iso2           | TEXT    | 0       | NULL       | 0  |\n",
       "+-----+----------------+---------+---------+------------+----+\n",
       "| 3   | iso3           | TEXT    | 0       | NULL       | 0  |\n",
       "+-----+----------------+---------+---------+------------+----+\n",
       "| 4   | Country_Region | TEXT    | 0       | NULL       | 0  |\n",
       "+-----+----------------+---------+---------+------------+----+\n",
       "| 5   | Province_State | TEXT    | 0       | NULL       | 0  |\n",
       "+-----+----------------+---------+---------+------------+----+\n",
       "| 6   | Admin2         | TEXT    | 0       | NULL       | 0  |\n",
       "+-----+----------------+---------+---------+------------+----+\n",
       "| 7   | Lat            | REAL    | 0       | NULL       | 0  |\n",
       "+-----+----------------+---------+---------+------------+----+\n",
       "| 8   | Long_          | REAL    | 0       | NULL       | 0  |\n",
       "+-----+----------------+---------+---------+------------+----+\n",
       "| 9   | Population     | INTEGER | 0       | NULL       | 0  |\n",
       "+-----+----------------+---------+---------+------------+----+\n",
       "10 rows in set (0.00 sec)"
      ]
     },
     "execution_count": 8,
     "metadata": {},
     "output_type": "execute_result"
    }
   ],
   "source": [
    "SELECT *\n",
    "  FROM PRAGMA_TABLE_INFO('lookup_table');"
   ]
  },
  {
   "cell_type": "markdown",
   "metadata": {
    "slideshow": {
     "slide_type": "subslide"
    }
   },
   "source": [
    "## Using constants to examine datatype\n",
    "\n",
    "- `TEXT`\n",
    "- `INTEGER`\n",
    "- `REAL`\n",
    "- `NULL`"
   ]
  },
  {
   "cell_type": "markdown",
   "metadata": {
    "slideshow": {
     "slide_type": "subslide"
    }
   },
   "source": [
    "## Using `AS` for alias of calculated fields"
   ]
  },
  {
   "cell_type": "code",
   "execution_count": 9,
   "metadata": {
    "slideshow": {
     "slide_type": "-"
    }
   },
   "outputs": [
    {
     "data": {
      "text/html": [
       "<table>\n",
       "<tr>\n",
       "<th>text_constant</th>\n",
       "<th>integer_constant</th>\n",
       "<th>real_constant</th>\n",
       "<th>null_constant</th>\n",
       "</tr>\n",
       "<tr>\n",
       "<td>I am a TEXT</td>\n",
       "<td>5566</td>\n",
       "<td>3.14159</td>\n",
       "<td>NULL</td>\n",
       "</tr>\n",
       "</table>\n",
       "1 row in set (0.00 sec)"
      ],
      "text/plain": [
       "+---------------+------------------+---------------+---------------+\n",
       "| text_constant | integer_constant | real_constant | null_constant |\n",
       "+---------------+------------------+---------------+---------------+\n",
       "| I am a TEXT   | 5566             | 3.14159       | NULL          |\n",
       "+---------------+------------------+---------------+---------------+\n",
       "1 row in set (0.00 sec)"
      ]
     },
     "execution_count": 9,
     "metadata": {},
     "output_type": "execute_result"
    }
   ],
   "source": [
    "SELECT 'I am a TEXT' AS text_constant,\n",
    "       5566 AS integer_constant,\n",
    "       3.14159 AS real_constant,\n",
    "       NULL AS null_constant;"
   ]
  },
  {
   "cell_type": "code",
   "execution_count": 10,
   "metadata": {},
   "outputs": [
    {
     "data": {
      "text/html": [
       "<table>\n",
       "<tr>\n",
       "<th>text_constant</th>\n",
       "<th>integer_constant</th>\n",
       "<th>real_constant</th>\n",
       "<th>null_constant</th>\n",
       "</tr>\n",
       "<tr>\n",
       "<td>text</td>\n",
       "<td>integer</td>\n",
       "<td>real</td>\n",
       "<td>null</td>\n",
       "</tr>\n",
       "</table>\n",
       "1 row in set (0.00 sec)"
      ],
      "text/plain": [
       "+---------------+------------------+---------------+---------------+\n",
       "| text_constant | integer_constant | real_constant | null_constant |\n",
       "+---------------+------------------+---------------+---------------+\n",
       "| text          | integer          | real          | null          |\n",
       "+---------------+------------------+---------------+---------------+\n",
       "1 row in set (0.00 sec)"
      ]
     },
     "execution_count": 10,
     "metadata": {},
     "output_type": "execute_result"
    }
   ],
   "source": [
    "SELECT TYPEOF('I am a TEXT') AS text_constant,\n",
    "       TYPEOF(5566) AS integer_constant,\n",
    "       TYPEOF(3.14159) AS real_constant,\n",
    "       TYPEOF(NULL) AS null_constant;"
   ]
  },
  {
   "cell_type": "markdown",
   "metadata": {
    "slideshow": {
     "slide_type": "subslide"
    }
   },
   "source": [
    "## Using `CAST(X AS datatype)` to convert data type for query results\n",
    "\n",
    "Before casting."
   ]
  },
  {
   "cell_type": "code",
   "execution_count": 11,
   "metadata": {},
   "outputs": [
    {
     "data": {
      "text/html": [
       "<table>\n",
       "<tr>\n",
       "<th>Lat</th>\n",
       "<th>Population</th>\n",
       "</tr>\n",
       "<tr>\n",
       "<td>33.93911</td>\n",
       "<td>38928341</td>\n",
       "</tr>\n",
       "</table>\n",
       "1 row in set (0.00 sec)"
      ],
      "text/plain": [
       "+----------+------------+\n",
       "| Lat      | Population |\n",
       "+----------+------------+\n",
       "| 33.93911 | 38928341   |\n",
       "+----------+------------+\n",
       "1 row in set (0.00 sec)"
      ]
     },
     "execution_count": 11,
     "metadata": {},
     "output_type": "execute_result"
    }
   ],
   "source": [
    "SELECT Lat,\n",
    "       Population\n",
    "  FROM lookup_table\n",
    " LIMIT 1;"
   ]
  },
  {
   "cell_type": "markdown",
   "metadata": {
    "slideshow": {
     "slide_type": "subslide"
    }
   },
   "source": [
    "## Using `CAST(X AS datatype)` to convert data type for query results\n",
    "\n",
    "After casting."
   ]
  },
  {
   "cell_type": "code",
   "execution_count": 12,
   "metadata": {},
   "outputs": [
    {
     "data": {
      "text/html": [
       "<table>\n",
       "<tr>\n",
       "<th>CAST(Lat AS INTEGER)</th>\n",
       "<th>CAST(Population AS REAL)</th>\n",
       "</tr>\n",
       "<tr>\n",
       "<td>33</td>\n",
       "<td>38928341.0</td>\n",
       "</tr>\n",
       "</table>\n",
       "1 row in set (0.00 sec)"
      ],
      "text/plain": [
       "+----------------------+--------------------------+\n",
       "| CAST(Lat AS INTEGER) | CAST(Population AS REAL) |\n",
       "+----------------------+--------------------------+\n",
       "| 33                   | 38928341.0               |\n",
       "+----------------------+--------------------------+\n",
       "1 row in set (0.00 sec)"
      ]
     },
     "execution_count": 12,
     "metadata": {},
     "output_type": "execute_result"
    }
   ],
   "source": [
    "SELECT CAST(Lat AS INTEGER),\n",
    "       CAST(Population AS REAL)\n",
    "  FROM lookup_table\n",
    " LIMIT 1;"
   ]
  },
  {
   "cell_type": "markdown",
   "metadata": {
    "slideshow": {
     "slide_type": "subslide"
    }
   },
   "source": [
    "## Operators\n",
    "\n",
    "- Numeric operators\n",
    "    - `+`, `-`, `*`, `/`\n",
    "- Text operators\n",
    "    - `||`\n",
    "- Relational operators\n",
    "    - `=`, `!=`, `>`, `>=`, `<`, `<=`, `IN`, `BETWEEN`, `IS NULL`\n",
    "- Logical operators\n",
    "    - `AND`, `OR`, `NOT`"
   ]
  },
  {
   "cell_type": "markdown",
   "metadata": {
    "slideshow": {
     "slide_type": "subslide"
    }
   },
   "source": [
    "## Beware of using `/` dividing integers"
   ]
  },
  {
   "cell_type": "code",
   "execution_count": 13,
   "metadata": {},
   "outputs": [
    {
     "data": {
      "text/html": [
       "<table>\n",
       "<tr>\n",
       "<th>2/5</th>\n",
       "<th>2*1.0/5</th>\n",
       "<th>2/5*1.0</th>\n",
       "<th>2/(5*1.0)</th>\n",
       "</tr>\n",
       "<tr>\n",
       "<td>0</td>\n",
       "<td>0.4</td>\n",
       "<td>0.0</td>\n",
       "<td>0.4</td>\n",
       "</tr>\n",
       "</table>\n",
       "1 row in set (0.00 sec)"
      ],
      "text/plain": [
       "+-----+---------+---------+-----------+\n",
       "| 2/5 | 2*1.0/5 | 2/5*1.0 | 2/(5*1.0) |\n",
       "+-----+---------+---------+-----------+\n",
       "| 0   | 0.4     | 0.0     | 0.4       |\n",
       "+-----+---------+---------+-----------+\n",
       "1 row in set (0.00 sec)"
      ]
     },
     "execution_count": 13,
     "metadata": {},
     "output_type": "execute_result"
    }
   ],
   "source": [
    "SELECT 2/5,\n",
    "       2*1.0/5,\n",
    "       2/5*1.0,\n",
    "       2/(5*1.0);"
   ]
  },
  {
   "cell_type": "markdown",
   "metadata": {
    "slideshow": {
     "slide_type": "subslide"
    }
   },
   "source": [
    "## Using `||` to concatenate texts"
   ]
  },
  {
   "cell_type": "code",
   "execution_count": 14,
   "metadata": {},
   "outputs": [
    {
     "data": {
      "text/html": [
       "<table>\n",
       "<tr>\n",
       "<th>ironman</th>\n",
       "</tr>\n",
       "<tr>\n",
       "<td>Tony Stark</td>\n",
       "</tr>\n",
       "</table>\n",
       "1 row in set (0.00 sec)"
      ],
      "text/plain": [
       "+------------+\n",
       "| ironman    |\n",
       "+------------+\n",
       "| Tony Stark |\n",
       "+------------+\n",
       "1 row in set (0.00 sec)"
      ]
     },
     "execution_count": 14,
     "metadata": {},
     "output_type": "execute_result"
    }
   ],
   "source": [
    "SELECT 'Tony' || ' ' || 'Stark' AS ironman;"
   ]
  },
  {
   "cell_type": "markdown",
   "metadata": {
    "slideshow": {
     "slide_type": "subslide"
    }
   },
   "source": [
    "## Using `IS NULL` to find rows with missing values"
   ]
  },
  {
   "cell_type": "code",
   "execution_count": 15,
   "metadata": {},
   "outputs": [
    {
     "data": {
      "text/html": [
       "<table>\n",
       "<tr>\n",
       "<th>UID</th>\n",
       "<th>Combined_Key</th>\n",
       "<th>iso2</th>\n",
       "<th>iso3</th>\n",
       "<th>Country_Region</th>\n",
       "<th>Province_State</th>\n",
       "<th>Admin2</th>\n",
       "<th>Lat</th>\n",
       "<th>Long_</th>\n",
       "<th>Population</th>\n",
       "</tr>\n",
       "<tr>\n",
       "<td>4</td>\n",
       "<td>Afghanistan</td>\n",
       "<td>AF</td>\n",
       "<td>AFG</td>\n",
       "<td>Afghanistan</td>\n",
       "<td>NULL</td>\n",
       "<td>NULL</td>\n",
       "<td>33.93911</td>\n",
       "<td>67.709953</td>\n",
       "<td>38928341</td>\n",
       "</tr>\n",
       "<tr>\n",
       "<td>8</td>\n",
       "<td>Albania</td>\n",
       "<td>AL</td>\n",
       "<td>ALB</td>\n",
       "<td>Albania</td>\n",
       "<td>NULL</td>\n",
       "<td>NULL</td>\n",
       "<td>41.1533</td>\n",
       "<td>20.1683</td>\n",
       "<td>2877800</td>\n",
       "</tr>\n",
       "<tr>\n",
       "<td>10</td>\n",
       "<td>Antarctica</td>\n",
       "<td>AQ</td>\n",
       "<td>ATA</td>\n",
       "<td>Antarctica</td>\n",
       "<td>NULL</td>\n",
       "<td>NULL</td>\n",
       "<td>-71.9499</td>\n",
       "<td>23.347</td>\n",
       "<td>NULL</td>\n",
       "</tr>\n",
       "</table>\n",
       "3 rows in set (0.00 sec)"
      ],
      "text/plain": [
       "+-----+--------------+------+------+----------------+----------------+--------+----------+-----------+------------+\n",
       "| UID | Combined_Key | iso2 | iso3 | Country_Region | Province_State | Admin2 | Lat      | Long_     | Population |\n",
       "+-----+--------------+------+------+----------------+----------------+--------+----------+-----------+------------+\n",
       "| 4   | Afghanistan  | AF   | AFG  | Afghanistan    | NULL           | NULL   | 33.93911 | 67.709953 | 38928341   |\n",
       "+-----+--------------+------+------+----------------+----------------+--------+----------+-----------+------------+\n",
       "| 8   | Albania      | AL   | ALB  | Albania        | NULL           | NULL   | 41.1533  | 20.1683   | 2877800    |\n",
       "+-----+--------------+------+------+----------------+----------------+--------+----------+-----------+------------+\n",
       "| 10  | Antarctica   | AQ   | ATA  | Antarctica     | NULL           | NULL   | -71.9499 | 23.347    | NULL       |\n",
       "+-----+--------------+------+------+----------------+----------------+--------+----------+-----------+------------+\n",
       "3 rows in set (0.00 sec)"
      ]
     },
     "execution_count": 15,
     "metadata": {},
     "output_type": "execute_result"
    }
   ],
   "source": [
    "SELECT *\n",
    "  FROM lookup_table\n",
    " WHERE Province_State IS NULL\n",
    " LIMIT 3;"
   ]
  },
  {
   "cell_type": "code",
   "execution_count": 16,
   "metadata": {},
   "outputs": [
    {
     "data": {
      "text/html": [
       "<table>\n",
       "<tr>\n",
       "<th>UID</th>\n",
       "<th>Combined_Key</th>\n",
       "<th>iso2</th>\n",
       "<th>iso3</th>\n",
       "<th>Country_Region</th>\n",
       "<th>Province_State</th>\n",
       "<th>Admin2</th>\n",
       "<th>Lat</th>\n",
       "<th>Long_</th>\n",
       "<th>Population</th>\n",
       "</tr>\n",
       "<tr>\n",
       "<td>16</td>\n",
       "<td>American Samoa, US</td>\n",
       "<td>AS</td>\n",
       "<td>ASM</td>\n",
       "<td>US</td>\n",
       "<td>American Samoa</td>\n",
       "<td>NULL</td>\n",
       "<td>-14.271</td>\n",
       "<td>-170.132</td>\n",
       "<td>55641</td>\n",
       "</tr>\n",
       "<tr>\n",
       "<td>60</td>\n",
       "<td>Bermuda, United Kingdom</td>\n",
       "<td>BM</td>\n",
       "<td>BMU</td>\n",
       "<td>United Kingdom</td>\n",
       "<td>Bermuda</td>\n",
       "<td>NULL</td>\n",
       "<td>32.3078</td>\n",
       "<td>-64.7505</td>\n",
       "<td>62273</td>\n",
       "</tr>\n",
       "<tr>\n",
       "<td>92</td>\n",
       "<td>British Virgin Islands, United Kingdom</td>\n",
       "<td>VG</td>\n",
       "<td>VGB</td>\n",
       "<td>United Kingdom</td>\n",
       "<td>British Virgin Islands</td>\n",
       "<td>NULL</td>\n",
       "<td>18.4207</td>\n",
       "<td>-64.64</td>\n",
       "<td>30237</td>\n",
       "</tr>\n",
       "</table>\n",
       "3 rows in set (0.00 sec)"
      ],
      "text/plain": [
       "+-----+----------------------------------------+------+------+----------------+------------------------+--------+---------+----------+------------+\n",
       "| UID | Combined_Key                           | iso2 | iso3 | Country_Region | Province_State         | Admin2 | Lat     | Long_    | Population |\n",
       "+-----+----------------------------------------+------+------+----------------+------------------------+--------+---------+----------+------------+\n",
       "| 16  | American Samoa, US                     | AS   | ASM  | US             | American Samoa         | NULL   | -14.271 | -170.132 | 55641      |\n",
       "+-----+----------------------------------------+------+------+----------------+------------------------+--------+---------+----------+------------+\n",
       "| 60  | Bermuda, United Kingdom                | BM   | BMU  | United Kingdom | Bermuda                | NULL   | 32.3078 | -64.7505 | 62273      |\n",
       "+-----+----------------------------------------+------+------+----------------+------------------------+--------+---------+----------+------------+\n",
       "| 92  | British Virgin Islands, United Kingdom | VG   | VGB  | United Kingdom | British Virgin Islands | NULL   | 18.4207 | -64.64   | 30237      |\n",
       "+-----+----------------------------------------+------+------+----------------+------------------------+--------+---------+----------+------------+\n",
       "3 rows in set (0.00 sec)"
      ]
     },
     "execution_count": 16,
     "metadata": {},
     "output_type": "execute_result"
    }
   ],
   "source": [
    "SELECT *\n",
    "  FROM lookup_table\n",
    " WHERE Province_State IS NOT NULL\n",
    " LIMIT 3;"
   ]
  },
  {
   "cell_type": "markdown",
   "metadata": {
    "slideshow": {
     "slide_type": "subslide"
    }
   },
   "source": [
    "## Other scalar functions for numerics and texts\n",
    "\n",
    "<https://www.sqlite.org/lang_corefunc.html>"
   ]
  },
  {
   "cell_type": "markdown",
   "metadata": {
    "slideshow": {
     "slide_type": "subslide"
    }
   },
   "source": [
    "## Common scalar functions for date and time functions\n",
    "\n",
    "- `DATE(X)`\n",
    "- `TIME(X)`\n",
    "- `DATETIME(X)`\n",
    "- `STRFTIME(format, X)`\n",
    "\n",
    "Source: <https://www.sqlite.org/lang_datefunc.html>"
   ]
  },
  {
   "cell_type": "code",
   "execution_count": null,
   "metadata": {
    "slideshow": {
     "slide_type": "subslide"
    }
   },
   "outputs": [],
   "source": [
    "SELECT DATE('now') AS date_of_now;"
   ]
  },
  {
   "cell_type": "code",
   "execution_count": null,
   "metadata": {
    "slideshow": {
     "slide_type": "-"
    }
   },
   "outputs": [],
   "source": [
    "SELECT TIME('now', 'localtime') AS time_of_now;"
   ]
  },
  {
   "cell_type": "code",
   "execution_count": null,
   "metadata": {
    "slideshow": {
     "slide_type": "-"
    }
   },
   "outputs": [],
   "source": [
    "SELECT DATETIME('now', 'localtime') AS datetime_of_now;"
   ]
  },
  {
   "cell_type": "markdown",
   "metadata": {
    "slideshow": {
     "slide_type": "subslide"
    }
   },
   "source": [
    "## Common format strings for date/time/datetime\n",
    "\n",
    "- `%d` day of month: 00.\n",
    "- `%H` hour: 00-24.\n",
    "- `%j` day of year: 001-366.\n",
    "- `%m` month: 01-12.\n",
    "- `%M` minute: 00-59.\n",
    "- `%S` seconds: 00-59.\n",
    "- `%w` day of week 0-6 with Sunday==0.\n",
    "- `%W` week of year: 00-53.\n",
    "- `%Y` year: 0000-9999."
   ]
  },
  {
   "cell_type": "code",
   "execution_count": null,
   "metadata": {
    "slideshow": {
     "slide_type": "subslide"
    }
   },
   "outputs": [],
   "source": [
    "SELECT DATE('now') AS date_of_now,\n",
    "       TIME('now', 'localtime') AS time_of_now, \n",
    "       STRFTIME('%d', DATE('now')) AS day_part,\n",
    "       STRFTIME('%H', TIME('now', 'localtime')) AS hour_part,\n",
    "       STRFTIME('%j', DATE('now')) AS year_day,\n",
    "       STRFTIME('%m', DATE('now')) AS month_part,\n",
    "       STRFTIME('%M', TIME('now', 'localtime')) AS minute_part,\n",
    "       STRFTIME('%S', TIME('now', 'localtime')) AS second_part,\n",
    "       STRFTIME('%w', DATE('now')) AS weekday,\n",
    "       STRFTIME('%W', DATE('now')) AS nth_week,\n",
    "       STRFTIME('%Y', DATE('now')) AS year_part;"
   ]
  },
  {
   "cell_type": "markdown",
   "metadata": {
    "slideshow": {
     "slide_type": "subslide"
    }
   },
   "source": [
    "## `CASE` statement is a conditional expression\n",
    "\n",
    "We can add some \"if this, then that...\" logic to a SQL statement.\n",
    "\n",
    "```sql\n",
    "CASE WHEN condition_1 THEN result_1\n",
    "     WHEN condition_2 THEN result_2\n",
    "     ELSE result_else END AS calculated_field_alias\n",
    "```"
   ]
  },
  {
   "cell_type": "markdown",
   "metadata": {
    "slideshow": {
     "slide_type": "subslide"
    }
   },
   "source": [
    "## `CASE` statements can be used to\n",
    "\n",
    "- Turn numeric values into categories.\n",
    "- Turn categories into new categories."
   ]
  },
  {
   "cell_type": "markdown",
   "metadata": {
    "slideshow": {
     "slide_type": "subslide"
    }
   },
   "source": [
    "## Turn numeric values into categories"
   ]
  },
  {
   "cell_type": "code",
   "execution_count": 21,
   "metadata": {},
   "outputs": [
    {
     "data": {
      "text/html": [
       "<table>\n",
       "<tr>\n",
       "<th>Combined_Key</th>\n",
       "<th>ns_hemisphere</th>\n",
       "<th>ew_hemisphere</th>\n",
       "</tr>\n",
       "<tr>\n",
       "<td>Afghanistan</td>\n",
       "<td>Northern Hemisphere</td>\n",
       "<td>Eastern Hemisphere</td>\n",
       "</tr>\n",
       "<tr>\n",
       "<td>Albania</td>\n",
       "<td>Northern Hemisphere</td>\n",
       "<td>Eastern Hemisphere</td>\n",
       "</tr>\n",
       "<tr>\n",
       "<td>Antarctica</td>\n",
       "<td>Southern Hemisphere</td>\n",
       "<td>Eastern Hemisphere</td>\n",
       "</tr>\n",
       "<tr>\n",
       "<td>Algeria</td>\n",
       "<td>Northern Hemisphere</td>\n",
       "<td>Eastern Hemisphere</td>\n",
       "</tr>\n",
       "<tr>\n",
       "<td>American Samoa, US</td>\n",
       "<td>Southern Hemisphere</td>\n",
       "<td>Western Hemisphere</td>\n",
       "</tr>\n",
       "<tr>\n",
       "<td>Andorra</td>\n",
       "<td>Northern Hemisphere</td>\n",
       "<td>Eastern Hemisphere</td>\n",
       "</tr>\n",
       "<tr>\n",
       "<td>Angola</td>\n",
       "<td>Southern Hemisphere</td>\n",
       "<td>Eastern Hemisphere</td>\n",
       "</tr>\n",
       "<tr>\n",
       "<td>Antigua and Barbuda</td>\n",
       "<td>Northern Hemisphere</td>\n",
       "<td>Western Hemisphere</td>\n",
       "</tr>\n",
       "<tr>\n",
       "<td>Azerbaijan</td>\n",
       "<td>Northern Hemisphere</td>\n",
       "<td>Eastern Hemisphere</td>\n",
       "</tr>\n",
       "<tr>\n",
       "<td>Argentina</td>\n",
       "<td>Southern Hemisphere</td>\n",
       "<td>Western Hemisphere</td>\n",
       "</tr>\n",
       "</table>\n",
       "10 rows in set (0.00 sec)"
      ],
      "text/plain": [
       "+---------------------+---------------------+--------------------+\n",
       "| Combined_Key        | ns_hemisphere       | ew_hemisphere      |\n",
       "+---------------------+---------------------+--------------------+\n",
       "| Afghanistan         | Northern Hemisphere | Eastern Hemisphere |\n",
       "+---------------------+---------------------+--------------------+\n",
       "| Albania             | Northern Hemisphere | Eastern Hemisphere |\n",
       "+---------------------+---------------------+--------------------+\n",
       "| Antarctica          | Southern Hemisphere | Eastern Hemisphere |\n",
       "+---------------------+---------------------+--------------------+\n",
       "| Algeria             | Northern Hemisphere | Eastern Hemisphere |\n",
       "+---------------------+---------------------+--------------------+\n",
       "| American Samoa, US  | Southern Hemisphere | Western Hemisphere |\n",
       "+---------------------+---------------------+--------------------+\n",
       "| Andorra             | Northern Hemisphere | Eastern Hemisphere |\n",
       "+---------------------+---------------------+--------------------+\n",
       "| Angola              | Southern Hemisphere | Eastern Hemisphere |\n",
       "+---------------------+---------------------+--------------------+\n",
       "| Antigua and Barbuda | Northern Hemisphere | Western Hemisphere |\n",
       "+---------------------+---------------------+--------------------+\n",
       "| Azerbaijan          | Northern Hemisphere | Eastern Hemisphere |\n",
       "+---------------------+---------------------+--------------------+\n",
       "| Argentina           | Southern Hemisphere | Western Hemisphere |\n",
       "+---------------------+---------------------+--------------------+\n",
       "10 rows in set (0.00 sec)"
      ]
     },
     "execution_count": 21,
     "metadata": {},
     "output_type": "execute_result"
    }
   ],
   "source": [
    "SELECT Combined_Key,\n",
    "       CASE WHEN Lat >= 0 THEN 'Northern Hemisphere'\n",
    "            ELSE 'Southern Hemisphere' END AS ns_hemisphere,\n",
    "       CASE WHEN Long_ >= 0 THEN 'Eastern Hemisphere'\n",
    "            ELSE 'Western Hemisphere' END AS ew_hemisphere\n",
    "  FROM lookup_table\n",
    " LIMIT 10;"
   ]
  },
  {
   "cell_type": "markdown",
   "metadata": {
    "slideshow": {
     "slide_type": "subslide"
    }
   },
   "source": [
    "## Turn categories into new categories"
   ]
  },
  {
   "cell_type": "code",
   "execution_count": 22,
   "metadata": {},
   "outputs": [
    {
     "data": {
      "text/html": [
       "<table>\n",
       "<tr>\n",
       "<th>Combined_Key</th>\n",
       "<th>us_non_us</th>\n",
       "</tr>\n",
       "<tr>\n",
       "<td>Afghanistan</td>\n",
       "<td>Non-US</td>\n",
       "</tr>\n",
       "<tr>\n",
       "<td>Albania</td>\n",
       "<td>Non-US</td>\n",
       "</tr>\n",
       "<tr>\n",
       "<td>Antarctica</td>\n",
       "<td>Non-US</td>\n",
       "</tr>\n",
       "<tr>\n",
       "<td>Algeria</td>\n",
       "<td>Non-US</td>\n",
       "</tr>\n",
       "<tr>\n",
       "<td>American Samoa, US</td>\n",
       "<td>US</td>\n",
       "</tr>\n",
       "<tr>\n",
       "<td>Andorra</td>\n",
       "<td>Non-US</td>\n",
       "</tr>\n",
       "<tr>\n",
       "<td>Angola</td>\n",
       "<td>Non-US</td>\n",
       "</tr>\n",
       "<tr>\n",
       "<td>Antigua and Barbuda</td>\n",
       "<td>Non-US</td>\n",
       "</tr>\n",
       "<tr>\n",
       "<td>Azerbaijan</td>\n",
       "<td>Non-US</td>\n",
       "</tr>\n",
       "<tr>\n",
       "<td>Argentina</td>\n",
       "<td>Non-US</td>\n",
       "</tr>\n",
       "</table>\n",
       "10 rows in set (0.00 sec)"
      ],
      "text/plain": [
       "+---------------------+-----------+\n",
       "| Combined_Key        | us_non_us |\n",
       "+---------------------+-----------+\n",
       "| Afghanistan         | Non-US    |\n",
       "+---------------------+-----------+\n",
       "| Albania             | Non-US    |\n",
       "+---------------------+-----------+\n",
       "| Antarctica          | Non-US    |\n",
       "+---------------------+-----------+\n",
       "| Algeria             | Non-US    |\n",
       "+---------------------+-----------+\n",
       "| American Samoa, US  | US        |\n",
       "+---------------------+-----------+\n",
       "| Andorra             | Non-US    |\n",
       "+---------------------+-----------+\n",
       "| Angola              | Non-US    |\n",
       "+---------------------+-----------+\n",
       "| Antigua and Barbuda | Non-US    |\n",
       "+---------------------+-----------+\n",
       "| Azerbaijan          | Non-US    |\n",
       "+---------------------+-----------+\n",
       "| Argentina           | Non-US    |\n",
       "+---------------------+-----------+\n",
       "10 rows in set (0.00 sec)"
      ]
     },
     "execution_count": 22,
     "metadata": {},
     "output_type": "execute_result"
    }
   ],
   "source": [
    "SELECT Combined_Key,\n",
    "       CASE WHEN Combined_Key LIKE '%, US' THEN 'US'\n",
    "            ELSE 'Non-US' END AS us_non_us\n",
    "  FROM lookup_table\n",
    " LIMIT 10;"
   ]
  },
  {
   "cell_type": "markdown",
   "metadata": {
    "slideshow": {
     "slide_type": "subslide"
    }
   },
   "source": [
    "## We can also roughly divide the SQL functions into 2 sub categories\n",
    "\n",
    "1. Scalar functions.\n",
    "2. Aggregate functions."
   ]
  },
  {
   "cell_type": "markdown",
   "metadata": {
    "slideshow": {
     "slide_type": "subslide"
    }
   },
   "source": [
    "## The difference between these 2 categories\n",
    "\n",
    "The major difference is whether if the rows of output equals to the rows of input."
   ]
  },
  {
   "cell_type": "markdown",
   "metadata": {
    "slideshow": {
     "slide_type": "subslide"
    }
   },
   "source": [
    "## Rows of input `iso3` equals to `LOWER(iso3)`\n",
    "\n",
    "`LOWER()` is a scalar function."
   ]
  },
  {
   "cell_type": "code",
   "execution_count": 23,
   "metadata": {
    "slideshow": {
     "slide_type": "-"
    }
   },
   "outputs": [
    {
     "data": {
      "text/html": [
       "<table>\n",
       "<tr>\n",
       "<th>iso3</th>\n",
       "<th>LOWER(iso3)</th>\n",
       "</tr>\n",
       "<tr>\n",
       "<td>AFG</td>\n",
       "<td>afg</td>\n",
       "</tr>\n",
       "<tr>\n",
       "<td>ALB</td>\n",
       "<td>alb</td>\n",
       "</tr>\n",
       "<tr>\n",
       "<td>ATA</td>\n",
       "<td>ata</td>\n",
       "</tr>\n",
       "<tr>\n",
       "<td>DZA</td>\n",
       "<td>dza</td>\n",
       "</tr>\n",
       "<tr>\n",
       "<td>ASM</td>\n",
       "<td>asm</td>\n",
       "</tr>\n",
       "</table>\n",
       "5 rows in set (0.00 sec)"
      ],
      "text/plain": [
       "+------+-------------+\n",
       "| iso3 | LOWER(iso3) |\n",
       "+------+-------------+\n",
       "| AFG  | afg         |\n",
       "+------+-------------+\n",
       "| ALB  | alb         |\n",
       "+------+-------------+\n",
       "| ATA  | ata         |\n",
       "+------+-------------+\n",
       "| DZA  | dza         |\n",
       "+------+-------------+\n",
       "| ASM  | asm         |\n",
       "+------+-------------+\n",
       "5 rows in set (0.00 sec)"
      ]
     },
     "execution_count": 23,
     "metadata": {},
     "output_type": "execute_result"
    }
   ],
   "source": [
    "SELECT iso3,\n",
    "       LOWER(iso3)\n",
    "  FROM lookup_table\n",
    " LIMIT 5;"
   ]
  },
  {
   "cell_type": "markdown",
   "metadata": {
    "slideshow": {
     "slide_type": "subslide"
    }
   },
   "source": [
    "## Aggregate functions combine values from multiple rows and return a single result based on an operation on those values"
   ]
  },
  {
   "cell_type": "code",
   "execution_count": 24,
   "metadata": {
    "slideshow": {
     "slide_type": "-"
    }
   },
   "outputs": [
    {
     "data": {
      "text/html": [
       "<table>\n",
       "<tr>\n",
       "<th>total_confirmed</th>\n",
       "</tr>\n",
       "<tr>\n",
       "<td>436993162</td>\n",
       "</tr>\n",
       "</table>\n",
       "1 row in set (0.00 sec)"
      ],
      "text/plain": [
       "+-----------------+\n",
       "| total_confirmed |\n",
       "+-----------------+\n",
       "| 436993162       |\n",
       "+-----------------+\n",
       "1 row in set (0.00 sec)"
      ]
     },
     "execution_count": 24,
     "metadata": {},
     "output_type": "execute_result"
    }
   ],
   "source": [
    "SELECT SUM(Confirmed) AS total_confirmed\n",
    "  FROM daily_report;"
   ]
  },
  {
   "cell_type": "markdown",
   "metadata": {
    "slideshow": {
     "slide_type": "subslide"
    }
   },
   "source": [
    "## Common aggregate functions\n",
    "\n",
    "- `AVG(X)`\n",
    "- `COUNT(X)`: the count of the number of times that X is not NULL.\n",
    "- `COUNT(*)`: the total number of rows in the group.\n",
    "- `MAX(X)`\n",
    "- `MIN(X)`\n",
    "- `SUM(X)`\n",
    "\n",
    "Source: <https://www.sqlite.org/lang_aggfunc.html>"
   ]
  },
  {
   "cell_type": "code",
   "execution_count": 25,
   "metadata": {
    "slideshow": {
     "slide_type": "subslide"
    }
   },
   "outputs": [
    {
     "data": {
      "text/html": [
       "<table>\n",
       "<tr>\n",
       "<th>number_of_non_nulls</th>\n",
       "<th>number_of_rows</th>\n",
       "<th>number_of_nulls</th>\n",
       "</tr>\n",
       "<tr>\n",
       "<td>4019</td>\n",
       "<td>4218</td>\n",
       "<td>199</td>\n",
       "</tr>\n",
       "</table>\n",
       "1 row in set (0.00 sec)"
      ],
      "text/plain": [
       "+---------------------+----------------+-----------------+\n",
       "| number_of_non_nulls | number_of_rows | number_of_nulls |\n",
       "+---------------------+----------------+-----------------+\n",
       "| 4019                | 4218           | 199             |\n",
       "+---------------------+----------------+-----------------+\n",
       "1 row in set (0.00 sec)"
      ]
     },
     "execution_count": 25,
     "metadata": {},
     "output_type": "execute_result"
    }
   ],
   "source": [
    "SELECT COUNT(Province_State) AS number_of_non_nulls,\n",
    "       COUNT(*) AS number_of_rows,\n",
    "       COUNT(*) - COUNT(Province_State) AS number_of_nulls\n",
    "  FROM lookup_table;"
   ]
  },
  {
   "cell_type": "markdown",
   "metadata": {
    "slideshow": {
     "slide_type": "subslide"
    }
   },
   "source": [
    "## How to count the number of columns of a table\n",
    "\n",
    "By querying metadata!"
   ]
  },
  {
   "cell_type": "code",
   "execution_count": 26,
   "metadata": {
    "slideshow": {
     "slide_type": "-"
    }
   },
   "outputs": [
    {
     "data": {
      "text/html": [
       "<table>\n",
       "<tr>\n",
       "<th>COUNT(*)</th>\n",
       "</tr>\n",
       "<tr>\n",
       "<td>10</td>\n",
       "</tr>\n",
       "</table>\n",
       "1 row in set (0.00 sec)"
      ],
      "text/plain": [
       "+----------+\n",
       "| COUNT(*) |\n",
       "+----------+\n",
       "| 10       |\n",
       "+----------+\n",
       "1 row in set (0.00 sec)"
      ]
     },
     "execution_count": 26,
     "metadata": {},
     "output_type": "execute_result"
    }
   ],
   "source": [
    "SELECT COUNT(*)\n",
    "  FROM PRAGMA_TABLE_INFO('lookup_table');"
   ]
  },
  {
   "cell_type": "markdown",
   "metadata": {
    "slideshow": {
     "slide_type": "slide"
    }
   },
   "source": [
    "## Aggregating Data with `GROUP BY`"
   ]
  },
  {
   "cell_type": "markdown",
   "metadata": {
    "slideshow": {
     "slide_type": "subslide"
    }
   },
   "source": [
    "## `GROUP BY` keyword\n",
    "\n",
    "`GROUP BY` on its own, eliminates duplicate values from the results, similar to the combination of `DISTINCT` and `ORDER BY`."
   ]
  },
  {
   "cell_type": "code",
   "execution_count": 27,
   "metadata": {
    "slideshow": {
     "slide_type": "-"
    }
   },
   "outputs": [
    {
     "data": {
      "text/html": [
       "<table>\n",
       "<tr>\n",
       "<th>Province_State</th>\n",
       "</tr>\n",
       "<tr>\n",
       "<td>NULL</td>\n",
       "</tr>\n",
       "<tr>\n",
       "<td>Australian Capital Territory</td>\n",
       "</tr>\n",
       "<tr>\n",
       "<td>New South Wales</td>\n",
       "</tr>\n",
       "<tr>\n",
       "<td>Northern Territory</td>\n",
       "</tr>\n",
       "<tr>\n",
       "<td>Queensland</td>\n",
       "</tr>\n",
       "<tr>\n",
       "<td>South Australia</td>\n",
       "</tr>\n",
       "<tr>\n",
       "<td>Tasmania</td>\n",
       "</tr>\n",
       "<tr>\n",
       "<td>Victoria</td>\n",
       "</tr>\n",
       "<tr>\n",
       "<td>Western Australia</td>\n",
       "</tr>\n",
       "</table>\n",
       "9 rows in set (0.00 sec)"
      ],
      "text/plain": [
       "+------------------------------+\n",
       "| Province_State               |\n",
       "+------------------------------+\n",
       "| NULL                         |\n",
       "+------------------------------+\n",
       "| Australian Capital Territory |\n",
       "+------------------------------+\n",
       "| New South Wales              |\n",
       "+------------------------------+\n",
       "| Northern Territory           |\n",
       "+------------------------------+\n",
       "| Queensland                   |\n",
       "+------------------------------+\n",
       "| South Australia              |\n",
       "+------------------------------+\n",
       "| Tasmania                     |\n",
       "+------------------------------+\n",
       "| Victoria                     |\n",
       "+------------------------------+\n",
       "| Western Australia            |\n",
       "+------------------------------+\n",
       "9 rows in set (0.00 sec)"
      ]
     },
     "execution_count": 27,
     "metadata": {},
     "output_type": "execute_result"
    }
   ],
   "source": [
    "SELECT DISTINCT Province_State\n",
    "  FROM lookup_table\n",
    " WHERE Country_Region = 'Australia'\n",
    " ORDER BY Province_State;"
   ]
  },
  {
   "cell_type": "markdown",
   "metadata": {
    "slideshow": {
     "slide_type": "subslide"
    }
   },
   "source": [
    "## `GROUP BY` keyword(Cont'd)"
   ]
  },
  {
   "cell_type": "code",
   "execution_count": 28,
   "metadata": {
    "slideshow": {
     "slide_type": "-"
    }
   },
   "outputs": [
    {
     "data": {
      "text/html": [
       "<table>\n",
       "<tr>\n",
       "<th>Province_State</th>\n",
       "</tr>\n",
       "<tr>\n",
       "<td>NULL</td>\n",
       "</tr>\n",
       "<tr>\n",
       "<td>Australian Capital Territory</td>\n",
       "</tr>\n",
       "<tr>\n",
       "<td>New South Wales</td>\n",
       "</tr>\n",
       "<tr>\n",
       "<td>Northern Territory</td>\n",
       "</tr>\n",
       "<tr>\n",
       "<td>Queensland</td>\n",
       "</tr>\n",
       "<tr>\n",
       "<td>South Australia</td>\n",
       "</tr>\n",
       "<tr>\n",
       "<td>Tasmania</td>\n",
       "</tr>\n",
       "<tr>\n",
       "<td>Victoria</td>\n",
       "</tr>\n",
       "<tr>\n",
       "<td>Western Australia</td>\n",
       "</tr>\n",
       "</table>\n",
       "9 rows in set (0.00 sec)"
      ],
      "text/plain": [
       "+------------------------------+\n",
       "| Province_State               |\n",
       "+------------------------------+\n",
       "| NULL                         |\n",
       "+------------------------------+\n",
       "| Australian Capital Territory |\n",
       "+------------------------------+\n",
       "| New South Wales              |\n",
       "+------------------------------+\n",
       "| Northern Territory           |\n",
       "+------------------------------+\n",
       "| Queensland                   |\n",
       "+------------------------------+\n",
       "| South Australia              |\n",
       "+------------------------------+\n",
       "| Tasmania                     |\n",
       "+------------------------------+\n",
       "| Victoria                     |\n",
       "+------------------------------+\n",
       "| Western Australia            |\n",
       "+------------------------------+\n",
       "9 rows in set (0.00 sec)"
      ]
     },
     "execution_count": 28,
     "metadata": {},
     "output_type": "execute_result"
    }
   ],
   "source": [
    "SELECT Province_State\n",
    "  FROM lookup_table\n",
    " WHERE Country_Region = 'Australia'\n",
    " GROUP BY Province_State;"
   ]
  },
  {
   "cell_type": "markdown",
   "metadata": {
    "slideshow": {
     "slide_type": "subslide"
    }
   },
   "source": [
    "## Using `GROUP BY` with `COUNT(*)`"
   ]
  },
  {
   "cell_type": "code",
   "execution_count": 29,
   "metadata": {
    "slideshow": {
     "slide_type": "-"
    }
   },
   "outputs": [
    {
     "data": {
      "text/html": [
       "<table>\n",
       "<tr>\n",
       "<th>Country_Region</th>\n",
       "<th>number_of_rows</th>\n",
       "</tr>\n",
       "<tr>\n",
       "<td>US</td>\n",
       "<td>3406</td>\n",
       "</tr>\n",
       "<tr>\n",
       "<td>Russia</td>\n",
       "<td>85</td>\n",
       "</tr>\n",
       "<tr>\n",
       "<td>Japan</td>\n",
       "<td>50</td>\n",
       "</tr>\n",
       "<tr>\n",
       "<td>Nigeria</td>\n",
       "<td>39</td>\n",
       "</tr>\n",
       "<tr>\n",
       "<td>India</td>\n",
       "<td>38</td>\n",
       "</tr>\n",
       "</table>\n",
       "5 rows in set (0.00 sec)"
      ],
      "text/plain": [
       "+----------------+----------------+\n",
       "| Country_Region | number_of_rows |\n",
       "+----------------+----------------+\n",
       "| US             | 3406           |\n",
       "+----------------+----------------+\n",
       "| Russia         | 85             |\n",
       "+----------------+----------------+\n",
       "| Japan          | 50             |\n",
       "+----------------+----------------+\n",
       "| Nigeria        | 39             |\n",
       "+----------------+----------------+\n",
       "| India          | 38             |\n",
       "+----------------+----------------+\n",
       "5 rows in set (0.00 sec)"
      ]
     },
     "execution_count": 29,
     "metadata": {},
     "output_type": "execute_result"
    }
   ],
   "source": [
    "SELECT Country_Region,\n",
    "       COUNT(*) AS number_of_rows\n",
    "  FROM lookup_table\n",
    " GROUP BY Country_Region\n",
    " ORDER BY number_of_rows DESC\n",
    " LIMIT 5;"
   ]
  },
  {
   "cell_type": "markdown",
   "metadata": {
    "slideshow": {
     "slide_type": "subslide"
    }
   },
   "source": [
    "## Using `GROUP BY` with `SUM()`"
   ]
  },
  {
   "cell_type": "code",
   "execution_count": 30,
   "metadata": {
    "slideshow": {
     "slide_type": "-"
    }
   },
   "outputs": [
    {
     "data": {
      "text/html": [
       "<table>\n",
       "<tr>\n",
       "<th>Country_Region</th>\n",
       "<th>sum_confirmed</th>\n",
       "</tr>\n",
       "<tr>\n",
       "<td>Afghanistan</td>\n",
       "<td>173659</td>\n",
       "</tr>\n",
       "<tr>\n",
       "<td>Albania</td>\n",
       "<td>271563</td>\n",
       "</tr>\n",
       "<tr>\n",
       "<td>Algeria</td>\n",
       "<td>264936</td>\n",
       "</tr>\n",
       "<tr>\n",
       "<td>Andorra</td>\n",
       "<td>37999</td>\n",
       "</tr>\n",
       "<tr>\n",
       "<td>Angola</td>\n",
       "<td>98741</td>\n",
       "</tr>\n",
       "</table>\n",
       "5 rows in set (0.00 sec)"
      ],
      "text/plain": [
       "+----------------+---------------+\n",
       "| Country_Region | sum_confirmed |\n",
       "+----------------+---------------+\n",
       "| Afghanistan    | 173659        |\n",
       "+----------------+---------------+\n",
       "| Albania        | 271563        |\n",
       "+----------------+---------------+\n",
       "| Algeria        | 264936        |\n",
       "+----------------+---------------+\n",
       "| Andorra        | 37999         |\n",
       "+----------------+---------------+\n",
       "| Angola         | 98741         |\n",
       "+----------------+---------------+\n",
       "5 rows in set (0.00 sec)"
      ]
     },
     "execution_count": 30,
     "metadata": {},
     "output_type": "execute_result"
    }
   ],
   "source": [
    "SELECT Country_Region,\n",
    "       SUM(Confirmed) AS sum_confirmed\n",
    "  FROM time_series\n",
    " WHERE Date = '2022-02-28'\n",
    " GROUP BY Country_Region\n",
    " LIMIT 5;"
   ]
  },
  {
   "cell_type": "markdown",
   "metadata": {
    "slideshow": {
     "slide_type": "subslide"
    }
   },
   "source": [
    "## Filtering an aggregate query using `HAVING`\n",
    "\n",
    "We are already familiar with using `WHERE` for filtering, but aggregate functions cannot be used in a `WHERE` statement because they operate at the row level, and aggregate functions work across rows."
   ]
  },
  {
   "cell_type": "markdown",
   "metadata": {
    "slideshow": {
     "slide_type": "subslide"
    }
   },
   "source": [
    "## Combining `GROUP BY`, `COUNT(*)`, and `HAVING`"
   ]
  },
  {
   "cell_type": "code",
   "execution_count": 31,
   "metadata": {},
   "outputs": [
    {
     "data": {
      "text/html": [
       "<table>\n",
       "<tr>\n",
       "<th>Country_Region</th>\n",
       "<th>number_of_rows</th>\n",
       "</tr>\n",
       "<tr>\n",
       "<td>Afghanistan</td>\n",
       "<td>1</td>\n",
       "</tr>\n",
       "<tr>\n",
       "<td>Albania</td>\n",
       "<td>1</td>\n",
       "</tr>\n",
       "<tr>\n",
       "<td>Algeria</td>\n",
       "<td>1</td>\n",
       "</tr>\n",
       "<tr>\n",
       "<td>Andorra</td>\n",
       "<td>1</td>\n",
       "</tr>\n",
       "<tr>\n",
       "<td>Angola</td>\n",
       "<td>1</td>\n",
       "</tr>\n",
       "</table>\n",
       "5 rows in set (0.00 sec)"
      ],
      "text/plain": [
       "+----------------+----------------+\n",
       "| Country_Region | number_of_rows |\n",
       "+----------------+----------------+\n",
       "| Afghanistan    | 1              |\n",
       "+----------------+----------------+\n",
       "| Albania        | 1              |\n",
       "+----------------+----------------+\n",
       "| Algeria        | 1              |\n",
       "+----------------+----------------+\n",
       "| Andorra        | 1              |\n",
       "+----------------+----------------+\n",
       "| Angola         | 1              |\n",
       "+----------------+----------------+\n",
       "5 rows in set (0.00 sec)"
      ]
     },
     "execution_count": 31,
     "metadata": {},
     "output_type": "execute_result"
    }
   ],
   "source": [
    "SELECT Country_Region,\n",
    "       COUNT(*) AS number_of_rows\n",
    "  FROM lookup_table\n",
    " GROUP BY Country_Region\n",
    "HAVING number_of_rows == 1\n",
    " LIMIT 5;"
   ]
  },
  {
   "cell_type": "markdown",
   "metadata": {
    "slideshow": {
     "slide_type": "subslide"
    }
   },
   "source": [
    "## Combining `GROUP BY`, `SUM()`, and `HAVING`"
   ]
  },
  {
   "cell_type": "code",
   "execution_count": 32,
   "metadata": {
    "slideshow": {
     "slide_type": "-"
    }
   },
   "outputs": [
    {
     "data": {
      "text/html": [
       "<table>\n",
       "<tr>\n",
       "<th>Country_Region</th>\n",
       "<th>sum_confirmed</th>\n",
       "</tr>\n",
       "<tr>\n",
       "<td>Brazil</td>\n",
       "<td>28796571</td>\n",
       "</tr>\n",
       "<tr>\n",
       "<td>France</td>\n",
       "<td>22877926</td>\n",
       "</tr>\n",
       "<tr>\n",
       "<td>Germany</td>\n",
       "<td>14912626</td>\n",
       "</tr>\n",
       "<tr>\n",
       "<td>India</td>\n",
       "<td>42931045</td>\n",
       "</tr>\n",
       "<tr>\n",
       "<td>Italy</td>\n",
       "<td>12782836</td>\n",
       "</tr>\n",
       "<tr>\n",
       "<td>Russia</td>\n",
       "<td>16161596</td>\n",
       "</tr>\n",
       "<tr>\n",
       "<td>Spain</td>\n",
       "<td>10977524</td>\n",
       "</tr>\n",
       "<tr>\n",
       "<td>Turkey</td>\n",
       "<td>14089456</td>\n",
       "</tr>\n",
       "<tr>\n",
       "<td>US</td>\n",
       "<td>79044330</td>\n",
       "</tr>\n",
       "<tr>\n",
       "<td>United Kingdom</td>\n",
       "<td>19021076</td>\n",
       "</tr>\n",
       "</table>\n",
       "10 rows in set (0.00 sec)"
      ],
      "text/plain": [
       "+----------------+---------------+\n",
       "| Country_Region | sum_confirmed |\n",
       "+----------------+---------------+\n",
       "| Brazil         | 28796571      |\n",
       "+----------------+---------------+\n",
       "| France         | 22877926      |\n",
       "+----------------+---------------+\n",
       "| Germany        | 14912626      |\n",
       "+----------------+---------------+\n",
       "| India          | 42931045      |\n",
       "+----------------+---------------+\n",
       "| Italy          | 12782836      |\n",
       "+----------------+---------------+\n",
       "| Russia         | 16161596      |\n",
       "+----------------+---------------+\n",
       "| Spain          | 10977524      |\n",
       "+----------------+---------------+\n",
       "| Turkey         | 14089456      |\n",
       "+----------------+---------------+\n",
       "| US             | 79044330      |\n",
       "+----------------+---------------+\n",
       "| United Kingdom | 19021076      |\n",
       "+----------------+---------------+\n",
       "10 rows in set (0.00 sec)"
      ]
     },
     "execution_count": 32,
     "metadata": {},
     "output_type": "execute_result"
    }
   ],
   "source": [
    "SELECT Country_Region,\n",
    "       SUM(Confirmed) AS sum_confirmed\n",
    "  FROM time_series\n",
    " WHERE Date = '2022-02-28'\n",
    " GROUP BY Country_Region\n",
    "HAVING sum_confirmed > 10000000;"
   ]
  },
  {
   "cell_type": "markdown",
   "metadata": {
    "slideshow": {
     "slide_type": "slide"
    }
   },
   "source": [
    "## Sub-queries"
   ]
  },
  {
   "cell_type": "markdown",
   "metadata": {
    "slideshow": {
     "slide_type": "subslide"
    }
   },
   "source": [
    "## What is a sub-query?\n",
    "\n",
    "A sub-query is nested inside another query, we just enclose the sub-query in parentheses and use it where needed."
   ]
  },
  {
   "cell_type": "markdown",
   "metadata": {
    "slideshow": {
     "slide_type": "subslide"
    }
   },
   "source": [
    "## Useful sub-query skills\n",
    "\n",
    "- Filtering with sub-queries in a `WHERE` statement.\n",
    "- Creating a calculated field with sub-queries in a `SELECT` statement.\n",
    "- Looking up columns of other tables with sub-queries in a `FROM` statement."
   ]
  },
  {
   "cell_type": "markdown",
   "metadata": {
    "slideshow": {
     "slide_type": "subslide"
    }
   },
   "source": [
    "## Filtering with sub-queries in a `WHERE` statement\n",
    "\n",
    "Which `Country_Region` has the largest `Daily_Cases` in `time_series`?"
   ]
  },
  {
   "cell_type": "markdown",
   "metadata": {
    "slideshow": {
     "slide_type": "subslide"
    }
   },
   "source": [
    "## Which `Country_Region` has the largest `Daily_Cases` in `time_series`\n",
    "\n",
    "- First query for the largest `Daily_Cases`.\n",
    "- Second query for the `Country_Region`."
   ]
  },
  {
   "cell_type": "code",
   "execution_count": 33,
   "metadata": {},
   "outputs": [
    {
     "data": {
      "text/html": [
       "<table>\n",
       "<tr>\n",
       "<th>max_daily_cases</th>\n",
       "</tr>\n",
       "<tr>\n",
       "<td>1368167</td>\n",
       "</tr>\n",
       "</table>\n",
       "1 row in set (0.24 sec)"
      ],
      "text/plain": [
       "+-----------------+\n",
       "| max_daily_cases |\n",
       "+-----------------+\n",
       "| 1368167         |\n",
       "+-----------------+\n",
       "1 row in set (0.24 sec)"
      ]
     },
     "execution_count": 33,
     "metadata": {},
     "output_type": "execute_result"
    }
   ],
   "source": [
    "SELECT MAX(Daily_Cases) AS max_daily_cases\n",
    "  FROM time_series;"
   ]
  },
  {
   "cell_type": "code",
   "execution_count": 34,
   "metadata": {},
   "outputs": [
    {
     "data": {
      "text/html": [
       "<table>\n",
       "<tr>\n",
       "<th>Country_Region</th>\n",
       "<th>Date</th>\n",
       "</tr>\n",
       "<tr>\n",
       "<td>US</td>\n",
       "<td>2022-01-10</td>\n",
       "</tr>\n",
       "</table>\n",
       "1 row in set (0.03 sec)"
      ],
      "text/plain": [
       "+----------------+------------+\n",
       "| Country_Region | Date       |\n",
       "+----------------+------------+\n",
       "| US             | 2022-01-10 |\n",
       "+----------------+------------+\n",
       "1 row in set (0.03 sec)"
      ]
     },
     "execution_count": 34,
     "metadata": {},
     "output_type": "execute_result"
    }
   ],
   "source": [
    "SELECT Country_Region,\n",
    "       Date\n",
    "  FROM time_series\n",
    " WHERE Daily_Cases = 1368167;"
   ]
  },
  {
   "cell_type": "markdown",
   "metadata": {
    "slideshow": {
     "slide_type": "subslide"
    }
   },
   "source": [
    "## Which `Country_Region` has the largest `Daily_Cases` in `time_series`(Cont'd)\n",
    "\n",
    "Sub-query: combining 2 queries into one."
   ]
  },
  {
   "cell_type": "code",
   "execution_count": 35,
   "metadata": {},
   "outputs": [
    {
     "data": {
      "text/html": [
       "<table>\n",
       "<tr>\n",
       "<th>Country_Region</th>\n",
       "<th>Date</th>\n",
       "</tr>\n",
       "<tr>\n",
       "<td>US</td>\n",
       "<td>2022-01-10</td>\n",
       "</tr>\n",
       "</table>\n",
       "1 row in set (0.07 sec)"
      ],
      "text/plain": [
       "+----------------+------------+\n",
       "| Country_Region | Date       |\n",
       "+----------------+------------+\n",
       "| US             | 2022-01-10 |\n",
       "+----------------+------------+\n",
       "1 row in set (0.07 sec)"
      ]
     },
     "execution_count": 35,
     "metadata": {},
     "output_type": "execute_result"
    }
   ],
   "source": [
    "SELECT Country_Region,\n",
    "       Date\n",
    "  FROM time_series\n",
    " WHERE Daily_Cases = (\n",
    "                         SELECT MAX(Daily_Cases) AS max_daily_cases\n",
    "                           FROM time_series\n",
    "                     );"
   ]
  },
  {
   "cell_type": "markdown",
   "metadata": {
    "slideshow": {
     "slide_type": "subslide"
    }
   },
   "source": [
    "## Creating a calculated field with sub-queries in a `SELECT` statement\n",
    "\n",
    "Decomposing `Country_Region` in `lookup_table`."
   ]
  },
  {
   "cell_type": "markdown",
   "metadata": {
    "slideshow": {
     "slide_type": "subslide"
    }
   },
   "source": [
    "## Decomposing `Country_Region` in `lookup_table`\n",
    "\n",
    "- First query for the number of rows(denominator).\n",
    "- Second query for the number of rows by `Country_Region`(numerator)."
   ]
  },
  {
   "cell_type": "code",
   "execution_count": 36,
   "metadata": {},
   "outputs": [
    {
     "data": {
      "text/html": [
       "<table>\n",
       "<tr>\n",
       "<th>number_of_rows</th>\n",
       "</tr>\n",
       "<tr>\n",
       "<td>4218</td>\n",
       "</tr>\n",
       "</table>\n",
       "1 row in set (0.00 sec)"
      ],
      "text/plain": [
       "+----------------+\n",
       "| number_of_rows |\n",
       "+----------------+\n",
       "| 4218           |\n",
       "+----------------+\n",
       "1 row in set (0.00 sec)"
      ]
     },
     "execution_count": 36,
     "metadata": {},
     "output_type": "execute_result"
    }
   ],
   "source": [
    "SELECT COUNT(*) AS number_of_rows\n",
    "  FROM lookup_table;"
   ]
  },
  {
   "cell_type": "code",
   "execution_count": 37,
   "metadata": {},
   "outputs": [
    {
     "data": {
      "text/html": [
       "<table>\n",
       "<tr>\n",
       "<th>Country_Region</th>\n",
       "<th>country_region_composition</th>\n",
       "</tr>\n",
       "<tr>\n",
       "<td>US</td>\n",
       "<td>0.807491702228544</td>\n",
       "</tr>\n",
       "<tr>\n",
       "<td>Russia</td>\n",
       "<td>0.0201517306780465</td>\n",
       "</tr>\n",
       "<tr>\n",
       "<td>Japan</td>\n",
       "<td>0.0118539592223803</td>\n",
       "</tr>\n",
       "<tr>\n",
       "<td>Nigeria</td>\n",
       "<td>0.00924608819345661</td>\n",
       "</tr>\n",
       "<tr>\n",
       "<td>India</td>\n",
       "<td>0.00900900900900901</td>\n",
       "</tr>\n",
       "</table>\n",
       "5 rows in set (0.01 sec)"
      ],
      "text/plain": [
       "+----------------+----------------------------+\n",
       "| Country_Region | country_region_composition |\n",
       "+----------------+----------------------------+\n",
       "| US             | 0.807491702228544          |\n",
       "+----------------+----------------------------+\n",
       "| Russia         | 0.0201517306780465         |\n",
       "+----------------+----------------------------+\n",
       "| Japan          | 0.0118539592223803         |\n",
       "+----------------+----------------------------+\n",
       "| Nigeria        | 0.00924608819345661        |\n",
       "+----------------+----------------------------+\n",
       "| India          | 0.00900900900900901        |\n",
       "+----------------+----------------------------+\n",
       "5 rows in set (0.01 sec)"
      ]
     },
     "execution_count": 37,
     "metadata": {},
     "output_type": "execute_result"
    }
   ],
   "source": [
    "SELECT Country_Region,\n",
    "       COUNT(*) / 4218.0 AS country_region_composition\n",
    "  FROM lookup_table\n",
    " GROUP BY Country_Region\n",
    " ORDER BY country_region_composition DESC\n",
    " LIMIT 5;"
   ]
  },
  {
   "cell_type": "code",
   "execution_count": 38,
   "metadata": {
    "slideshow": {
     "slide_type": "subslide"
    }
   },
   "outputs": [
    {
     "data": {
      "text/html": [
       "<table>\n",
       "<tr>\n",
       "<th>Country_Region</th>\n",
       "<th>country_region_composition</th>\n",
       "</tr>\n",
       "<tr>\n",
       "<td>Zimbabwe</td>\n",
       "<td>0</td>\n",
       "</tr>\n",
       "<tr>\n",
       "<td>Zambia</td>\n",
       "<td>0</td>\n",
       "</tr>\n",
       "<tr>\n",
       "<td>Yemen</td>\n",
       "<td>0</td>\n",
       "</tr>\n",
       "<tr>\n",
       "<td>Winter Olympics 2022</td>\n",
       "<td>0</td>\n",
       "</tr>\n",
       "<tr>\n",
       "<td>Western Sahara</td>\n",
       "<td>0</td>\n",
       "</tr>\n",
       "</table>\n",
       "5 rows in set (0.00 sec)"
      ],
      "text/plain": [
       "+----------------------+----------------------------+\n",
       "| Country_Region       | country_region_composition |\n",
       "+----------------------+----------------------------+\n",
       "| Zimbabwe             | 0                          |\n",
       "+----------------------+----------------------------+\n",
       "| Zambia               | 0                          |\n",
       "+----------------------+----------------------------+\n",
       "| Yemen                | 0                          |\n",
       "+----------------------+----------------------------+\n",
       "| Winter Olympics 2022 | 0                          |\n",
       "+----------------------+----------------------------+\n",
       "| Western Sahara       | 0                          |\n",
       "+----------------------+----------------------------+\n",
       "5 rows in set (0.00 sec)"
      ]
     },
     "execution_count": 38,
     "metadata": {},
     "output_type": "execute_result"
    }
   ],
   "source": [
    "SELECT Country_Region,\n",
    "       COUNT(*) / (\n",
    "                       SELECT COUNT(*) AS number_of_rows\n",
    "                         FROM lookup_table\n",
    "                  )\n",
    "       AS country_region_composition\n",
    "  FROM lookup_table\n",
    " GROUP BY Country_Region\n",
    " ORDER BY country_region_composition DESC\n",
    " LIMIT 5;"
   ]
  },
  {
   "cell_type": "markdown",
   "metadata": {
    "slideshow": {
     "slide_type": "subslide"
    }
   },
   "source": [
    "## Looking up columns of other tables with sub-queries in a `FROM` statement\n",
    "\n",
    "Filtering Northern hemisphere observations in `daily_report`."
   ]
  },
  {
   "cell_type": "markdown",
   "metadata": {
    "slideshow": {
     "slide_type": "subslide"
    }
   },
   "source": [
    "## Filtering Northeast hemisphere observations in `daily_report`\n",
    "\n",
    "- First query for `Combined_Keys` of Northern hemisphere.\n",
    "- Second query for filtering `daily_report`."
   ]
  },
  {
   "cell_type": "code",
   "execution_count": 39,
   "metadata": {},
   "outputs": [
    {
     "data": {
      "text/html": [
       "<table>\n",
       "<tr>\n",
       "<th>Combined_Key</th>\n",
       "<th>Last_Update</th>\n",
       "<th>Confirmed</th>\n",
       "<th>Deaths</th>\n",
       "</tr>\n",
       "<tr>\n",
       "<td>Abbeville, South Carolina, US</td>\n",
       "<td>2022-03-01 04:21:09</td>\n",
       "<td>6612</td>\n",
       "<td>68</td>\n",
       "</tr>\n",
       "<tr>\n",
       "<td>Abruzzo, Italy</td>\n",
       "<td>2022-03-01 04:21:09</td>\n",
       "<td>263351</td>\n",
       "<td>2958</td>\n",
       "</tr>\n",
       "<tr>\n",
       "<td>Acadia, Louisiana, US</td>\n",
       "<td>2022-03-01 04:21:09</td>\n",
       "<td>14964</td>\n",
       "<td>286</td>\n",
       "</tr>\n",
       "<tr>\n",
       "<td>Accomack, Virginia, US</td>\n",
       "<td>2022-03-01 04:21:09</td>\n",
       "<td>6902</td>\n",
       "<td>103</td>\n",
       "</tr>\n",
       "<tr>\n",
       "<td>Ada, Idaho, US</td>\n",
       "<td>2022-03-01 04:21:09</td>\n",
       "<td>127102</td>\n",
       "<td>989</td>\n",
       "</tr>\n",
       "</table>\n",
       "5 rows in set (0.01 sec)"
      ],
      "text/plain": [
       "+-------------------------------+---------------------+-----------+--------+\n",
       "| Combined_Key                  | Last_Update         | Confirmed | Deaths |\n",
       "+-------------------------------+---------------------+-----------+--------+\n",
       "| Abbeville, South Carolina, US | 2022-03-01 04:21:09 | 6612      | 68     |\n",
       "+-------------------------------+---------------------+-----------+--------+\n",
       "| Abruzzo, Italy                | 2022-03-01 04:21:09 | 263351    | 2958   |\n",
       "+-------------------------------+---------------------+-----------+--------+\n",
       "| Acadia, Louisiana, US         | 2022-03-01 04:21:09 | 14964     | 286    |\n",
       "+-------------------------------+---------------------+-----------+--------+\n",
       "| Accomack, Virginia, US        | 2022-03-01 04:21:09 | 6902      | 103    |\n",
       "+-------------------------------+---------------------+-----------+--------+\n",
       "| Ada, Idaho, US                | 2022-03-01 04:21:09 | 127102    | 989    |\n",
       "+-------------------------------+---------------------+-----------+--------+\n",
       "5 rows in set (0.01 sec)"
      ]
     },
     "execution_count": 39,
     "metadata": {},
     "output_type": "execute_result"
    }
   ],
   "source": [
    "SELECT *\n",
    "  FROM daily_report\n",
    " WHERE Combined_Key IN (\n",
    "           SELECT Combined_Key\n",
    "             FROM lookup_table\n",
    "            WHERE Lat >= 0\n",
    "       )\n",
    " LIMIT 5;"
   ]
  },
  {
   "cell_type": "markdown",
   "metadata": {
    "slideshow": {
     "slide_type": "slide"
    }
   },
   "source": [
    "## Joining Tables"
   ]
  },
  {
   "cell_type": "markdown",
   "metadata": {
    "slideshow": {
     "slide_type": "subslide"
    }
   },
   "source": [
    "## (Recap) What is a relational database\n",
    "\n",
    "> A relational database is a digital database based on the relational model of data.\n",
    "\n",
    "Source: <https://en.wikipedia.org/wiki/Relational_database>"
   ]
  },
  {
   "cell_type": "markdown",
   "metadata": {
    "slideshow": {
     "slide_type": "subslide"
    }
   },
   "source": [
    "## Why relational model\n",
    "\n",
    "Using the relational model, we can build tables that eliminate duplicate data, are easier to maintain, and provide for increased flexibility in writing queries to get just the data we want."
   ]
  },
  {
   "cell_type": "markdown",
   "metadata": {
    "slideshow": {
     "slide_type": "subslide"
    }
   },
   "source": [
    "## Joining tables using `JOIN...ON...` statement\n",
    "\n",
    "The query examines both tables and then returns columns from both tables where the values match in the columns specified in the `ON` statement.\n",
    "\n",
    "```sql\n",
    "SELECT left_table.columns,\n",
    "       right_table.columns\n",
    "  FROM left_table \n",
    "  JOIN right_table\n",
    "    ON left_table.join_key = right_table.join_key\n",
    "```"
   ]
  },
  {
   "cell_type": "markdown",
   "metadata": {
    "slideshow": {
     "slide_type": "subslide"
    }
   },
   "source": [
    "## Joining `daily_report` with `lookup_table`\n",
    "\n",
    "```sql\n",
    "SELECT daily_report.columns,\n",
    "       lookup_table.columns\n",
    "  FROM daily_report\n",
    "  JOIN lookup_table\n",
    "    ON daily_report.Combined_Key = lookup_table.Combined_Key;\n",
    "```"
   ]
  },
  {
   "cell_type": "code",
   "execution_count": 40,
   "metadata": {
    "slideshow": {
     "slide_type": "subslide"
    }
   },
   "outputs": [
    {
     "data": {
      "text/html": [
       "<table>\n",
       "<tr>\n",
       "<th>Country_Region</th>\n",
       "<th>sum_confirmed</th>\n",
       "</tr>\n",
       "<tr>\n",
       "<td>Afghanistan</td>\n",
       "<td>173659</td>\n",
       "</tr>\n",
       "<tr>\n",
       "<td>Albania</td>\n",
       "<td>271563</td>\n",
       "</tr>\n",
       "<tr>\n",
       "<td>Algeria</td>\n",
       "<td>264936</td>\n",
       "</tr>\n",
       "<tr>\n",
       "<td>Andorra</td>\n",
       "<td>37999</td>\n",
       "</tr>\n",
       "<tr>\n",
       "<td>Angola</td>\n",
       "<td>98741</td>\n",
       "</tr>\n",
       "</table>\n",
       "5 rows in set (0.01 sec)"
      ],
      "text/plain": [
       "+----------------+---------------+\n",
       "| Country_Region | sum_confirmed |\n",
       "+----------------+---------------+\n",
       "| Afghanistan    | 173659        |\n",
       "+----------------+---------------+\n",
       "| Albania        | 271563        |\n",
       "+----------------+---------------+\n",
       "| Algeria        | 264936        |\n",
       "+----------------+---------------+\n",
       "| Andorra        | 37999         |\n",
       "+----------------+---------------+\n",
       "| Angola         | 98741         |\n",
       "+----------------+---------------+\n",
       "5 rows in set (0.01 sec)"
      ]
     },
     "execution_count": 40,
     "metadata": {},
     "output_type": "execute_result"
    }
   ],
   "source": [
    "SELECT lookup_table.Country_Region,\n",
    "       SUM(daily_report.Confirmed) AS sum_confirmed\n",
    "  FROM daily_report\n",
    "  JOIN lookup_table\n",
    "    ON daily_report.Combined_Key = lookup_table.Combined_Key\n",
    " GROUP BY lookup_table.Country_Region\n",
    " LIMIT 5;"
   ]
  },
  {
   "cell_type": "markdown",
   "metadata": {
    "slideshow": {
     "slide_type": "subslide"
    }
   },
   "source": [
    "## Joining tables with key columns: Primary key\n",
    "\n",
    "One or more columns whose values uniquely identify each row in a table.\n",
    "\n",
    "1. Each column in the key must have a unique value for each row.\n",
    "2. No column in the key can have missing values."
   ]
  },
  {
   "cell_type": "markdown",
   "metadata": {
    "slideshow": {
     "slide_type": "subslide"
    }
   },
   "source": [
    "## Joining tables with key columns: Foreign key\n",
    "\n",
    "One or more columns in a table that match the primary key of another table. Foreign key ensures that we don't end up with rows in one table that have no relation to rows in the other tables we can join them to."
   ]
  },
  {
   "cell_type": "markdown",
   "metadata": {
    "slideshow": {
     "slide_type": "subslide"
    }
   },
   "source": [
    "## We can examine key columns via metadata"
   ]
  },
  {
   "cell_type": "code",
   "execution_count": 41,
   "metadata": {},
   "outputs": [
    {
     "data": {
      "text/html": [
       "<table>\n",
       "<tr>\n",
       "<th>cid</th>\n",
       "<th>name</th>\n",
       "<th>type</th>\n",
       "<th>notnull</th>\n",
       "<th>dflt_value</th>\n",
       "<th>pk</th>\n",
       "</tr>\n",
       "<tr>\n",
       "<td>0</td>\n",
       "<td>Combined_Key</td>\n",
       "<td>TEXT</td>\n",
       "<td>0</td>\n",
       "<td>NULL</td>\n",
       "<td>1</td>\n",
       "</tr>\n",
       "</table>\n",
       "1 row in set (0.00 sec)"
      ],
      "text/plain": [
       "+-----+--------------+------+---------+------------+----+\n",
       "| cid | name         | type | notnull | dflt_value | pk |\n",
       "+-----+--------------+------+---------+------------+----+\n",
       "| 0   | Combined_Key | TEXT | 0       | NULL       | 1  |\n",
       "+-----+--------------+------+---------+------------+----+\n",
       "1 row in set (0.00 sec)"
      ]
     },
     "execution_count": 41,
     "metadata": {},
     "output_type": "execute_result"
    }
   ],
   "source": [
    "SELECT *\n",
    "  FROM PRAGMA_TABLE_INFO('daily_report')\n",
    " WHERE pk >= 1;"
   ]
  },
  {
   "cell_type": "code",
   "execution_count": 42,
   "metadata": {},
   "outputs": [
    {
     "data": {
      "text/html": [
       "<table>\n",
       "<tr>\n",
       "<th>cid</th>\n",
       "<th>name</th>\n",
       "<th>type</th>\n",
       "<th>notnull</th>\n",
       "<th>dflt_value</th>\n",
       "<th>pk</th>\n",
       "</tr>\n",
       "<tr>\n",
       "<td>0</td>\n",
       "<td>UID</td>\n",
       "<td>INTEGER</td>\n",
       "<td>0</td>\n",
       "<td>NULL</td>\n",
       "<td>1</td>\n",
       "</tr>\n",
       "</table>\n",
       "1 row in set (0.00 sec)"
      ],
      "text/plain": [
       "+-----+------+---------+---------+------------+----+\n",
       "| cid | name | type    | notnull | dflt_value | pk |\n",
       "+-----+------+---------+---------+------------+----+\n",
       "| 0   | UID  | INTEGER | 0       | NULL       | 1  |\n",
       "+-----+------+---------+---------+------------+----+\n",
       "1 row in set (0.00 sec)"
      ]
     },
     "execution_count": 42,
     "metadata": {},
     "output_type": "execute_result"
    }
   ],
   "source": [
    "SELECT *\n",
    "  FROM PRAGMA_TABLE_INFO('lookup_table')\n",
    " WHERE pk >= 1;"
   ]
  },
  {
   "cell_type": "code",
   "execution_count": 43,
   "metadata": {},
   "outputs": [
    {
     "data": {
      "text/html": [
       "<table>\n",
       "<tr>\n",
       "<th>cid</th>\n",
       "<th>name</th>\n",
       "<th>type</th>\n",
       "<th>notnull</th>\n",
       "<th>dflt_value</th>\n",
       "<th>pk</th>\n",
       "</tr>\n",
       "<tr>\n",
       "<td>0</td>\n",
       "<td>Date</td>\n",
       "<td>TEXT</td>\n",
       "<td>0</td>\n",
       "<td>NULL</td>\n",
       "<td>1</td>\n",
       "</tr>\n",
       "<tr>\n",
       "<td>1</td>\n",
       "<td>Country_Region</td>\n",
       "<td>TEXT</td>\n",
       "<td>0</td>\n",
       "<td>NULL</td>\n",
       "<td>2</td>\n",
       "</tr>\n",
       "</table>\n",
       "2 rows in set (0.00 sec)"
      ],
      "text/plain": [
       "+-----+----------------+------+---------+------------+----+\n",
       "| cid | name           | type | notnull | dflt_value | pk |\n",
       "+-----+----------------+------+---------+------------+----+\n",
       "| 0   | Date           | TEXT | 0       | NULL       | 1  |\n",
       "+-----+----------------+------+---------+------------+----+\n",
       "| 1   | Country_Region | TEXT | 0       | NULL       | 2  |\n",
       "+-----+----------------+------+---------+------------+----+\n",
       "2 rows in set (0.00 sec)"
      ]
     },
     "execution_count": 43,
     "metadata": {},
     "output_type": "execute_result"
    }
   ],
   "source": [
    "SELECT *\n",
    "  FROM PRAGMA_TABLE_INFO('time_series')\n",
    " WHERE pk >= 1;"
   ]
  },
  {
   "cell_type": "markdown",
   "metadata": {
    "slideshow": {
     "slide_type": "subslide"
    }
   },
   "source": [
    "## `JOIN` returns rows from the left and the right table where matching values are found"
   ]
  },
  {
   "cell_type": "code",
   "execution_count": 44,
   "metadata": {},
   "outputs": [
    {
     "data": {
      "text/html": [
       "<table>\n",
       "<tr>\n",
       "<th>Combined_Key</th>\n",
       "<th>Confirmed</th>\n",
       "<th>Population</th>\n",
       "</tr>\n",
       "<tr>\n",
       "<td>Taiwan</td>\n",
       "<td>20489</td>\n",
       "<td>23816775</td>\n",
       "</tr>\n",
       "</table>\n",
       "1 row in set (0.00 sec)"
      ],
      "text/plain": [
       "+--------------+-----------+------------+\n",
       "| Combined_Key | Confirmed | Population |\n",
       "+--------------+-----------+------------+\n",
       "| Taiwan       | 20489     | 23816775   |\n",
       "+--------------+-----------+------------+\n",
       "1 row in set (0.00 sec)"
      ]
     },
     "execution_count": 44,
     "metadata": {},
     "output_type": "execute_result"
    }
   ],
   "source": [
    "SELECT tw_kr.Combined_Key,\n",
    "       tw_kr.Confirmed,\n",
    "       tw_sg.Population\n",
    "  FROM (\n",
    "           SELECT *\n",
    "             FROM daily_report\n",
    "            WHERE Combined_Key IN ('Taiwan', 'Korea, South') \n",
    "       )\n",
    "       AS tw_kr\n",
    "       JOIN\n",
    "       (\n",
    "           SELECT *\n",
    "             FROM lookup_table\n",
    "            WHERE iso2 IN ('TW', 'SG') \n",
    "       )\n",
    "       AS tw_sg ON tw_kr.Combined_Key = tw_sg.Combined_Key;"
   ]
  },
  {
   "cell_type": "markdown",
   "metadata": {
    "slideshow": {
     "slide_type": "subslide"
    }
   },
   "source": [
    "## In contrast to `JOIN`, the `LEFT JOIN` keyword returns all rows from the left table and display blank rows from the other table if no matching values are found\n",
    "\n",
    "```sql\n",
    "SELECT left_table.columns,\n",
    "       right_table.columns\n",
    "  FROM left_table \n",
    "  LEFT JOIN right_table\n",
    "    ON left_table.join_key = right_table.join_key\n",
    "```"
   ]
  },
  {
   "cell_type": "code",
   "execution_count": 45,
   "metadata": {
    "slideshow": {
     "slide_type": "subslide"
    }
   },
   "outputs": [
    {
     "data": {
      "text/html": [
       "<table>\n",
       "<tr>\n",
       "<th>Combined_Key</th>\n",
       "<th>Confirmed</th>\n",
       "<th>Population</th>\n",
       "</tr>\n",
       "<tr>\n",
       "<td>Korea, South</td>\n",
       "<td>3273449</td>\n",
       "<td>NULL</td>\n",
       "</tr>\n",
       "<tr>\n",
       "<td>Taiwan</td>\n",
       "<td>20489</td>\n",
       "<td>23816775</td>\n",
       "</tr>\n",
       "</table>\n",
       "2 rows in set (0.00 sec)"
      ],
      "text/plain": [
       "+--------------+-----------+------------+\n",
       "| Combined_Key | Confirmed | Population |\n",
       "+--------------+-----------+------------+\n",
       "| Korea, South | 3273449   | NULL       |\n",
       "+--------------+-----------+------------+\n",
       "| Taiwan       | 20489     | 23816775   |\n",
       "+--------------+-----------+------------+\n",
       "2 rows in set (0.00 sec)"
      ]
     },
     "execution_count": 45,
     "metadata": {},
     "output_type": "execute_result"
    }
   ],
   "source": [
    "SELECT tw_kr.Combined_Key,\n",
    "       tw_kr.Confirmed,\n",
    "       tw_sg.Population\n",
    "  FROM (\n",
    "           SELECT *\n",
    "             FROM daily_report\n",
    "            WHERE Combined_Key IN ('Taiwan', 'Korea, South') \n",
    "       )\n",
    "       AS tw_kr\n",
    "       LEFT JOIN\n",
    "       (\n",
    "           SELECT *\n",
    "             FROM lookup_table\n",
    "            WHERE iso2 IN ('TW', 'SG') \n",
    "       )\n",
    "       AS tw_sg ON tw_kr.Combined_Key = tw_sg.Combined_Key;"
   ]
  },
  {
   "cell_type": "markdown",
   "metadata": {
    "slideshow": {
     "slide_type": "subslide"
    }
   },
   "source": [
    "## Other `JOIN` types that are not directly supported by SQLite\n",
    "\n",
    "- `RIGHT JOIN`\n",
    "- `FULL JOIN`"
   ]
  },
  {
   "cell_type": "markdown",
   "metadata": {
    "slideshow": {
     "slide_type": "subslide"
    }
   },
   "source": [
    "## We can perform `RIGHT JOIN` in SQLite by switching left table to right"
   ]
  },
  {
   "cell_type": "code",
   "execution_count": 46,
   "metadata": {},
   "outputs": [
    {
     "data": {
      "text/html": [
       "<table>\n",
       "<tr>\n",
       "<th>Combined_Key</th>\n",
       "<th>Confirmed</th>\n",
       "<th>Population</th>\n",
       "</tr>\n",
       "<tr>\n",
       "<td>Taiwan</td>\n",
       "<td>20489</td>\n",
       "<td>23816775</td>\n",
       "</tr>\n",
       "<tr>\n",
       "<td>NULL</td>\n",
       "<td>NULL</td>\n",
       "<td>5850343</td>\n",
       "</tr>\n",
       "</table>\n",
       "2 rows in set (0.00 sec)"
      ],
      "text/plain": [
       "+--------------+-----------+------------+\n",
       "| Combined_Key | Confirmed | Population |\n",
       "+--------------+-----------+------------+\n",
       "| Taiwan       | 20489     | 23816775   |\n",
       "+--------------+-----------+------------+\n",
       "| NULL         | NULL      | 5850343    |\n",
       "+--------------+-----------+------------+\n",
       "2 rows in set (0.00 sec)"
      ]
     },
     "execution_count": 46,
     "metadata": {},
     "output_type": "execute_result"
    }
   ],
   "source": [
    "SELECT tw_kr.Combined_Key,\n",
    "       tw_kr.Confirmed,\n",
    "       tw_sg.Population\n",
    "  FROM (\n",
    "           SELECT *\n",
    "             FROM lookup_table\n",
    "            WHERE iso2 IN ('TW', 'SG')\n",
    "       )\n",
    "       AS tw_sg\n",
    "       LEFT JOIN\n",
    "       (\n",
    "           SELECT *\n",
    "             FROM daily_report\n",
    "            WHERE Combined_Key IN ('Taiwan', 'Korea, South')\n",
    "       )\n",
    "       AS tw_kr ON tw_kr.Combined_Key = tw_sg.Combined_Key;"
   ]
  },
  {
   "cell_type": "markdown",
   "metadata": {
    "slideshow": {
     "slide_type": "subslide"
    }
   },
   "source": [
    "## Joining tables is like concatenating tables horizontally\n",
    "\n",
    "![Imgur](https://i.imgur.com/hq7fS67.png)\n",
    "\n",
    "Source: [Pandas User Guide](https://pandas.pydata.org/pandas-docs/stable/user_guide/merging.html)"
   ]
  },
  {
   "cell_type": "markdown",
   "metadata": {
    "slideshow": {
     "slide_type": "subslide"
    }
   },
   "source": [
    "## We can also concatenating tables vertically via `UNION` keyword\n",
    "\n",
    "![Imgur](https://i.imgur.com/B7xawvp.png)\n",
    "\n",
    "Source: [Pandas User Guide](https://pandas.pydata.org/pandas-docs/stable/user_guide/merging.html)"
   ]
  },
  {
   "cell_type": "code",
   "execution_count": 47,
   "metadata": {
    "slideshow": {
     "slide_type": "subslide"
    }
   },
   "outputs": [
    {
     "data": {
      "text/html": [
       "<table>\n",
       "<tr>\n",
       "<th>Country_Region</th>\n",
       "<th>iso</th>\n",
       "<th>iso_type</th>\n",
       "</tr>\n",
       "<tr>\n",
       "<td>Afghanistan</td>\n",
       "<td>AF</td>\n",
       "<td>iso2</td>\n",
       "</tr>\n",
       "<tr>\n",
       "<td>Afghanistan</td>\n",
       "<td>AFG</td>\n",
       "<td>iso3</td>\n",
       "</tr>\n",
       "<tr>\n",
       "<td>Albania</td>\n",
       "<td>AL</td>\n",
       "<td>iso2</td>\n",
       "</tr>\n",
       "<tr>\n",
       "<td>Albania</td>\n",
       "<td>ALB</td>\n",
       "<td>iso3</td>\n",
       "</tr>\n",
       "<tr>\n",
       "<td>Algeria</td>\n",
       "<td>DZ</td>\n",
       "<td>iso2</td>\n",
       "</tr>\n",
       "<tr>\n",
       "<td>Algeria</td>\n",
       "<td>DZA</td>\n",
       "<td>iso3</td>\n",
       "</tr>\n",
       "<tr>\n",
       "<td>Andorra</td>\n",
       "<td>AD</td>\n",
       "<td>iso2</td>\n",
       "</tr>\n",
       "<tr>\n",
       "<td>Andorra</td>\n",
       "<td>AND</td>\n",
       "<td>iso3</td>\n",
       "</tr>\n",
       "<tr>\n",
       "<td>Angola</td>\n",
       "<td>AGO</td>\n",
       "<td>iso3</td>\n",
       "</tr>\n",
       "<tr>\n",
       "<td>Angola</td>\n",
       "<td>AO</td>\n",
       "<td>iso2</td>\n",
       "</tr>\n",
       "</table>\n",
       "10 rows in set (0.01 sec)"
      ],
      "text/plain": [
       "+----------------+-----+----------+\n",
       "| Country_Region | iso | iso_type |\n",
       "+----------------+-----+----------+\n",
       "| Afghanistan    | AF  | iso2     |\n",
       "+----------------+-----+----------+\n",
       "| Afghanistan    | AFG | iso3     |\n",
       "+----------------+-----+----------+\n",
       "| Albania        | AL  | iso2     |\n",
       "+----------------+-----+----------+\n",
       "| Albania        | ALB | iso3     |\n",
       "+----------------+-----+----------+\n",
       "| Algeria        | DZ  | iso2     |\n",
       "+----------------+-----+----------+\n",
       "| Algeria        | DZA | iso3     |\n",
       "+----------------+-----+----------+\n",
       "| Andorra        | AD  | iso2     |\n",
       "+----------------+-----+----------+\n",
       "| Andorra        | AND | iso3     |\n",
       "+----------------+-----+----------+\n",
       "| Angola         | AGO | iso3     |\n",
       "+----------------+-----+----------+\n",
       "| Angola         | AO  | iso2     |\n",
       "+----------------+-----+----------+\n",
       "10 rows in set (0.01 sec)"
      ]
     },
     "execution_count": 47,
     "metadata": {},
     "output_type": "execute_result"
    }
   ],
   "source": [
    "SELECT Country_Region,\n",
    "       iso2 AS iso,\n",
    "       'iso2' AS iso_type\n",
    "  FROM lookup_table\n",
    " UNION\n",
    "SELECT Country_Region,\n",
    "       iso3 AS iso,\n",
    "       'iso3' AS iso_type\n",
    "  FROM lookup_table\n",
    " LIMIT 10;"
   ]
  },
  {
   "cell_type": "markdown",
   "metadata": {
    "slideshow": {
     "slide_type": "subslide"
    }
   },
   "source": [
    "## We can perform `FULL JOIN` in SQLite via `UNION`"
   ]
  },
  {
   "cell_type": "code",
   "execution_count": 48,
   "metadata": {},
   "outputs": [
    {
     "data": {
      "text/html": [
       "<table>\n",
       "<tr>\n",
       "<th>Combined_Key</th>\n",
       "<th>Confirmed</th>\n",
       "<th>Population</th>\n",
       "</tr>\n",
       "<tr>\n",
       "<td>NULL</td>\n",
       "<td>NULL</td>\n",
       "<td>5850343</td>\n",
       "</tr>\n",
       "<tr>\n",
       "<td>Korea, South</td>\n",
       "<td>3273449</td>\n",
       "<td>NULL</td>\n",
       "</tr>\n",
       "<tr>\n",
       "<td>Taiwan</td>\n",
       "<td>20489</td>\n",
       "<td>23816775</td>\n",
       "</tr>\n",
       "</table>\n",
       "3 rows in set (0.01 sec)"
      ],
      "text/plain": [
       "+--------------+-----------+------------+\n",
       "| Combined_Key | Confirmed | Population |\n",
       "+--------------+-----------+------------+\n",
       "| NULL         | NULL      | 5850343    |\n",
       "+--------------+-----------+------------+\n",
       "| Korea, South | 3273449   | NULL       |\n",
       "+--------------+-----------+------------+\n",
       "| Taiwan       | 20489     | 23816775   |\n",
       "+--------------+-----------+------------+\n",
       "3 rows in set (0.01 sec)"
      ]
     },
     "execution_count": 48,
     "metadata": {},
     "output_type": "execute_result"
    }
   ],
   "source": [
    "SELECT tw_kr.Combined_Key,\n",
    "       tw_kr.Confirmed,\n",
    "       tw_sg.Population\n",
    "  FROM (\n",
    "           SELECT *\n",
    "             FROM daily_report\n",
    "            WHERE Combined_Key IN ('Taiwan', 'Korea, South') \n",
    "       )\n",
    "       AS tw_kr\n",
    "       LEFT JOIN\n",
    "       (\n",
    "           SELECT *\n",
    "             FROM lookup_table\n",
    "            WHERE iso2 IN ('TW', 'SG') \n",
    "       )\n",
    "       AS tw_sg ON tw_kr.Combined_Key = tw_sg.Combined_Key\n",
    " UNION\n",
    "SELECT tw_kr.Combined_Key,\n",
    "       tw_kr.Confirmed,\n",
    "       tw_sg.Population\n",
    "  FROM (\n",
    "           SELECT *\n",
    "             FROM lookup_table\n",
    "            WHERE iso2 IN ('TW', 'SG')\n",
    "       )\n",
    "       AS tw_sg\n",
    "       LEFT JOIN\n",
    "       (\n",
    "           SELECT *\n",
    "             FROM daily_report\n",
    "            WHERE Combined_Key IN ('Taiwan', 'Korea, South')\n",
    "       )\n",
    "       AS tw_kr ON tw_kr.Combined_Key = tw_sg.Combined_Key;"
   ]
  },
  {
   "cell_type": "markdown",
   "metadata": {
    "slideshow": {
     "slide_type": "subslide"
    }
   },
   "source": [
    "## Putting what we have so far all together\n",
    "\n",
    "SQL is about the order of keywords, so follow this convention:\n",
    "\n",
    "```sql\n",
    "SELECT column_names,\n",
    "       CASE WHEN conditions THEN result\n",
    "            ...\n",
    "            ELSE result_else END AS alias\n",
    "  FROM left_table\n",
    "  JOIN right_table\n",
    "    ON table_name.join_key = right_table.join_key\n",
    " WHERE conditions\n",
    " GROUP BY column_names\n",
    "HAVING aggregated_conditions\n",
    " UNION ...\n",
    " ORDER BY column_names\n",
    " LIMIT n;\n",
    "```"
   ]
  }
 ],
 "metadata": {
  "celltoolbar": "Slideshow",
  "kernelspec": {
   "display_name": "xsql",
   "language": "sqlite",
   "name": "xsql"
  },
  "language_info": {
   "codemirror_mode": "sql",
   "file_extension": "",
   "mimetype": "",
   "name": "mysql",
   "version": "0.1.4"
  }
 },
 "nbformat": 4,
 "nbformat_minor": 4
}
